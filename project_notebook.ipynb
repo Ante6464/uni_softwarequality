{
 "cells": [
  {
   "metadata": {
    "collapsed": true,
    "ExecuteTime": {
     "end_time": "2024-12-09T20:41:07.352180Z",
     "start_time": "2024-12-09T20:41:06.974330Z"
    }
   },
   "cell_type": "code",
   "source": [
    "import pickle\n",
    "import pandas as pd\n",
    "\n",
    "with open('machine_translation.pkl', 'rb') as f:\n",
    "    # Einlesen der Datei\n",
    "    data = pickle.load(f)\n",
    "\n",
    "print(data)"
   ],
   "id": "initial_id",
   "outputs": [
    {
     "name": "stdout",
     "output_type": "stream",
     "text": [
      "    complexity                                        text_german  \\\n",
      "0         easy  Felix hat es satt: Ständig ist Mama unterwegs....   \n",
      "1     news_gen  Die rund 1.400 eingesetzten Beamten haben demn...   \n",
      "2    news_spec  Der Staatschef hat zugleich aber das Recht, vo...   \n",
      "3  pop_science  Dass der Klimawandel die Hitzewellen in Südasi...   \n",
      "4      science  Der DSA-110, der sich am Owens Valley Radio Ob...   \n",
      "\n",
      "                                        text_english  \n",
      "0  Felix is fed up: Mom is always on the go. But ...  \n",
      "1  The approximately 1,400 deployed officers have...  \n",
      "2  The head of state also has the right to appoin...  \n",
      "3  There is no question that climate change is in...  \n",
      "4  The DSA-110, situated at the Owens Valley Radi...  \n"
     ]
    }
   ],
   "execution_count": 1
  },
  {
   "metadata": {},
   "cell_type": "code",
   "source": "",
   "id": "f405f223c94046c3",
   "outputs": [],
   "execution_count": null
  }
 ],
 "metadata": {
  "kernelspec": {
   "display_name": "Python 3",
   "language": "python",
   "name": "python3"
  },
  "language_info": {
   "codemirror_mode": {
    "name": "ipython",
    "version": 2
   },
   "file_extension": ".py",
   "mimetype": "text/x-python",
   "name": "python",
   "nbconvert_exporter": "python",
   "pygments_lexer": "ipython2",
   "version": "2.7.6"
  }
 },
 "nbformat": 4,
 "nbformat_minor": 5
}
