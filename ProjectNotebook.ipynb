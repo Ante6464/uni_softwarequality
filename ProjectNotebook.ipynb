{
 "cells": [
  {
   "metadata": {},
   "cell_type": "markdown",
   "source": "# Jupyter Notebook for Project \"Comparison of LLM Prompting Techniques\"",
   "id": "872549f55a437d8a"
  },
  {
   "metadata": {
    "ExecuteTime": {
     "end_time": "2025-02-02T10:56:27.525147Z",
     "start_time": "2025-02-02T10:56:24.114791Z"
    }
   },
   "cell_type": "code",
   "source": [
    "import pandas as pd\n",
    "import mlflow\n",
    "import mlflow.pyfunc\n",
    "import sacrebleu\n",
    "from llama_cpp import Llama\n",
    "import time\n"
   ],
   "id": "d7cb373e19f3872c",
   "outputs": [],
   "execution_count": 1
  },
  {
   "metadata": {},
   "cell_type": "markdown",
   "source": [
    "## 1 Data Loading\n",
    "In the first step we import the given translations as pandas Dataframes and print a quick overview of the dataframe."
   ],
   "id": "84eebb77e3f61e83"
  },
  {
   "metadata": {
    "ExecuteTime": {
     "end_time": "2025-02-02T10:56:27.567943Z",
     "start_time": "2025-02-02T10:56:27.549155Z"
    }
   },
   "cell_type": "code",
   "source": [
    "data = pd.read_pickle('machine_translation.pkl')\n",
    "data"
   ],
   "id": "31214ca44be7863b",
   "outputs": [
    {
     "data": {
      "text/plain": [
       "    complexity                                        text_german  \\\n",
       "0         easy  Felix hat es satt: Ständig ist Mama unterwegs....   \n",
       "1     news_gen  Die rund 1.400 eingesetzten Beamten haben demn...   \n",
       "2    news_spec  Der Staatschef hat zugleich aber das Recht, vo...   \n",
       "3  pop_science  Dass der Klimawandel die Hitzewellen in Südasi...   \n",
       "4      science  Der DSA-110, der sich am Owens Valley Radio Ob...   \n",
       "\n",
       "                                        text_english  \n",
       "0  Felix is fed up: Mom is always on the go. But ...  \n",
       "1  The approximately 1,400 deployed officers have...  \n",
       "2  The head of state also has the right to appoin...  \n",
       "3  There is no question that climate change is in...  \n",
       "4  The DSA-110, situated at the Owens Valley Radi...  "
      ],
      "text/html": [
       "<div>\n",
       "<style scoped>\n",
       "    .dataframe tbody tr th:only-of-type {\n",
       "        vertical-align: middle;\n",
       "    }\n",
       "\n",
       "    .dataframe tbody tr th {\n",
       "        vertical-align: top;\n",
       "    }\n",
       "\n",
       "    .dataframe thead th {\n",
       "        text-align: right;\n",
       "    }\n",
       "</style>\n",
       "<table border=\"1\" class=\"dataframe\">\n",
       "  <thead>\n",
       "    <tr style=\"text-align: right;\">\n",
       "      <th></th>\n",
       "      <th>complexity</th>\n",
       "      <th>text_german</th>\n",
       "      <th>text_english</th>\n",
       "    </tr>\n",
       "  </thead>\n",
       "  <tbody>\n",
       "    <tr>\n",
       "      <th>0</th>\n",
       "      <td>easy</td>\n",
       "      <td>Felix hat es satt: Ständig ist Mama unterwegs....</td>\n",
       "      <td>Felix is fed up: Mom is always on the go. But ...</td>\n",
       "    </tr>\n",
       "    <tr>\n",
       "      <th>1</th>\n",
       "      <td>news_gen</td>\n",
       "      <td>Die rund 1.400 eingesetzten Beamten haben demn...</td>\n",
       "      <td>The approximately 1,400 deployed officers have...</td>\n",
       "    </tr>\n",
       "    <tr>\n",
       "      <th>2</th>\n",
       "      <td>news_spec</td>\n",
       "      <td>Der Staatschef hat zugleich aber das Recht, vo...</td>\n",
       "      <td>The head of state also has the right to appoin...</td>\n",
       "    </tr>\n",
       "    <tr>\n",
       "      <th>3</th>\n",
       "      <td>pop_science</td>\n",
       "      <td>Dass der Klimawandel die Hitzewellen in Südasi...</td>\n",
       "      <td>There is no question that climate change is in...</td>\n",
       "    </tr>\n",
       "    <tr>\n",
       "      <th>4</th>\n",
       "      <td>science</td>\n",
       "      <td>Der DSA-110, der sich am Owens Valley Radio Ob...</td>\n",
       "      <td>The DSA-110, situated at the Owens Valley Radi...</td>\n",
       "    </tr>\n",
       "  </tbody>\n",
       "</table>\n",
       "</div>"
      ]
     },
     "execution_count": 2,
     "metadata": {},
     "output_type": "execute_result"
    }
   ],
   "execution_count": 2
  },
  {
   "metadata": {
    "ExecuteTime": {
     "end_time": "2025-02-02T10:56:28.105596Z",
     "start_time": "2025-02-02T10:56:28.090907Z"
    }
   },
   "cell_type": "code",
   "source": [
    "data_info = pd.DataFrame()\n",
    "data_info['complexity'] = data['complexity']\n",
    "data_info['text_german_length'] = data['text_german'].str.len()\n",
    "data_info['text_english_length'] = data['text_english'].str.len()\n",
    "data_info"
   ],
   "id": "f378daff85fa7954",
   "outputs": [
    {
     "data": {
      "text/plain": [
       "    complexity  text_german_length  text_english_length\n",
       "0         easy                 485                  415\n",
       "1     news_gen                 296                  280\n",
       "2    news_spec                 518                  484\n",
       "3  pop_science                 542                  521\n",
       "4      science                1003                  827"
      ],
      "text/html": [
       "<div>\n",
       "<style scoped>\n",
       "    .dataframe tbody tr th:only-of-type {\n",
       "        vertical-align: middle;\n",
       "    }\n",
       "\n",
       "    .dataframe tbody tr th {\n",
       "        vertical-align: top;\n",
       "    }\n",
       "\n",
       "    .dataframe thead th {\n",
       "        text-align: right;\n",
       "    }\n",
       "</style>\n",
       "<table border=\"1\" class=\"dataframe\">\n",
       "  <thead>\n",
       "    <tr style=\"text-align: right;\">\n",
       "      <th></th>\n",
       "      <th>complexity</th>\n",
       "      <th>text_german_length</th>\n",
       "      <th>text_english_length</th>\n",
       "    </tr>\n",
       "  </thead>\n",
       "  <tbody>\n",
       "    <tr>\n",
       "      <th>0</th>\n",
       "      <td>easy</td>\n",
       "      <td>485</td>\n",
       "      <td>415</td>\n",
       "    </tr>\n",
       "    <tr>\n",
       "      <th>1</th>\n",
       "      <td>news_gen</td>\n",
       "      <td>296</td>\n",
       "      <td>280</td>\n",
       "    </tr>\n",
       "    <tr>\n",
       "      <th>2</th>\n",
       "      <td>news_spec</td>\n",
       "      <td>518</td>\n",
       "      <td>484</td>\n",
       "    </tr>\n",
       "    <tr>\n",
       "      <th>3</th>\n",
       "      <td>pop_science</td>\n",
       "      <td>542</td>\n",
       "      <td>521</td>\n",
       "    </tr>\n",
       "    <tr>\n",
       "      <th>4</th>\n",
       "      <td>science</td>\n",
       "      <td>1003</td>\n",
       "      <td>827</td>\n",
       "    </tr>\n",
       "  </tbody>\n",
       "</table>\n",
       "</div>"
      ]
     },
     "execution_count": 3,
     "metadata": {},
     "output_type": "execute_result"
    }
   ],
   "execution_count": 3
  },
  {
   "metadata": {
    "ExecuteTime": {
     "end_time": "2025-02-02T10:56:28.157726Z",
     "start_time": "2025-02-02T10:56:28.153163Z"
    }
   },
   "cell_type": "code",
   "source": [
    "from enum import Enum\n",
    "\n",
    "\n",
    "class Language(Enum):\n",
    "    ENGLISH = 'English'\n",
    "    GERMAN = 'German'\n",
    "\n",
    "\n",
    "class Complexity(Enum):\n",
    "    EASY = 'easy'\n",
    "    NEWS_GEN = 'news_gen'\n",
    "    NEWS_SPEC = 'news_spec'\n",
    "    POP_SCIENCE = 'pop_science'\n",
    "    SCIENCE = 'science'\n",
    "\n",
    "\n",
    "ALL_COMPLEXITIES = list(Complexity)"
   ],
   "id": "323c0bdb3ca88317",
   "outputs": [],
   "execution_count": 4
  },
  {
   "metadata": {},
   "cell_type": "markdown",
   "source": [
    "***\n",
    "## 2 Model Loading\n",
    "In the second step we import the AI-Models which are given in the specified task. For doing so we use the `llama-cpp-python` library (further documentation can be found [here](https://github.com/abetlen/llama-cpp-python)) and import the models directly from [huggingface](https://huggingface.co/).\n",
    "\n",
    "Quick overview and installation guide of llama.cpp:\n",
    "- https://www.datacamp.com/tutorial/llama-cpp-tutorial\n",
    "- https://christophergs.com/blog/running-open-source-llms-in-python"
   ],
   "id": "da93308612340266"
  },
  {
   "metadata": {
    "ExecuteTime": {
     "end_time": "2025-02-02T10:56:28.252659Z",
     "start_time": "2025-02-02T10:56:28.248751Z"
    }
   },
   "cell_type": "code",
   "source": [
    "# Configuration of the models\n",
    "MODELS = {\n",
    "    'gemma': {\n",
    "        'repo_id': 'lmstudio-ai/gemma-2b-it-GGUF',\n",
    "        'filename': 'gemma-2b-it-q8_0.gguf',\n",
    "    },\n",
    "    'llama32': {\n",
    "        'repo_id': 'hugging-quants/Llama-3.2-3B-Instruct-Q8_0-GGUF',\n",
    "        'filename': 'llama-3.2-3b-instruct-q8_0.gguf',\n",
    "    },\n",
    "    'llama31': {\n",
    "        'repo_id': 'lmstudio-community/Meta-Llama-3.1-8B-Instruct-GGUF',\n",
    "        'filename': 'Meta-Llama-3.1-8B-Instruct-Q5_K_M.gguf',\n",
    "    },\n",
    "    #'aya23': {\n",
    "    #    'repo_id': 'bartowski/aya-23-35B-GGUF',\n",
    "    #    'filename': 'aya-23-35B-Q5_K_M.gguf',\n",
    "    #},\n",
    "}"
   ],
   "id": "d41d93f0a2545265",
   "outputs": [],
   "execution_count": 5
  },
  {
   "metadata": {
    "ExecuteTime": {
     "end_time": "2025-02-02T10:56:28.298477Z",
     "start_time": "2025-02-02T10:56:28.294131Z"
    }
   },
   "cell_type": "code",
   "source": [
    "def create_llama_model(repo_id, filename, n_ctx=None):\n",
    "    try:\n",
    "        if n_ctx is None:\n",
    "            # default of llama_cpp\n",
    "            n_ctx = 512\n",
    "        if repo_id is not None and filename is not None:\n",
    "            model = Llama.from_pretrained(\n",
    "                repo_id=repo_id,\n",
    "                filename=filename,\n",
    "                n_ctx=n_ctx,\n",
    "                # n_gpu_layers=n_gpu_layers,\n",
    "                #n_threads=8,\n",
    "                verbose=False,\n",
    "            )\n",
    "            print(f\"Model {repo_id} erfolgreich geladen mit n_ctx={n_ctx}\")\n",
    "            return model\n",
    "        else:\n",
    "            return None\n",
    "    except Exception as e:\n",
    "        print(f\"Fehler beim Laden von {filename}: {e}\")\n",
    "        return None"
   ],
   "id": "3c03d17b6bc17b83",
   "outputs": [],
   "execution_count": 6
  },
  {
   "metadata": {},
   "cell_type": "markdown",
   "source": "***",
   "id": "464c36e55f18159"
  },
  {
   "metadata": {},
   "cell_type": "markdown",
   "source": [
    "## 3 Pipeline\n",
    "\n",
    "### 3.1 Model Interaction"
   ],
   "id": "8f91fc96f9d5591e"
  },
  {
   "metadata": {
    "ExecuteTime": {
     "end_time": "2025-02-02T10:56:28.376797Z",
     "start_time": "2025-02-02T10:56:28.372802Z"
    }
   },
   "cell_type": "code",
   "source": [
    "def translate(model, prompt, reference_translation):\n",
    "    # we estimate the needed max_tokens based on the tokenized prompt and reference_translation\n",
    "    token_length_ref = len(model.tokenize(reference_translation.encode('utf-8')))\n",
    "    token_length_prompt = len(model.tokenize(prompt.encode('utf-8')))\n",
    "    # the model should not need more tokens than this\n",
    "    estimated_max_tokens = (token_length_prompt + token_length_ref) * 1.5\n",
    "\n",
    "    response = model(prompt, max_tokens=estimated_max_tokens, echo=False)\n",
    "    # print(response['choices'][0]['text'])\n",
    "    return response['choices'][0]['text']"
   ],
   "id": "6420297102cf617f",
   "outputs": [],
   "execution_count": 7
  },
  {
   "metadata": {},
   "cell_type": "markdown",
   "source": [
    "### 3.2 Metrics Calculation\n",
    "[GitHub Repo to MetricX](https://github.com/google-research/metricx)"
   ],
   "id": "524f90bdcc56ab38"
  },
  {
   "metadata": {
    "ExecuteTime": {
     "end_time": "2025-02-02T10:56:28.436610Z",
     "start_time": "2025-02-02T10:56:28.428596Z"
    }
   },
   "cell_type": "code",
   "source": [
    "import subprocess\n",
    "import json\n",
    "import os\n",
    "\n",
    "\n",
    "def calculate_metricx_score(source, reference, hypothesis):\n",
    "    '''\n",
    "    Calculates the MetricX-score based on source, reference, and hypothesis using metricx24.\n",
    "    We are currently using the metricx-24-hybrid-large-v2p6-bfloat16 model but there are also other options\n",
    "        as can be seen here: https://github.com/google-research/metricx\n",
    "\n",
    "    Args:\n",
    "        source: The source text (String).\n",
    "        reference: The reference translation (String).\n",
    "        hypothesis: The hypothesis translation (String).\n",
    "\n",
    "    Returns:\n",
    "        The calculated score as a float or None in case of an error.\n",
    "    '''\n",
    "\n",
    "    data = [{'id': '1', 'source': source, 'reference': reference, 'hypothesis': hypothesis}]\n",
    "\n",
    "    # Create temporary JSONL files\n",
    "    input_file = './temp_input.jsonl'\n",
    "    output_file = './temp_output.jsonl'\n",
    "    model = 'google/metricx-24-hybrid-large-v2p6-bfloat16'\n",
    "\n",
    "    try:\n",
    "        with open(input_file, 'w', encoding='utf-8') as f:\n",
    "            for entry in data:\n",
    "                json.dump(entry, f)\n",
    "                f.write('\\n')\n",
    "\n",
    "        command = [\n",
    "            'python', '-m', 'metricx24.predict',\n",
    "            '--tokenizer', 'google/mt5-xl',\n",
    "            '--model_name_or_path', model,\n",
    "            '--max_input_length', '1536',\n",
    "            '--batch_size', '1',\n",
    "            '--input_file', input_file,\n",
    "            '--output_file', output_file\n",
    "        ]\n",
    "\n",
    "        process = subprocess.Popen(\n",
    "            command,\n",
    "            stdout=subprocess.PIPE,\n",
    "            stderr=subprocess.PIPE,\n",
    "            text=True,\n",
    "            bufsize=1,\n",
    "            universal_newlines=True\n",
    "        )\n",
    "\n",
    "        # Capture output and errors (optional, can be useful for debugging)\n",
    "        #for line in process.stdout:\n",
    "        #    print(line, end='')\n",
    "        #for line in process.stderr:\n",
    "        #    print(f'ERROR: {line}', end='')\n",
    "\n",
    "        process.wait()\n",
    "\n",
    "        if process.returncode != 0:\n",
    "            print(f'Error executing metricx24. Return code: {process.returncode}')\n",
    "            return None\n",
    "\n",
    "        # Read score from the output file\n",
    "        with open(output_file, 'r', encoding='utf-8') as f:\n",
    "            for line in f:\n",
    "                try:\n",
    "                    output_data = json.loads(line)\n",
    "                    score = float(output_data.get('prediction'))  # Ensure that 'score' exists\n",
    "                    return score\n",
    "                except (json.JSONDecodeError, ValueError, AttributeError):\n",
    "                    print('Error parsing the output file.')\n",
    "                    return None\n",
    "\n",
    "        return None  # If no valid line was found in the output file\n",
    "\n",
    "    finally:\n",
    "        # Remove temporary files\n",
    "        try:\n",
    "            os.remove(input_file)\n",
    "            os.remove(output_file)\n",
    "        except FileNotFoundError:\n",
    "            pass  #If the files don't exist for some reason, the error is caught\n",
    "\n",
    "\n"
   ],
   "id": "969f3b0640a2fdf0",
   "outputs": [],
   "execution_count": 8
  },
  {
   "metadata": {
    "ExecuteTime": {
     "end_time": "2025-02-02T10:56:29.896419Z",
     "start_time": "2025-02-02T10:56:28.474463Z"
    }
   },
   "cell_type": "code",
   "source": [
    "from rouge_score import rouge_scorer\n",
    "\n",
    "\n",
    "def evaluate_translation(source, reference, hypothesis):\n",
    "    # Note that BLEU and chrF Scores can only be between 0 and 100\n",
    "    #    but sacreblue returns floats as percentage values\n",
    "    # --> so the scores are between 0 and 100)\n",
    "    bleu_score = sacrebleu.corpus_bleu([hypothesis], [[reference]]).score\n",
    "    chrf_score = sacrebleu.corpus_chrf([hypothesis], [[reference]]).score\n",
    "\n",
    "    metricx_score = calculate_metricx_score(source, reference, hypothesis)\n",
    "    if metricx_score is None:\n",
    "        metricx_score = -1\n",
    "\n",
    "    rougel_scorer = rouge_scorer.RougeScorer(['rougeL'], use_stemmer=True)\n",
    "    rougel_score = rougel_scorer.score(reference, hypothesis)\n",
    "\n",
    "    return {'BLEU': bleu_score,\n",
    "            'chrF': chrf_score,\n",
    "            'rougeL': (rougel_score['rougeL'].fmeasure * 100),\n",
    "            'MetricX': metricx_score}\n"
   ],
   "id": "b2db81cb89d1a90e",
   "outputs": [],
   "execution_count": 9
  },
  {
   "metadata": {
    "ExecuteTime": {
     "end_time": "2025-02-02T10:56:29.904465Z",
     "start_time": "2025-02-02T10:56:29.900422Z"
    }
   },
   "cell_type": "code",
   "source": "#evaluate_translation(\"Felix hat es satt: Ständig ist Mama unterwegs. Doch warum das so ist, will ihm niemand verraten. Für Felix ist daher klar: Seine Mutter ist eine Geheimagentin. Als er an seinem zehnten Geburtstag einen rätselhaften Brief erhält, scheint sich seine Vermutung zu bestätigen. Zusammen mit seiner besten Freundin Lina macht er sich daran, das Geheimnis um Mamas Arbeit zu lüften. Ehe sie sich versehen, stecken die beiden mitten in ihrem ersten spannenden Fall als angehende Geheimagenten.\", \"Felix is fed up: Mom is always on the go. But nobody will tell him why that is. For Felix, it's clear: his mother is a secret agent. When he receives a mysterious letter on his tenth birthday, his suspicion seems to be confirmed. Together with his best friend Lina, he sets out to uncover the secret of mom's job. Before they know it, the two are in the middle of their first exciting case as budding secret agents.\", \"\\n\\n**English Translation:**\\n\\nFelix had sat: Mama was constantly on the go. But why this is the case, no one will tell him. Therefore, clear to Felix: his mother is a covert agent. When he receives a cryptic letter on his eleventh birthday, it seems his suspicion is confirmed. Together with his best friend Lina, he starts unraveling the mystery of his mother's job. When they finally manage to solve the case, they stick to their first exciting clue like detectives.\")",
   "id": "3cf725633e2ed7e8",
   "outputs": [],
   "execution_count": 10
  },
  {
   "metadata": {},
   "cell_type": "markdown",
   "source": "### 3.3 Logging to MLFLow",
   "id": "850ab5dc61d6bfd0"
  },
  {
   "metadata": {
    "ExecuteTime": {
     "end_time": "2025-02-02T10:56:29.918660Z",
     "start_time": "2025-02-02T10:56:29.913674Z"
    }
   },
   "cell_type": "code",
   "source": [
    "def log_to_mlflow(experiment_name, template_name, metrics, prompt_type, model_name, complexity, target_language, tmp_result,\n",
    "                  prompt_language):\n",
    "    experiment = mlflow.get_experiment_by_name(experiment_name)\n",
    "\n",
    "    if experiment:\n",
    "        if experiment.lifecycle_stage == 'deleted':\n",
    "            mlflow.tracking.MlflowClient().restore_experiment(experiment.experiment_id)\n",
    "            #mlflow.delete_experiment(experiment.experiment_id)\n",
    "    else:\n",
    "        mlflow.create_experiment(experiment_name)\n",
    "\n",
    "    mlflow.set_experiment(experiment_name)\n",
    "    with mlflow.start_run(run_name=f'{model_name}/{complexity}/{template_name}'):\n",
    "        mlflow.log_param('model', model_name)\n",
    "        mlflow.log_param('complexity', complexity)\n",
    "        mlflow.log_param('prompt_type', prompt_type)\n",
    "        mlflow.log_param('target_language', target_language)\n",
    "        mlflow.log_param('prompt_language', prompt_language)\n",
    "        for key, value in metrics.items():\n",
    "            mlflow.log_metric(key, value)\n",
    "\n",
    "        tmp_result.to_json('tmp_results.json', index=False)\n",
    "        mlflow.log_artifact('tmp_results.json')\n",
    "        mlflow.end_run()\n"
   ],
   "id": "ea6b2fc077799b49",
   "outputs": [],
   "execution_count": 11
  },
  {
   "metadata": {},
   "cell_type": "markdown",
   "source": "### 3.4 Pipeline Composition",
   "id": "525e76790b8b3239"
  },
  {
   "metadata": {
    "ExecuteTime": {
     "end_time": "2025-02-02T10:56:29.938476Z",
     "start_time": "2025-02-02T10:56:29.928117Z"
    }
   },
   "cell_type": "code",
   "source": [
    "import gc\n",
    "\n",
    "\n",
    "def run_pipeline(texts):\n",
    "    results = pd.DataFrame(\n",
    "        columns=['model', 'complexity', 'prompt_type', 'prompt', 'source_text', 'hypothesis', 'reference', 'metrics',\n",
    "                 'prompt_language'])\n",
    "    mlflow.set_tracking_uri(uri='http://127.0.0.1:5000')\n",
    "\n",
    "    for model_name, model_config in MODELS.items():\n",
    "        for _, row in texts.iterrows():\n",
    "            model = createModel(model_config, row)\n",
    "            complexity_enum = next(c for c in Complexity if c.value == row['complexity'])\n",
    "\n",
    "            # Übersetzung Deutsch -> Englisch\n",
    "            for template_name, template_data in PROMPT_TEMPLATES_GERMAN_ENGLISH.items():\n",
    "                if pd.notna(row['text_german']) and complexity_enum in template_data['complexities']:\n",
    "                    results = execute_mlflow_run(template_name, complexity_enum.value, model, model_name, Language.ENGLISH, results,\n",
    "                                                 row['text_german'], row['text_english'], template_data)\n",
    "\n",
    "            # Übersetzung Englisch -> Deutsch\n",
    "            for template_name, template_data in PROMPT_TEMPLATES_ENGLISH_GERMAN.items():\n",
    "                if pd.notna(row['text_english']) and complexity_enum in template_data['complexities']:\n",
    "                    results = execute_mlflow_run(template_name, complexity_enum.value, model, model_name, Language.GERMAN, results,\n",
    "                                                 row['text_english'], row['text_german'], template_data)\n",
    "\n",
    "            # we dont need the model anymore so we delete it\n",
    "            del model\n",
    "            gc.collect()\n",
    "    return results\n",
    "\n",
    "\n",
    "def createModel(model_config, row):\n",
    "    # at first we just use the dummyModel for tokenization\n",
    "    dummyModel = create_llama_model(model_config['repo_id'], model_config['filename'])\n",
    "    combined_text = f\"{row['text_german']} {row['text_english']}\"\n",
    "    text_tokens = len(dummyModel.tokenize(combined_text.encode('utf-8')))\n",
    "    # we want to tokenize the longest template\n",
    "    max_promp_template = max(\n",
    "        (t['template'] for d in (PROMPT_TEMPLATES_GERMAN_ENGLISH, PROMPT_TEMPLATES_ENGLISH_GERMAN) for t in d.values()),\n",
    "        key=len)\n",
    "    prompt_tokens = len(dummyModel.tokenize(max_promp_template.encode('utf-8')))\n",
    "\n",
    "    # now we delete the dummyModel and then create the final model based on the estimated_max_tokens\n",
    "    del dummyModel\n",
    "    gc.collect()\n",
    "    estimated_max_tokens = (text_tokens + prompt_tokens) * 1.5\n",
    "    n_ctx = int(estimated_max_tokens * 1.1)\n",
    "    print(f\"estimated_max_tokens: {estimated_max_tokens}; n_ctx: {n_ctx}\")\n",
    "    model = create_llama_model(model_config['repo_id'], model_config['filename'], n_ctx=n_ctx)\n",
    "    return model\n",
    "\n",
    "\n",
    "def execute_mlflow_run(template_name, complexity, model, model_name, target_language: Language, results, source_text,\n",
    "                       reference_text, template_data):\n",
    "    prompt = template_data['template'].format(text=source_text)\n",
    "    prompt_language = template_data['prompt_language']\n",
    "    prompt_type = template_data['prompt_type']\n",
    "\n",
    "    start_time_translation = time.time()\n",
    "    hypothesis = translate(model, prompt, reference_text)\n",
    "    end_time_translation = time.time()\n",
    "    print('Prompt finished in (seconds): ', round(end_time_translation - start_time_translation, 2))\n",
    "    metrics = evaluate_translation(source=source_text, reference=reference_text, hypothesis=hypothesis)\n",
    "    print('Metric Calculation in (seconds): ', round(time.time() - end_time_translation, 2))\n",
    "\n",
    "    tmp_result = pd.DataFrame([{\n",
    "        'model': model_name,\n",
    "        'complexity': complexity,\n",
    "        'prompt_type': prompt_type,\n",
    "        'prompt': prompt,\n",
    "        'source_text': source_text,\n",
    "        'hypothesis': hypothesis,\n",
    "        'reference_text': reference_text,\n",
    "        'metrics': metrics,\n",
    "        'prompt_language': prompt_language.value  # Hier .value für den Stringwert\n",
    "    }])\n",
    "\n",
    "    # MLflow-Logging\n",
    "    experiment_name = f'{model_name}_{complexity}'\n",
    "\n",
    "    log_to_mlflow(experiment_name, template_name, metrics, prompt_type, model_name, complexity, target_language.value, tmp_result,\n",
    "                  prompt_language.value)\n",
    "\n",
    "    # Ergebnis speichern\n",
    "    results = pd.concat([\n",
    "        results,\n",
    "        tmp_result\n",
    "    ], ignore_index=True)\n",
    "    return results"
   ],
   "id": "961cb868381bd8a6",
   "outputs": [],
   "execution_count": 12
  },
  {
   "metadata": {},
   "cell_type": "markdown",
   "source": "### 3.5 Prompt Composition\n",
   "id": "c1d3b0fe8482b687"
  },
  {
   "metadata": {
    "ExecuteTime": {
     "end_time": "2025-02-02T10:56:29.954443Z",
     "start_time": "2025-02-02T10:56:29.948967Z"
    }
   },
   "cell_type": "code",
   "source": [
    "# Beispiel für ausgewählte complexities: 'complexities': [Complexity.EASY, Complexity.NEWS_GEN]\n",
    "\n",
    "PROMPT_TEMPLATES_ENGLISH_GERMAN = {\n",
    "    'zero_shot_style_persona_reread_to-de_en_1': {\n",
    "         'template': 'Imagine you are a professional translator with years of experience. Your specialty is to translate texts from one language into another precisely and while maintaining the original tone, using direct translations. Your task is to translate the following English text into German without asking any questions or providing further explanations: \\\"{text}\\\" Now read the instruction again: Imagine you are a professional translator with years of experience. Your specialty is to translate texts from one language into another precisely and while maintaining the original tone, using direct translations. Your task is to translate the English text into German without asking any questions or providing further explanations.',\n",
    "         'prompt_language': Language.ENGLISH,\n",
    "         'prompt_type': 'zero_shot_style_persona_reread',\n",
    "         'complexities': ALL_COMPLEXITIES\n",
    "    },\n",
    "    'zero_shot_style_persona_reread_to-de_de_1': {\n",
    "        'template': 'Stell dir vor, du bist ein professioneller Übersetzer mit jahrelanger Erfahrung. Deine Spezialität ist es, Texte mithilfe von direkten Übersetzungen präzise und unter Beibehaltung des ursprünglichen Tons von einer Sprache in eine andere zu übertragen. Deine Aufgabe ist es, ohne Rückfragen oder weiterführende Erklärungen den folgenden englischen Text ins Deutsche zu übersetzen: \\\"{text}\\\" Lies dir die Anweisung jetzt nochmal durch: Stell dir vor, du bist ein professioneller Übersetzer mit jahrelanger Erfahrung. Deine Spezialität ist es, Texte mithilfe von direkten Übersetzungen präzise und unter Beibehaltung des ursprünglichen Tons von einer Sprache in eine andere zu übertragen. Deine Aufgabe ist es, ohne Rückfragen oder weiterführende Erklärungen den englischen Text ins Deutsche zu übersetzen.',\n",
    "        'prompt_language': Language.GERMAN,\n",
    "        'prompt_type': 'zero_shot_style_persona_reread',\n",
    "        'complexities': ALL_COMPLEXITIES\n",
    "    },\n",
    "    # ... weitere Einträge\n",
    "}\n",
    "\n",
    "PROMPT_TEMPLATES_GERMAN_ENGLISH = {\n",
    "    'zero_shot_style_persona_reread_to-en_en_1': {\n",
    "        'template': 'Imagine you are a professional translator with years of experience. Your specialty is to translate texts from one language into another precisely and while maintaining the original tone, using direct translations. Your task is to translate the following German text into English without asking any questions or providing further explanations: \\\"{text}\\\" Now read the instruction again: Imagine you are a professional translator with years of experience. Your specialty is to translate texts from one language into another precisely and while maintaining the original tone, using direct translations. Your task is to translate the German text into English without asking any questions or providing further explanations.',\n",
    "        'prompt_language': Language.ENGLISH,\n",
    "        'prompt_type': 'zero_shot_style_persona_reread',\n",
    "         'complexities': ALL_COMPLEXITIES\n",
    "    },\n",
    "    'zero_shot_style_persona_reread_to-en_de_1': {\n",
    "        'template': 'Stell dir vor, du bist ein professioneller Übersetzer mit jahrelanger Erfahrung. Deine Spezialität ist es, Texte mithilfe von direkten Übersetzungen präzise und unter Beibehaltung des ursprünglichen Tons von einer Sprache in eine andere zu übertragen. Deine Aufgabe ist es, ohne Rückfragen oder weiterführende Erklärungen den folgenden deutschen Text ins Englische zu übersetzen: \\\"{text}\\\" Lies dir die Anweisung jetzt nochmal durch: Stell dir vor, du bist ein professioneller Übersetzer mit jahrelanger Erfahrung. Deine Spezialität ist es, Texte mithilfe von direkten Übersetzungen präzise und unter Beibehaltung des ursprünglichen Tons von einer Sprache in eine andere zu übertragen. Deine Aufgabe ist es, ohne Rückfragen oder weiterführende Erklärungen den deutschen Text ins Englische zu übersetzen.',\n",
    "        'prompt_language': Language.GERMAN,\n",
    "        'prompt_type': 'zero_shot_style_persona_reread',\n",
    "        'complexities': ALL_COMPLEXITIES\n",
    "    },\n",
    "    # ...\n",
    "}"
   ],
   "id": "fbda21553c9aa77b",
   "outputs": [],
   "execution_count": 13
  },
  {
   "metadata": {},
   "cell_type": "markdown",
   "source": [
    "***\n",
    "## 4 Execute Pipeline"
   ],
   "id": "770e5c8f7b34ed45"
  },
  {
   "metadata": {
    "ExecuteTime": {
     "end_time": "2025-02-02T12:49:24.580965Z",
     "start_time": "2025-02-02T10:56:30.008389Z"
    }
   },
   "cell_type": "code",
   "source": [
    "translation_results = run_pipeline(data)\n",
    "print('Fertig mit der Pipeline. Speichere Ergebnisse...')\n",
    "translation_results.to_csv('translation_results.csv', sep=';')\n",
    "print('Pipeline abgeschlossen. Ergebnisse gespeichert.')"
   ],
   "id": "54362f91437fda00",
   "outputs": [
    {
     "name": "stderr",
     "output_type": "stream",
     "text": [
      "llama_init_from_model: n_ctx_per_seq (512) < n_ctx_train (8192) -- the full capacity of the model will not be utilized\n"
     ]
    },
    {
     "name": "stdout",
     "output_type": "stream",
     "text": [
      "Model lmstudio-ai/gemma-2b-it-GGUF erfolgreich geladen mit n_ctx=512\n",
      "estimated_max_tokens: 541.5; n_ctx: 595\n"
     ]
    },
    {
     "name": "stderr",
     "output_type": "stream",
     "text": [
      "llama_init_from_model: n_ctx_per_seq (608) < n_ctx_train (8192) -- the full capacity of the model will not be utilized\n"
     ]
    },
    {
     "name": "stdout",
     "output_type": "stream",
     "text": [
      "Model lmstudio-ai/gemma-2b-it-GGUF erfolgreich geladen mit n_ctx=595\n",
      "Prompt finished in (seconds):  3.08\n",
      "Metric Calculation in (seconds):  29.95\n",
      "🏃 View run gemma/easy/zero_shot_style_persona_reread_to-en_en_1 at: http://127.0.0.1:5000/#/experiments/429765178055128713/runs/2f06c554d413479dae465fc6937f98b7\n",
      "🧪 View experiment at: http://127.0.0.1:5000/#/experiments/429765178055128713\n",
      "Prompt finished in (seconds):  3.25\n",
      "Metric Calculation in (seconds):  25.56\n",
      "🏃 View run gemma/easy/zero_shot_style_persona_reread_to-en_de_1 at: http://127.0.0.1:5000/#/experiments/429765178055128713/runs/6f88c819f5484b3bbab586001c07cd6e\n",
      "🧪 View experiment at: http://127.0.0.1:5000/#/experiments/429765178055128713\n",
      "Prompt finished in (seconds):  2.58\n",
      "Metric Calculation in (seconds):  23.91\n",
      "🏃 View run gemma/easy/zero_shot_style_persona_reread_to-de_en_1 at: http://127.0.0.1:5000/#/experiments/429765178055128713/runs/b499c794a87a4265aac5d0449f70352c\n",
      "🧪 View experiment at: http://127.0.0.1:5000/#/experiments/429765178055128713\n",
      "Prompt finished in (seconds):  2.94\n",
      "Metric Calculation in (seconds):  24.73\n",
      "🏃 View run gemma/easy/zero_shot_style_persona_reread_to-de_de_1 at: http://127.0.0.1:5000/#/experiments/429765178055128713/runs/c6ada80983924c27a21a7cbf554cb339\n",
      "🧪 View experiment at: http://127.0.0.1:5000/#/experiments/429765178055128713\n"
     ]
    },
    {
     "name": "stderr",
     "output_type": "stream",
     "text": [
      "llama_init_from_model: n_ctx_per_seq (512) < n_ctx_train (8192) -- the full capacity of the model will not be utilized\n"
     ]
    },
    {
     "name": "stdout",
     "output_type": "stream",
     "text": [
      "Model lmstudio-ai/gemma-2b-it-GGUF erfolgreich geladen mit n_ctx=512\n",
      "estimated_max_tokens: 414.0; n_ctx: 455\n"
     ]
    },
    {
     "name": "stderr",
     "output_type": "stream",
     "text": [
      "llama_init_from_model: n_ctx_per_seq (480) < n_ctx_train (8192) -- the full capacity of the model will not be utilized\n"
     ]
    },
    {
     "name": "stdout",
     "output_type": "stream",
     "text": [
      "Model lmstudio-ai/gemma-2b-it-GGUF erfolgreich geladen mit n_ctx=455\n",
      "Prompt finished in (seconds):  2.74\n",
      "Metric Calculation in (seconds):  20.47\n",
      "🏃 View run gemma/news_gen/zero_shot_style_persona_reread_to-en_en_1 at: http://127.0.0.1:5000/#/experiments/391944840061747289/runs/58df536ee6924ea68adb036caebc00d2\n",
      "🧪 View experiment at: http://127.0.0.1:5000/#/experiments/391944840061747289\n",
      "Prompt finished in (seconds):  2.94\n",
      "Metric Calculation in (seconds):  19.5\n",
      "🏃 View run gemma/news_gen/zero_shot_style_persona_reread_to-en_de_1 at: http://127.0.0.1:5000/#/experiments/391944840061747289/runs/1c28b28a67d44d8aa799e6b72babe57f\n",
      "🧪 View experiment at: http://127.0.0.1:5000/#/experiments/391944840061747289\n",
      "Prompt finished in (seconds):  1.9\n",
      "Metric Calculation in (seconds):  19.3\n",
      "🏃 View run gemma/news_gen/zero_shot_style_persona_reread_to-de_en_1 at: http://127.0.0.1:5000/#/experiments/391944840061747289/runs/43e338c0e7a4403da318f28ca32b3ec6\n",
      "🧪 View experiment at: http://127.0.0.1:5000/#/experiments/391944840061747289\n",
      "Prompt finished in (seconds):  2.33\n",
      "Metric Calculation in (seconds):  18.51\n",
      "🏃 View run gemma/news_gen/zero_shot_style_persona_reread_to-de_de_1 at: http://127.0.0.1:5000/#/experiments/391944840061747289/runs/6eff9bbdfcfe48b7be0a37e4ca94a975\n",
      "🧪 View experiment at: http://127.0.0.1:5000/#/experiments/391944840061747289\n"
     ]
    },
    {
     "name": "stderr",
     "output_type": "stream",
     "text": [
      "llama_init_from_model: n_ctx_per_seq (512) < n_ctx_train (8192) -- the full capacity of the model will not be utilized\n"
     ]
    },
    {
     "name": "stdout",
     "output_type": "stream",
     "text": [
      "Model lmstudio-ai/gemma-2b-it-GGUF erfolgreich geladen mit n_ctx=512\n",
      "estimated_max_tokens: 549.0; n_ctx: 603\n"
     ]
    },
    {
     "name": "stderr",
     "output_type": "stream",
     "text": [
      "llama_init_from_model: n_ctx_per_seq (608) < n_ctx_train (8192) -- the full capacity of the model will not be utilized\n"
     ]
    },
    {
     "name": "stdout",
     "output_type": "stream",
     "text": [
      "Model lmstudio-ai/gemma-2b-it-GGUF erfolgreich geladen mit n_ctx=603\n",
      "Prompt finished in (seconds):  2.78\n",
      "Metric Calculation in (seconds):  23.17\n",
      "🏃 View run gemma/news_spec/zero_shot_style_persona_reread_to-en_en_1 at: http://127.0.0.1:5000/#/experiments/713590614913207437/runs/92bc2fbeca5f4647aad43722ad0a02c0\n",
      "🧪 View experiment at: http://127.0.0.1:5000/#/experiments/713590614913207437\n",
      "Prompt finished in (seconds):  3.04\n",
      "Metric Calculation in (seconds):  23.53\n",
      "🏃 View run gemma/news_spec/zero_shot_style_persona_reread_to-en_de_1 at: http://127.0.0.1:5000/#/experiments/713590614913207437/runs/7f8f72ddab9945588f5d275ab2ce39c8\n",
      "🧪 View experiment at: http://127.0.0.1:5000/#/experiments/713590614913207437\n",
      "Prompt finished in (seconds):  3.52\n",
      "Metric Calculation in (seconds):  22.62\n",
      "🏃 View run gemma/news_spec/zero_shot_style_persona_reread_to-de_en_1 at: http://127.0.0.1:5000/#/experiments/713590614913207437/runs/918212e4d1004687adae7e0ea49406a6\n",
      "🧪 View experiment at: http://127.0.0.1:5000/#/experiments/713590614913207437\n",
      "Prompt finished in (seconds):  3.31\n",
      "Metric Calculation in (seconds):  22.96\n",
      "🏃 View run gemma/news_spec/zero_shot_style_persona_reread_to-de_de_1 at: http://127.0.0.1:5000/#/experiments/713590614913207437/runs/780e7167a5d14bf3885df66fa1536089\n",
      "🧪 View experiment at: http://127.0.0.1:5000/#/experiments/713590614913207437\n"
     ]
    },
    {
     "name": "stderr",
     "output_type": "stream",
     "text": [
      "llama_init_from_model: n_ctx_per_seq (512) < n_ctx_train (8192) -- the full capacity of the model will not be utilized\n"
     ]
    },
    {
     "name": "stdout",
     "output_type": "stream",
     "text": [
      "Model lmstudio-ai/gemma-2b-it-GGUF erfolgreich geladen mit n_ctx=512\n",
      "estimated_max_tokens: 559.5; n_ctx: 615\n"
     ]
    },
    {
     "name": "stderr",
     "output_type": "stream",
     "text": [
      "llama_init_from_model: n_ctx_per_seq (640) < n_ctx_train (8192) -- the full capacity of the model will not be utilized\n"
     ]
    },
    {
     "name": "stdout",
     "output_type": "stream",
     "text": [
      "Model lmstudio-ai/gemma-2b-it-GGUF erfolgreich geladen mit n_ctx=615\n",
      "Prompt finished in (seconds):  3.24\n",
      "Metric Calculation in (seconds):  23.97\n",
      "🏃 View run gemma/pop_science/zero_shot_style_persona_reread_to-en_en_1 at: http://127.0.0.1:5000/#/experiments/819534162661537410/runs/6b044496a2d644cfa8024235db635edc\n",
      "🧪 View experiment at: http://127.0.0.1:5000/#/experiments/819534162661537410\n",
      "Prompt finished in (seconds):  2.96\n",
      "Metric Calculation in (seconds):  23.3\n",
      "🏃 View run gemma/pop_science/zero_shot_style_persona_reread_to-en_de_1 at: http://127.0.0.1:5000/#/experiments/819534162661537410/runs/0a8df36ae2484da2afd28a8a3659dfcf\n",
      "🧪 View experiment at: http://127.0.0.1:5000/#/experiments/819534162661537410\n",
      "Prompt finished in (seconds):  2.41\n",
      "Metric Calculation in (seconds):  23.91\n",
      "🏃 View run gemma/pop_science/zero_shot_style_persona_reread_to-de_en_1 at: http://127.0.0.1:5000/#/experiments/819534162661537410/runs/f49f7b5e5ae6472ca733ae431f0fd07f\n",
      "🧪 View experiment at: http://127.0.0.1:5000/#/experiments/819534162661537410\n",
      "Prompt finished in (seconds):  2.81\n",
      "Metric Calculation in (seconds):  24.0\n",
      "🏃 View run gemma/pop_science/zero_shot_style_persona_reread_to-de_de_1 at: http://127.0.0.1:5000/#/experiments/819534162661537410/runs/a54ffda9a1d4467ea4af93b001c2c7dc\n",
      "🧪 View experiment at: http://127.0.0.1:5000/#/experiments/819534162661537410\n"
     ]
    },
    {
     "name": "stderr",
     "output_type": "stream",
     "text": [
      "llama_init_from_model: n_ctx_per_seq (512) < n_ctx_train (8192) -- the full capacity of the model will not be utilized\n"
     ]
    },
    {
     "name": "stdout",
     "output_type": "stream",
     "text": [
      "Model lmstudio-ai/gemma-2b-it-GGUF erfolgreich geladen mit n_ctx=512\n",
      "estimated_max_tokens: 976.5; n_ctx: 1074\n"
     ]
    },
    {
     "name": "stderr",
     "output_type": "stream",
     "text": [
      "llama_init_from_model: n_ctx_per_seq (1088) < n_ctx_train (8192) -- the full capacity of the model will not be utilized\n"
     ]
    },
    {
     "name": "stdout",
     "output_type": "stream",
     "text": [
      "Model lmstudio-ai/gemma-2b-it-GGUF erfolgreich geladen mit n_ctx=1074\n",
      "Prompt finished in (seconds):  4.65\n",
      "Metric Calculation in (seconds):  36.71\n",
      "🏃 View run gemma/science/zero_shot_style_persona_reread_to-en_en_1 at: http://127.0.0.1:5000/#/experiments/895795565739563094/runs/5de69630ea2947a69ae32b75ec85117d\n",
      "🧪 View experiment at: http://127.0.0.1:5000/#/experiments/895795565739563094\n",
      "Prompt finished in (seconds):  5.1\n",
      "Metric Calculation in (seconds):  36.42\n",
      "🏃 View run gemma/science/zero_shot_style_persona_reread_to-en_de_1 at: http://127.0.0.1:5000/#/experiments/895795565739563094/runs/ac00660e18d94fd9b4770e0315762d10\n",
      "🧪 View experiment at: http://127.0.0.1:5000/#/experiments/895795565739563094\n",
      "Prompt finished in (seconds):  4.46\n",
      "Metric Calculation in (seconds):  36.52\n",
      "🏃 View run gemma/science/zero_shot_style_persona_reread_to-de_en_1 at: http://127.0.0.1:5000/#/experiments/895795565739563094/runs/88d3629f1439491ab1bc49dbc3d6bd82\n",
      "🧪 View experiment at: http://127.0.0.1:5000/#/experiments/895795565739563094\n",
      "Prompt finished in (seconds):  4.19\n",
      "Metric Calculation in (seconds):  36.43\n",
      "🏃 View run gemma/science/zero_shot_style_persona_reread_to-de_de_1 at: http://127.0.0.1:5000/#/experiments/895795565739563094/runs/8b594f58902c471b970eeb0b0c209709\n",
      "🧪 View experiment at: http://127.0.0.1:5000/#/experiments/895795565739563094\n"
     ]
    },
    {
     "name": "stderr",
     "output_type": "stream",
     "text": [
      "llama_init_from_model: n_ctx_per_seq (512) < n_ctx_train (131072) -- the full capacity of the model will not be utilized\n"
     ]
    },
    {
     "name": "stdout",
     "output_type": "stream",
     "text": [
      "Model hugging-quants/Llama-3.2-3B-Instruct-Q8_0-GGUF erfolgreich geladen mit n_ctx=512\n",
      "estimated_max_tokens: 684.0; n_ctx: 752\n"
     ]
    },
    {
     "name": "stderr",
     "output_type": "stream",
     "text": [
      "llama_init_from_model: n_ctx_per_seq (768) < n_ctx_train (131072) -- the full capacity of the model will not be utilized\n"
     ]
    },
    {
     "name": "stdout",
     "output_type": "stream",
     "text": [
      "Model hugging-quants/Llama-3.2-3B-Instruct-Q8_0-GGUF erfolgreich geladen mit n_ctx=752\n",
      "Prompt finished in (seconds):  17.8\n",
      "Metric Calculation in (seconds):  40.68\n",
      "🏃 View run llama32/easy/zero_shot_style_persona_reread_to-en_en_1 at: http://127.0.0.1:5000/#/experiments/170611153105097398/runs/64dcc51b924d4f67afd9b718da1566f9\n",
      "🧪 View experiment at: http://127.0.0.1:5000/#/experiments/170611153105097398\n",
      "Prompt finished in (seconds):  54.16\n",
      "Metric Calculation in (seconds):  48.59\n",
      "🏃 View run llama32/easy/zero_shot_style_persona_reread_to-en_de_1 at: http://127.0.0.1:5000/#/experiments/170611153105097398/runs/4bca3c75dfd5447ea2b99a6f5874a0e8\n",
      "🧪 View experiment at: http://127.0.0.1:5000/#/experiments/170611153105097398\n",
      "Prompt finished in (seconds):  65.11\n",
      "Metric Calculation in (seconds):  60.28\n",
      "🏃 View run llama32/easy/zero_shot_style_persona_reread_to-de_en_1 at: http://127.0.0.1:5000/#/experiments/170611153105097398/runs/fa1d15be274440e0bdd325593d0345cf\n",
      "🧪 View experiment at: http://127.0.0.1:5000/#/experiments/170611153105097398\n",
      "Prompt finished in (seconds):  58.11\n",
      "Metric Calculation in (seconds):  48.06\n",
      "🏃 View run llama32/easy/zero_shot_style_persona_reread_to-de_de_1 at: http://127.0.0.1:5000/#/experiments/170611153105097398/runs/037e93d31a174128a5b790d5677c81c4\n",
      "🧪 View experiment at: http://127.0.0.1:5000/#/experiments/170611153105097398\n"
     ]
    },
    {
     "name": "stderr",
     "output_type": "stream",
     "text": [
      "llama_init_from_model: n_ctx_per_seq (512) < n_ctx_train (131072) -- the full capacity of the model will not be utilized\n"
     ]
    },
    {
     "name": "stdout",
     "output_type": "stream",
     "text": [
      "Model hugging-quants/Llama-3.2-3B-Instruct-Q8_0-GGUF erfolgreich geladen mit n_ctx=512\n",
      "estimated_max_tokens: 543.0; n_ctx: 597\n"
     ]
    },
    {
     "name": "stderr",
     "output_type": "stream",
     "text": [
      "llama_init_from_model: n_ctx_per_seq (608) < n_ctx_train (131072) -- the full capacity of the model will not be utilized\n"
     ]
    },
    {
     "name": "stdout",
     "output_type": "stream",
     "text": [
      "Model hugging-quants/Llama-3.2-3B-Instruct-Q8_0-GGUF erfolgreich geladen mit n_ctx=597\n",
      "Prompt finished in (seconds):  18.52\n",
      "Metric Calculation in (seconds):  25.82\n",
      "🏃 View run llama32/news_gen/zero_shot_style_persona_reread_to-en_en_1 at: http://127.0.0.1:5000/#/experiments/379656095678811037/runs/20c298deb0e14de194f1bba1d19fb4ca\n",
      "🧪 View experiment at: http://127.0.0.1:5000/#/experiments/379656095678811037\n",
      "Prompt finished in (seconds):  40.15\n",
      "Metric Calculation in (seconds):  32.21\n",
      "🏃 View run llama32/news_gen/zero_shot_style_persona_reread_to-en_de_1 at: http://127.0.0.1:5000/#/experiments/379656095678811037/runs/429f08378d6f49beae751c656017a3a2\n",
      "🧪 View experiment at: http://127.0.0.1:5000/#/experiments/379656095678811037\n",
      "Prompt finished in (seconds):  46.95\n",
      "Metric Calculation in (seconds):  37.63\n",
      "🏃 View run llama32/news_gen/zero_shot_style_persona_reread_to-de_en_1 at: http://127.0.0.1:5000/#/experiments/379656095678811037/runs/2ff772d274a349e6b3f428207230f2dc\n",
      "🧪 View experiment at: http://127.0.0.1:5000/#/experiments/379656095678811037\n",
      "Prompt finished in (seconds):  43.62\n",
      "Metric Calculation in (seconds):  33.24\n",
      "🏃 View run llama32/news_gen/zero_shot_style_persona_reread_to-de_de_1 at: http://127.0.0.1:5000/#/experiments/379656095678811037/runs/e8c9e26227aa47abbd91114b6b60dc8d\n",
      "🧪 View experiment at: http://127.0.0.1:5000/#/experiments/379656095678811037\n"
     ]
    },
    {
     "name": "stderr",
     "output_type": "stream",
     "text": [
      "llama_init_from_model: n_ctx_per_seq (512) < n_ctx_train (131072) -- the full capacity of the model will not be utilized\n"
     ]
    },
    {
     "name": "stdout",
     "output_type": "stream",
     "text": [
      "Model hugging-quants/Llama-3.2-3B-Instruct-Q8_0-GGUF erfolgreich geladen mit n_ctx=512\n",
      "estimated_max_tokens: 694.5; n_ctx: 763\n"
     ]
    },
    {
     "name": "stderr",
     "output_type": "stream",
     "text": [
      "llama_init_from_model: n_ctx_per_seq (768) < n_ctx_train (131072) -- the full capacity of the model will not be utilized\n"
     ]
    },
    {
     "name": "stdout",
     "output_type": "stream",
     "text": [
      "Model hugging-quants/Llama-3.2-3B-Instruct-Q8_0-GGUF erfolgreich geladen mit n_ctx=763\n",
      "Prompt finished in (seconds):  64.19\n",
      "Metric Calculation in (seconds):  59.33\n",
      "🏃 View run llama32/news_spec/zero_shot_style_persona_reread_to-en_en_1 at: http://127.0.0.1:5000/#/experiments/194158564450517751/runs/4f85f19ae2ee498fae36aff5da926f31\n",
      "🧪 View experiment at: http://127.0.0.1:5000/#/experiments/194158564450517751\n",
      "Prompt finished in (seconds):  48.72\n",
      "Metric Calculation in (seconds):  43.47\n",
      "🏃 View run llama32/news_spec/zero_shot_style_persona_reread_to-en_de_1 at: http://127.0.0.1:5000/#/experiments/194158564450517751/runs/28e3d83dff6a4139b7cc892005263503\n",
      "🧪 View experiment at: http://127.0.0.1:5000/#/experiments/194158564450517751\n",
      "Prompt finished in (seconds):  41.16\n",
      "Metric Calculation in (seconds):  41.66\n",
      "🏃 View run llama32/news_spec/zero_shot_style_persona_reread_to-de_en_1 at: http://127.0.0.1:5000/#/experiments/194158564450517751/runs/ff9f43cb674246829cd86fb668ae464b\n",
      "🧪 View experiment at: http://127.0.0.1:5000/#/experiments/194158564450517751\n",
      "Prompt finished in (seconds):  38.04\n",
      "Metric Calculation in (seconds):  37.89\n",
      "🏃 View run llama32/news_spec/zero_shot_style_persona_reread_to-de_de_1 at: http://127.0.0.1:5000/#/experiments/194158564450517751/runs/69f159755d8e4275b7e58846b3cd6321\n",
      "🧪 View experiment at: http://127.0.0.1:5000/#/experiments/194158564450517751\n"
     ]
    },
    {
     "name": "stderr",
     "output_type": "stream",
     "text": [
      "llama_init_from_model: n_ctx_per_seq (512) < n_ctx_train (131072) -- the full capacity of the model will not be utilized\n"
     ]
    },
    {
     "name": "stdout",
     "output_type": "stream",
     "text": [
      "Model hugging-quants/Llama-3.2-3B-Instruct-Q8_0-GGUF erfolgreich geladen mit n_ctx=512\n",
      "estimated_max_tokens: 706.5; n_ctx: 777\n"
     ]
    },
    {
     "name": "stderr",
     "output_type": "stream",
     "text": [
      "llama_init_from_model: n_ctx_per_seq (800) < n_ctx_train (131072) -- the full capacity of the model will not be utilized\n"
     ]
    },
    {
     "name": "stdout",
     "output_type": "stream",
     "text": [
      "Model hugging-quants/Llama-3.2-3B-Instruct-Q8_0-GGUF erfolgreich geladen mit n_ctx=777\n",
      "Prompt finished in (seconds):  22.35\n",
      "Metric Calculation in (seconds):  33.13\n",
      "🏃 View run llama32/pop_science/zero_shot_style_persona_reread_to-en_en_1 at: http://127.0.0.1:5000/#/experiments/553009959054917340/runs/5341bb084077453090d839ea8ee9d128\n",
      "🧪 View experiment at: http://127.0.0.1:5000/#/experiments/553009959054917340\n",
      "Prompt finished in (seconds):  56.93\n",
      "Metric Calculation in (seconds):  51.34\n",
      "🏃 View run llama32/pop_science/zero_shot_style_persona_reread_to-en_de_1 at: http://127.0.0.1:5000/#/experiments/553009959054917340/runs/9a61e4f2682d43aea4559522b33d0264\n",
      "🧪 View experiment at: http://127.0.0.1:5000/#/experiments/553009959054917340\n",
      "Prompt finished in (seconds):  61.3\n",
      "Metric Calculation in (seconds):  57.32\n",
      "🏃 View run llama32/pop_science/zero_shot_style_persona_reread_to-de_en_1 at: http://127.0.0.1:5000/#/experiments/553009959054917340/runs/4cd367f0577e4651ae272a2cb28e24ed\n",
      "🧪 View experiment at: http://127.0.0.1:5000/#/experiments/553009959054917340\n",
      "Prompt finished in (seconds):  62.06\n",
      "Metric Calculation in (seconds):  53.77\n",
      "🏃 View run llama32/pop_science/zero_shot_style_persona_reread_to-de_de_1 at: http://127.0.0.1:5000/#/experiments/553009959054917340/runs/b6de1f2578954aed97081a258bc6565f\n",
      "🧪 View experiment at: http://127.0.0.1:5000/#/experiments/553009959054917340\n"
     ]
    },
    {
     "name": "stderr",
     "output_type": "stream",
     "text": [
      "llama_init_from_model: n_ctx_per_seq (512) < n_ctx_train (131072) -- the full capacity of the model will not be utilized\n"
     ]
    },
    {
     "name": "stdout",
     "output_type": "stream",
     "text": [
      "Model hugging-quants/Llama-3.2-3B-Instruct-Q8_0-GGUF erfolgreich geladen mit n_ctx=512\n",
      "estimated_max_tokens: 1110.0; n_ctx: 1221\n"
     ]
    },
    {
     "name": "stderr",
     "output_type": "stream",
     "text": [
      "llama_init_from_model: n_ctx_per_seq (1248) < n_ctx_train (131072) -- the full capacity of the model will not be utilized\n"
     ]
    },
    {
     "name": "stdout",
     "output_type": "stream",
     "text": [
      "Model hugging-quants/Llama-3.2-3B-Instruct-Q8_0-GGUF erfolgreich geladen mit n_ctx=1221\n",
      "Prompt finished in (seconds):  106.63\n",
      "Metric Calculation in (seconds):  132.32\n",
      "🏃 View run llama32/science/zero_shot_style_persona_reread_to-en_en_1 at: http://127.0.0.1:5000/#/experiments/248431796146488211/runs/d5f058d7ab054876a342d26a64774452\n",
      "🧪 View experiment at: http://127.0.0.1:5000/#/experiments/248431796146488211\n",
      "Prompt finished in (seconds):  94.85\n",
      "Metric Calculation in (seconds):  118.34\n",
      "🏃 View run llama32/science/zero_shot_style_persona_reread_to-en_de_1 at: http://127.0.0.1:5000/#/experiments/248431796146488211/runs/d96ecc01e25b453f977b062dc629f24a\n",
      "🧪 View experiment at: http://127.0.0.1:5000/#/experiments/248431796146488211\n",
      "Prompt finished in (seconds):  73.73\n",
      "Metric Calculation in (seconds):  95.67\n",
      "🏃 View run llama32/science/zero_shot_style_persona_reread_to-de_en_1 at: http://127.0.0.1:5000/#/experiments/248431796146488211/runs/6dcf5ab629ce48d8be4d2377cd69591f\n",
      "🧪 View experiment at: http://127.0.0.1:5000/#/experiments/248431796146488211\n",
      "Prompt finished in (seconds):  106.55\n",
      "Metric Calculation in (seconds):  137.71\n",
      "🏃 View run llama32/science/zero_shot_style_persona_reread_to-de_de_1 at: http://127.0.0.1:5000/#/experiments/248431796146488211/runs/0892186bb99a4cd29ffde24a333b7a5f\n",
      "🧪 View experiment at: http://127.0.0.1:5000/#/experiments/248431796146488211\n"
     ]
    },
    {
     "name": "stderr",
     "output_type": "stream",
     "text": [
      "llama_init_from_model: n_ctx_per_seq (512) < n_ctx_train (131072) -- the full capacity of the model will not be utilized\n"
     ]
    },
    {
     "name": "stdout",
     "output_type": "stream",
     "text": [
      "Model lmstudio-community/Meta-Llama-3.1-8B-Instruct-GGUF erfolgreich geladen mit n_ctx=512\n",
      "estimated_max_tokens: 684.0; n_ctx: 752\n"
     ]
    },
    {
     "name": "stderr",
     "output_type": "stream",
     "text": [
      "llama_init_from_model: n_ctx_per_seq (768) < n_ctx_train (131072) -- the full capacity of the model will not be utilized\n"
     ]
    },
    {
     "name": "stdout",
     "output_type": "stream",
     "text": [
      "Model lmstudio-community/Meta-Llama-3.1-8B-Instruct-GGUF erfolgreich geladen mit n_ctx=752\n",
      "Prompt finished in (seconds):  110.25\n",
      "Metric Calculation in (seconds):  106.28\n",
      "🏃 View run llama31/easy/zero_shot_style_persona_reread_to-en_en_1 at: http://127.0.0.1:5000/#/experiments/496790586212187793/runs/52d874ec424b41b0b96199114de6c23a\n",
      "🧪 View experiment at: http://127.0.0.1:5000/#/experiments/496790586212187793\n",
      "Prompt finished in (seconds):  97.58\n",
      "Metric Calculation in (seconds):  51.03\n",
      "🏃 View run llama31/easy/zero_shot_style_persona_reread_to-en_de_1 at: http://127.0.0.1:5000/#/experiments/496790586212187793/runs/91c5aab752d84ce48e1a2ead0f71fa2f\n",
      "🧪 View experiment at: http://127.0.0.1:5000/#/experiments/496790586212187793\n",
      "Prompt finished in (seconds):  108.5\n",
      "Metric Calculation in (seconds):  60.89\n",
      "🏃 View run llama31/easy/zero_shot_style_persona_reread_to-de_en_1 at: http://127.0.0.1:5000/#/experiments/496790586212187793/runs/640087ad9d0f4fc3ae250bc145797d70\n",
      "🧪 View experiment at: http://127.0.0.1:5000/#/experiments/496790586212187793\n",
      "Prompt finished in (seconds):  101.43\n",
      "Metric Calculation in (seconds):  51.99\n",
      "🏃 View run llama31/easy/zero_shot_style_persona_reread_to-de_de_1 at: http://127.0.0.1:5000/#/experiments/496790586212187793/runs/4aff936de040464db4ed91f9a9a853c3\n",
      "🧪 View experiment at: http://127.0.0.1:5000/#/experiments/496790586212187793\n"
     ]
    },
    {
     "name": "stderr",
     "output_type": "stream",
     "text": [
      "llama_init_from_model: n_ctx_per_seq (512) < n_ctx_train (131072) -- the full capacity of the model will not be utilized\n"
     ]
    },
    {
     "name": "stdout",
     "output_type": "stream",
     "text": [
      "Model lmstudio-community/Meta-Llama-3.1-8B-Instruct-GGUF erfolgreich geladen mit n_ctx=512\n",
      "estimated_max_tokens: 543.0; n_ctx: 597\n"
     ]
    },
    {
     "name": "stderr",
     "output_type": "stream",
     "text": [
      "llama_init_from_model: n_ctx_per_seq (608) < n_ctx_train (131072) -- the full capacity of the model will not be utilized\n"
     ]
    },
    {
     "name": "stdout",
     "output_type": "stream",
     "text": [
      "Model lmstudio-community/Meta-Llama-3.1-8B-Instruct-GGUF erfolgreich geladen mit n_ctx=597\n",
      "Prompt finished in (seconds):  80.51\n",
      "Metric Calculation in (seconds):  41.74\n",
      "🏃 View run llama31/news_gen/zero_shot_style_persona_reread_to-en_en_1 at: http://127.0.0.1:5000/#/experiments/378317835055917962/runs/91b39d0bed5f4cc6a5574887be80eb63\n",
      "🧪 View experiment at: http://127.0.0.1:5000/#/experiments/378317835055917962\n",
      "Prompt finished in (seconds):  72.77\n",
      "Metric Calculation in (seconds):  33.33\n",
      "🏃 View run llama31/news_gen/zero_shot_style_persona_reread_to-en_de_1 at: http://127.0.0.1:5000/#/experiments/378317835055917962/runs/61b79d0352824610828338c413994a5d\n",
      "🧪 View experiment at: http://127.0.0.1:5000/#/experiments/378317835055917962\n",
      "Prompt finished in (seconds):  79.18\n",
      "Metric Calculation in (seconds):  38.87\n",
      "🏃 View run llama31/news_gen/zero_shot_style_persona_reread_to-de_en_1 at: http://127.0.0.1:5000/#/experiments/378317835055917962/runs/f9dc8a29f8ea4ff9b105fee749edff67\n",
      "🧪 View experiment at: http://127.0.0.1:5000/#/experiments/378317835055917962\n",
      "Prompt finished in (seconds):  76.57\n",
      "Metric Calculation in (seconds):  36.2\n",
      "🏃 View run llama31/news_gen/zero_shot_style_persona_reread_to-de_de_1 at: http://127.0.0.1:5000/#/experiments/378317835055917962/runs/0457ba39af824357ac9664f62f344ba0\n",
      "🧪 View experiment at: http://127.0.0.1:5000/#/experiments/378317835055917962\n"
     ]
    },
    {
     "name": "stderr",
     "output_type": "stream",
     "text": [
      "llama_init_from_model: n_ctx_per_seq (512) < n_ctx_train (131072) -- the full capacity of the model will not be utilized\n"
     ]
    },
    {
     "name": "stdout",
     "output_type": "stream",
     "text": [
      "Model lmstudio-community/Meta-Llama-3.1-8B-Instruct-GGUF erfolgreich geladen mit n_ctx=512\n",
      "estimated_max_tokens: 694.5; n_ctx: 763\n"
     ]
    },
    {
     "name": "stderr",
     "output_type": "stream",
     "text": [
      "llama_init_from_model: n_ctx_per_seq (768) < n_ctx_train (131072) -- the full capacity of the model will not be utilized\n"
     ]
    },
    {
     "name": "stdout",
     "output_type": "stream",
     "text": [
      "Model lmstudio-community/Meta-Llama-3.1-8B-Instruct-GGUF erfolgreich geladen mit n_ctx=763\n",
      "Prompt finished in (seconds):  119.72\n",
      "Metric Calculation in (seconds):  61.35\n",
      "🏃 View run llama31/news_spec/zero_shot_style_persona_reread_to-en_en_1 at: http://127.0.0.1:5000/#/experiments/278262578605400461/runs/d44847f1d2ad48608e45dc5815d996eb\n",
      "🧪 View experiment at: http://127.0.0.1:5000/#/experiments/278262578605400461\n",
      "Prompt finished in (seconds):  103.06\n",
      "Metric Calculation in (seconds):  54.41\n",
      "🏃 View run llama31/news_spec/zero_shot_style_persona_reread_to-en_de_1 at: http://127.0.0.1:5000/#/experiments/278262578605400461/runs/d3831ced417f4967ae7fde9d05a4e753\n",
      "🧪 View experiment at: http://127.0.0.1:5000/#/experiments/278262578605400461\n",
      "Prompt finished in (seconds):  120.42\n",
      "Metric Calculation in (seconds):  67.53\n",
      "🏃 View run llama31/news_spec/zero_shot_style_persona_reread_to-de_en_1 at: http://127.0.0.1:5000/#/experiments/278262578605400461/runs/05c853e315e04208bfbc8c75ca850339\n",
      "🧪 View experiment at: http://127.0.0.1:5000/#/experiments/278262578605400461\n",
      "Prompt finished in (seconds):  105.23\n",
      "Metric Calculation in (seconds):  56.23\n",
      "🏃 View run llama31/news_spec/zero_shot_style_persona_reread_to-de_de_1 at: http://127.0.0.1:5000/#/experiments/278262578605400461/runs/308952bc6458481abe8ded44c19ad5c8\n",
      "🧪 View experiment at: http://127.0.0.1:5000/#/experiments/278262578605400461\n"
     ]
    },
    {
     "name": "stderr",
     "output_type": "stream",
     "text": [
      "llama_init_from_model: n_ctx_per_seq (512) < n_ctx_train (131072) -- the full capacity of the model will not be utilized\n"
     ]
    },
    {
     "name": "stdout",
     "output_type": "stream",
     "text": [
      "Model lmstudio-community/Meta-Llama-3.1-8B-Instruct-GGUF erfolgreich geladen mit n_ctx=512\n",
      "estimated_max_tokens: 706.5; n_ctx: 777\n"
     ]
    },
    {
     "name": "stderr",
     "output_type": "stream",
     "text": [
      "llama_init_from_model: n_ctx_per_seq (800) < n_ctx_train (131072) -- the full capacity of the model will not be utilized\n"
     ]
    },
    {
     "name": "stdout",
     "output_type": "stream",
     "text": [
      "Model lmstudio-community/Meta-Llama-3.1-8B-Instruct-GGUF erfolgreich geladen mit n_ctx=777\n",
      "Prompt finished in (seconds):  116.11\n",
      "Metric Calculation in (seconds):  65.9\n",
      "🏃 View run llama31/pop_science/zero_shot_style_persona_reread_to-en_en_1 at: http://127.0.0.1:5000/#/experiments/358136329887025901/runs/35f7a6574e504fdfa45dbbe1c8ba4da1\n",
      "🧪 View experiment at: http://127.0.0.1:5000/#/experiments/358136329887025901\n",
      "Prompt finished in (seconds):  102.1\n",
      "Metric Calculation in (seconds):  50.43\n",
      "🏃 View run llama31/pop_science/zero_shot_style_persona_reread_to-en_de_1 at: http://127.0.0.1:5000/#/experiments/358136329887025901/runs/610376c83ca14f548573abf07bb19ebc\n",
      "🧪 View experiment at: http://127.0.0.1:5000/#/experiments/358136329887025901\n",
      "Prompt finished in (seconds):  112.09\n",
      "Metric Calculation in (seconds):  57.04\n",
      "🏃 View run llama31/pop_science/zero_shot_style_persona_reread_to-de_en_1 at: http://127.0.0.1:5000/#/experiments/358136329887025901/runs/9f6d2bbdfc7b47289507da69b93214ab\n",
      "🧪 View experiment at: http://127.0.0.1:5000/#/experiments/358136329887025901\n",
      "Prompt finished in (seconds):  107.61\n",
      "Metric Calculation in (seconds):  54.55\n",
      "🏃 View run llama31/pop_science/zero_shot_style_persona_reread_to-de_de_1 at: http://127.0.0.1:5000/#/experiments/358136329887025901/runs/9dba2b33b3924d78a922e1635aebab91\n",
      "🧪 View experiment at: http://127.0.0.1:5000/#/experiments/358136329887025901\n"
     ]
    },
    {
     "name": "stderr",
     "output_type": "stream",
     "text": [
      "llama_init_from_model: n_ctx_per_seq (512) < n_ctx_train (131072) -- the full capacity of the model will not be utilized\n"
     ]
    },
    {
     "name": "stdout",
     "output_type": "stream",
     "text": [
      "Model lmstudio-community/Meta-Llama-3.1-8B-Instruct-GGUF erfolgreich geladen mit n_ctx=512\n",
      "estimated_max_tokens: 1110.0; n_ctx: 1221\n"
     ]
    },
    {
     "name": "stderr",
     "output_type": "stream",
     "text": [
      "llama_init_from_model: n_ctx_per_seq (1248) < n_ctx_train (131072) -- the full capacity of the model will not be utilized\n"
     ]
    },
    {
     "name": "stdout",
     "output_type": "stream",
     "text": [
      "Model lmstudio-community/Meta-Llama-3.1-8B-Instruct-GGUF erfolgreich geladen mit n_ctx=1221\n",
      "Prompt finished in (seconds):  179.87\n",
      "Metric Calculation in (seconds):  145.8\n",
      "🏃 View run llama31/science/zero_shot_style_persona_reread_to-en_en_1 at: http://127.0.0.1:5000/#/experiments/958464439758456234/runs/e5f97d97dcab4e8093d045c246b29a2d\n",
      "🧪 View experiment at: http://127.0.0.1:5000/#/experiments/958464439758456234\n",
      "Prompt finished in (seconds):  164.97\n",
      "Metric Calculation in (seconds):  117.2\n",
      "🏃 View run llama31/science/zero_shot_style_persona_reread_to-en_de_1 at: http://127.0.0.1:5000/#/experiments/958464439758456234/runs/3545d71919be448cabeb89c4958490a7\n",
      "🧪 View experiment at: http://127.0.0.1:5000/#/experiments/958464439758456234\n",
      "Prompt finished in (seconds):  195.77\n",
      "Metric Calculation in (seconds):  162.26\n",
      "🏃 View run llama31/science/zero_shot_style_persona_reread_to-de_en_1 at: http://127.0.0.1:5000/#/experiments/958464439758456234/runs/840be3f1a9da4eeda6a77b5bd96475df\n",
      "🧪 View experiment at: http://127.0.0.1:5000/#/experiments/958464439758456234\n",
      "Prompt finished in (seconds):  182.18\n",
      "Metric Calculation in (seconds):  134.65\n",
      "🏃 View run llama31/science/zero_shot_style_persona_reread_to-de_de_1 at: http://127.0.0.1:5000/#/experiments/958464439758456234/runs/fa9e6785d5e143099b648934f489f1af\n",
      "🧪 View experiment at: http://127.0.0.1:5000/#/experiments/958464439758456234\n",
      "Fertig mit der Pipeline. Speichere Ergebnisse...\n",
      "Pipeline abgeschlossen. Ergebnisse gespeichert.\n"
     ]
    }
   ],
   "execution_count": 14
  }
 ],
 "metadata": {
  "kernelspec": {
   "display_name": "Python 3",
   "language": "python",
   "name": "python3"
  },
  "language_info": {
   "codemirror_mode": {
    "name": "ipython",
    "version": 2
   },
   "file_extension": ".py",
   "mimetype": "text/x-python",
   "name": "python",
   "nbconvert_exporter": "python",
   "pygments_lexer": "ipython2",
   "version": "2.7.6"
  }
 },
 "nbformat": 4,
 "nbformat_minor": 5
}
