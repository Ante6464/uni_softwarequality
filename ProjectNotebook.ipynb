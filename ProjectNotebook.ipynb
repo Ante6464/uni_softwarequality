{
 "cells": [
  {
   "metadata": {},
   "cell_type": "markdown",
   "source": "# Jupyter Notebook for Project \"Comparison of LLM Prompting Techniques\"",
   "id": "872549f55a437d8a"
  },
  {
   "metadata": {
    "ExecuteTime": {
     "end_time": "2025-02-01T21:08:01.690346Z",
     "start_time": "2025-02-01T21:07:56.992592Z"
    }
   },
   "cell_type": "code",
   "source": [
    "import pandas as pd\n",
    "import mlflow\n",
    "import mlflow.pyfunc\n",
    "import sacrebleu\n",
    "from llama_cpp import Llama\n",
    "import time\n"
   ],
   "id": "d7cb373e19f3872c",
   "outputs": [],
   "execution_count": 1
  },
  {
   "metadata": {},
   "cell_type": "markdown",
   "source": [
    "## 1 Data Loading\n",
    "In the first step we import the given translations as pandas Dataframes and print a quick overview of the dataframe."
   ],
   "id": "84eebb77e3f61e83"
  },
  {
   "metadata": {
    "ExecuteTime": {
     "end_time": "2025-02-01T21:08:01.740975Z",
     "start_time": "2025-02-01T21:08:01.716355Z"
    }
   },
   "cell_type": "code",
   "source": [
    "data = pd.read_pickle('machine_translation.pkl')\n",
    "data"
   ],
   "id": "31214ca44be7863b",
   "outputs": [
    {
     "data": {
      "text/plain": [
       "    complexity                                        text_german  \\\n",
       "0         easy  Felix hat es satt: Ständig ist Mama unterwegs....   \n",
       "1     news_gen  Die rund 1.400 eingesetzten Beamten haben demn...   \n",
       "2    news_spec  Der Staatschef hat zugleich aber das Recht, vo...   \n",
       "3  pop_science  Dass der Klimawandel die Hitzewellen in Südasi...   \n",
       "4      science  Der DSA-110, der sich am Owens Valley Radio Ob...   \n",
       "\n",
       "                                        text_english  \n",
       "0  Felix is fed up: Mom is always on the go. But ...  \n",
       "1  The approximately 1,400 deployed officers have...  \n",
       "2  The head of state also has the right to appoin...  \n",
       "3  There is no question that climate change is in...  \n",
       "4  The DSA-110, situated at the Owens Valley Radi...  "
      ],
      "text/html": [
       "<div>\n",
       "<style scoped>\n",
       "    .dataframe tbody tr th:only-of-type {\n",
       "        vertical-align: middle;\n",
       "    }\n",
       "\n",
       "    .dataframe tbody tr th {\n",
       "        vertical-align: top;\n",
       "    }\n",
       "\n",
       "    .dataframe thead th {\n",
       "        text-align: right;\n",
       "    }\n",
       "</style>\n",
       "<table border=\"1\" class=\"dataframe\">\n",
       "  <thead>\n",
       "    <tr style=\"text-align: right;\">\n",
       "      <th></th>\n",
       "      <th>complexity</th>\n",
       "      <th>text_german</th>\n",
       "      <th>text_english</th>\n",
       "    </tr>\n",
       "  </thead>\n",
       "  <tbody>\n",
       "    <tr>\n",
       "      <th>0</th>\n",
       "      <td>easy</td>\n",
       "      <td>Felix hat es satt: Ständig ist Mama unterwegs....</td>\n",
       "      <td>Felix is fed up: Mom is always on the go. But ...</td>\n",
       "    </tr>\n",
       "    <tr>\n",
       "      <th>1</th>\n",
       "      <td>news_gen</td>\n",
       "      <td>Die rund 1.400 eingesetzten Beamten haben demn...</td>\n",
       "      <td>The approximately 1,400 deployed officers have...</td>\n",
       "    </tr>\n",
       "    <tr>\n",
       "      <th>2</th>\n",
       "      <td>news_spec</td>\n",
       "      <td>Der Staatschef hat zugleich aber das Recht, vo...</td>\n",
       "      <td>The head of state also has the right to appoin...</td>\n",
       "    </tr>\n",
       "    <tr>\n",
       "      <th>3</th>\n",
       "      <td>pop_science</td>\n",
       "      <td>Dass der Klimawandel die Hitzewellen in Südasi...</td>\n",
       "      <td>There is no question that climate change is in...</td>\n",
       "    </tr>\n",
       "    <tr>\n",
       "      <th>4</th>\n",
       "      <td>science</td>\n",
       "      <td>Der DSA-110, der sich am Owens Valley Radio Ob...</td>\n",
       "      <td>The DSA-110, situated at the Owens Valley Radi...</td>\n",
       "    </tr>\n",
       "  </tbody>\n",
       "</table>\n",
       "</div>"
      ]
     },
     "execution_count": 2,
     "metadata": {},
     "output_type": "execute_result"
    }
   ],
   "execution_count": 2
  },
  {
   "metadata": {
    "ExecuteTime": {
     "end_time": "2025-02-01T21:08:02.128554Z",
     "start_time": "2025-02-01T21:08:02.107493Z"
    }
   },
   "cell_type": "code",
   "source": [
    "data_info = pd.DataFrame()\n",
    "data_info['complexity'] = data['complexity']\n",
    "data_info['text_german_length'] = data['text_german'].str.len()\n",
    "data_info['text_english_length'] = data['text_english'].str.len()\n",
    "data_info"
   ],
   "id": "f378daff85fa7954",
   "outputs": [
    {
     "data": {
      "text/plain": [
       "    complexity  text_german_length  text_english_length\n",
       "0         easy                 485                  415\n",
       "1     news_gen                 296                  280\n",
       "2    news_spec                 518                  484\n",
       "3  pop_science                 542                  521\n",
       "4      science                1003                  827"
      ],
      "text/html": [
       "<div>\n",
       "<style scoped>\n",
       "    .dataframe tbody tr th:only-of-type {\n",
       "        vertical-align: middle;\n",
       "    }\n",
       "\n",
       "    .dataframe tbody tr th {\n",
       "        vertical-align: top;\n",
       "    }\n",
       "\n",
       "    .dataframe thead th {\n",
       "        text-align: right;\n",
       "    }\n",
       "</style>\n",
       "<table border=\"1\" class=\"dataframe\">\n",
       "  <thead>\n",
       "    <tr style=\"text-align: right;\">\n",
       "      <th></th>\n",
       "      <th>complexity</th>\n",
       "      <th>text_german_length</th>\n",
       "      <th>text_english_length</th>\n",
       "    </tr>\n",
       "  </thead>\n",
       "  <tbody>\n",
       "    <tr>\n",
       "      <th>0</th>\n",
       "      <td>easy</td>\n",
       "      <td>485</td>\n",
       "      <td>415</td>\n",
       "    </tr>\n",
       "    <tr>\n",
       "      <th>1</th>\n",
       "      <td>news_gen</td>\n",
       "      <td>296</td>\n",
       "      <td>280</td>\n",
       "    </tr>\n",
       "    <tr>\n",
       "      <th>2</th>\n",
       "      <td>news_spec</td>\n",
       "      <td>518</td>\n",
       "      <td>484</td>\n",
       "    </tr>\n",
       "    <tr>\n",
       "      <th>3</th>\n",
       "      <td>pop_science</td>\n",
       "      <td>542</td>\n",
       "      <td>521</td>\n",
       "    </tr>\n",
       "    <tr>\n",
       "      <th>4</th>\n",
       "      <td>science</td>\n",
       "      <td>1003</td>\n",
       "      <td>827</td>\n",
       "    </tr>\n",
       "  </tbody>\n",
       "</table>\n",
       "</div>"
      ]
     },
     "execution_count": 3,
     "metadata": {},
     "output_type": "execute_result"
    }
   ],
   "execution_count": 3
  },
  {
   "metadata": {
    "ExecuteTime": {
     "end_time": "2025-02-01T21:08:02.177481Z",
     "start_time": "2025-02-01T21:08:02.173021Z"
    }
   },
   "cell_type": "code",
   "source": [
    "from enum import Enum\n",
    "\n",
    "\n",
    "class Language(Enum):\n",
    "    ENGLISH = 'English'\n",
    "    GERMAN = 'German'\n",
    "\n",
    "\n",
    "class Complexity(Enum):\n",
    "    EASY = 'easy'\n",
    "    NEWS_GEN = 'news_gen'\n",
    "    NEWS_SPEC = 'news_spec'\n",
    "    POP_SCIENCE = 'pop_science'\n",
    "    SCIENCE = 'science'\n",
    "\n",
    "\n",
    "ALL_COMPLEXITIES = list(Complexity)"
   ],
   "id": "323c0bdb3ca88317",
   "outputs": [],
   "execution_count": 4
  },
  {
   "metadata": {},
   "cell_type": "markdown",
   "source": [
    "***\n",
    "## 2 Model Loading\n",
    "In the second step we import the AI-Models which are given in the specified task. For doing so we use the `llama-cpp-python` library (further documentation can be found [here](https://github.com/abetlen/llama-cpp-python)) and import the models directly from [huggingface](https://huggingface.co/).\n",
    "\n",
    "Quick overview and installation guide of llama.cpp:\n",
    "- https://www.datacamp.com/tutorial/llama-cpp-tutorial\n",
    "- https://christophergs.com/blog/running-open-source-llms-in-python"
   ],
   "id": "da93308612340266"
  },
  {
   "metadata": {
    "ExecuteTime": {
     "end_time": "2025-02-01T21:08:02.283454Z",
     "start_time": "2025-02-01T21:08:02.278294Z"
    }
   },
   "cell_type": "code",
   "source": [
    "# Configuration of the models\n",
    "MODELS = {\n",
    "    'gemma': {\n",
    "        'repo_id': 'lmstudio-ai/gemma-2b-it-GGUF',\n",
    "        'filename': 'gemma-2b-it-q8_0.gguf',\n",
    "    },\n",
    "    'llama32': {\n",
    "        'repo_id': 'hugging-quants/Llama-3.2-3B-Instruct-Q8_0-GGUF',\n",
    "        'filename': 'llama-3.2-3b-instruct-q8_0.gguf',\n",
    "    },\n",
    "    'llama31': {\n",
    "        'repo_id': 'lmstudio-community/Meta-Llama-3.1-8B-Instruct-GGUF',\n",
    "        'filename': 'Meta-Llama-3.1-8B-Instruct-Q5_K_M.gguf',\n",
    "    },\n",
    "    #'aya23': {\n",
    "    #    'repo_id': 'bartowski/aya-23-35B-GGUF',\n",
    "    #    'filename': 'aya-23-35B-Q5_K_M.gguf',\n",
    "    #},\n",
    "}"
   ],
   "id": "d41d93f0a2545265",
   "outputs": [],
   "execution_count": 5
  },
  {
   "metadata": {
    "ExecuteTime": {
     "end_time": "2025-02-01T21:08:02.348067Z",
     "start_time": "2025-02-01T21:08:02.343348Z"
    }
   },
   "cell_type": "code",
   "source": [
    "def create_llama_model(repo_id, filename, n_ctx=None):\n",
    "    try:\n",
    "        if n_ctx is None:\n",
    "            # default of llama_cpp\n",
    "            n_ctx = 512\n",
    "        if repo_id is not None and filename is not None:\n",
    "            model = Llama.from_pretrained(\n",
    "                repo_id=repo_id,\n",
    "                filename=filename,\n",
    "                n_ctx=n_ctx,\n",
    "                # n_gpu_layers=n_gpu_layers,\n",
    "                #n_threads=4,\n",
    "                verbose=False,\n",
    "            )\n",
    "            print(f\"Model {repo_id} erfolgreich geladen mit n_ctx={n_ctx}\")\n",
    "            return model\n",
    "        else:\n",
    "            return None\n",
    "    except Exception as e:\n",
    "        print(f\"Fehler beim Laden von {filename}: {e}\")\n",
    "        return None"
   ],
   "id": "3c03d17b6bc17b83",
   "outputs": [],
   "execution_count": 6
  },
  {
   "metadata": {},
   "cell_type": "markdown",
   "source": "***",
   "id": "464c36e55f18159"
  },
  {
   "metadata": {},
   "cell_type": "markdown",
   "source": [
    "## 3 Pipeline\n",
    "\n",
    "### 3.1 Model Interaction"
   ],
   "id": "8f91fc96f9d5591e"
  },
  {
   "metadata": {
    "ExecuteTime": {
     "end_time": "2025-02-01T21:08:02.406367Z",
     "start_time": "2025-02-01T21:08:02.402682Z"
    }
   },
   "cell_type": "code",
   "source": [
    "def translate(model, prompt, reference_translation):\n",
    "    # we estimate the needed max_tokens based on the tokenized prompt and reference_translation\n",
    "    token_length_ref = len(model.tokenize(reference_translation.encode('utf-8')))\n",
    "    token_length_prompt = len(model.tokenize(prompt.encode('utf-8')))\n",
    "    # the model should not need more tokens than this\n",
    "    estimated_max_tokens = (token_length_prompt + token_length_ref) * 1.5\n",
    "\n",
    "    response = model(prompt, max_tokens=estimated_max_tokens, echo=False)\n",
    "    # print(response['choices'][0]['text'])\n",
    "    return response['choices'][0]['text']"
   ],
   "id": "6420297102cf617f",
   "outputs": [],
   "execution_count": 7
  },
  {
   "metadata": {},
   "cell_type": "markdown",
   "source": [
    "### 3.2 Metrics Calculation\n",
    "[GitHub Repo to MetricX](https://github.com/google-research/metricx)"
   ],
   "id": "524f90bdcc56ab38"
  },
  {
   "metadata": {
    "ExecuteTime": {
     "end_time": "2025-02-01T21:08:02.435482Z",
     "start_time": "2025-02-01T21:08:02.427373Z"
    }
   },
   "cell_type": "code",
   "source": [
    "import subprocess\n",
    "import json\n",
    "import os\n",
    "\n",
    "\n",
    "def calculate_metricx_score(source, reference, hypothesis):\n",
    "    '''\n",
    "    Calculates the MetricX-score based on source, reference, and hypothesis using metricx24.\n",
    "    We are currently using the metricx-24-hybrid-large-v2p6-bfloat16 model but there are also other options\n",
    "        as can be seen here: https://github.com/google-research/metricx\n",
    "\n",
    "    Args:\n",
    "        source: The source text (String).\n",
    "        reference: The reference translation (String).\n",
    "        hypothesis: The hypothesis translation (String).\n",
    "\n",
    "    Returns:\n",
    "        The calculated score as a float or None in case of an error.\n",
    "    '''\n",
    "\n",
    "    data = [{'id': '1', 'source': source, 'reference': reference, 'hypothesis': hypothesis}]\n",
    "\n",
    "    # Create temporary JSONL files\n",
    "    input_file = './temp_input.jsonl'\n",
    "    output_file = './temp_output.jsonl'\n",
    "    model = 'google/metricx-24-hybrid-large-v2p6-bfloat16'\n",
    "\n",
    "    try:\n",
    "        with open(input_file, 'w', encoding='utf-8') as f:\n",
    "            for entry in data:\n",
    "                json.dump(entry, f)\n",
    "                f.write('\\n')\n",
    "\n",
    "        command = [\n",
    "            'python', '-m', 'metricx24.predict',\n",
    "            '--tokenizer', 'google/mt5-xl',\n",
    "            '--model_name_or_path', model,\n",
    "            '--max_input_length', '1536',\n",
    "            '--batch_size', '1',\n",
    "            '--input_file', input_file,\n",
    "            '--output_file', output_file\n",
    "        ]\n",
    "\n",
    "        process = subprocess.Popen(\n",
    "            command,\n",
    "            stdout=subprocess.PIPE,\n",
    "            stderr=subprocess.PIPE,\n",
    "            text=True,\n",
    "            bufsize=1,\n",
    "            universal_newlines=True\n",
    "        )\n",
    "\n",
    "        # Capture output and errors (optional, can be useful for debugging)\n",
    "        #for line in process.stdout:\n",
    "        #    print(line, end='')\n",
    "        #for line in process.stderr:\n",
    "        #    print(f'ERROR: {line}', end='')\n",
    "\n",
    "        process.wait()\n",
    "\n",
    "        if process.returncode != 0:\n",
    "            print(f'Error executing metricx24. Return code: {process.returncode}')\n",
    "            return None\n",
    "\n",
    "        # Read score from the output file\n",
    "        with open(output_file, 'r', encoding='utf-8') as f:\n",
    "            for line in f:\n",
    "                try:\n",
    "                    output_data = json.loads(line)\n",
    "                    score = float(output_data.get('prediction'))  # Ensure that 'score' exists\n",
    "                    return score\n",
    "                except (json.JSONDecodeError, ValueError, AttributeError):\n",
    "                    print('Error parsing the output file.')\n",
    "                    return None\n",
    "\n",
    "        return None  # If no valid line was found in the output file\n",
    "\n",
    "    finally:\n",
    "        # Remove temporary files\n",
    "        try:\n",
    "            os.remove(input_file)\n",
    "            os.remove(output_file)\n",
    "        except FileNotFoundError:\n",
    "            pass  #If the files don't exist for some reason, the error is caught\n",
    "\n",
    "\n"
   ],
   "id": "969f3b0640a2fdf0",
   "outputs": [],
   "execution_count": 8
  },
  {
   "metadata": {
    "ExecuteTime": {
     "end_time": "2025-02-01T21:08:04.117078Z",
     "start_time": "2025-02-01T21:08:02.468167Z"
    }
   },
   "cell_type": "code",
   "source": [
    "from rouge_score import rouge_scorer\n",
    "\n",
    "\n",
    "def evaluate_translation(source, reference, hypothesis):\n",
    "    # Note that BLEU and chrF Scores can only be between 0 and 100\n",
    "    #    but sacreblue returns floats as percentage values\n",
    "    # --> so the scores are between 0 and 100)\n",
    "    bleu_score = sacrebleu.corpus_bleu([hypothesis], [[reference]]).score\n",
    "    chrf_score = sacrebleu.corpus_chrf([hypothesis], [[reference]]).score\n",
    "\n",
    "    metricx_score = calculate_metricx_score(source, reference, hypothesis)\n",
    "    if metricx_score is None:\n",
    "        metricx_score = -1\n",
    "\n",
    "    rougel_scorer = rouge_scorer.RougeScorer(['rougeL'], use_stemmer=True)\n",
    "    rougel_score = rougel_scorer.score(reference, hypothesis)\n",
    "\n",
    "    return {'BLEU': bleu_score,\n",
    "            'chrF': chrf_score,\n",
    "            'rougeL': (rougel_score['rougeL'].fmeasure * 100),\n",
    "            'MetricX': metricx_score}\n"
   ],
   "id": "b2db81cb89d1a90e",
   "outputs": [],
   "execution_count": 9
  },
  {
   "metadata": {
    "ExecuteTime": {
     "end_time": "2025-02-01T21:08:04.124963Z",
     "start_time": "2025-02-01T21:08:04.121080Z"
    }
   },
   "cell_type": "code",
   "source": "#evaluate_translation(\"Felix hat es satt: Ständig ist Mama unterwegs. Doch warum das so ist, will ihm niemand verraten. Für Felix ist daher klar: Seine Mutter ist eine Geheimagentin. Als er an seinem zehnten Geburtstag einen rätselhaften Brief erhält, scheint sich seine Vermutung zu bestätigen. Zusammen mit seiner besten Freundin Lina macht er sich daran, das Geheimnis um Mamas Arbeit zu lüften. Ehe sie sich versehen, stecken die beiden mitten in ihrem ersten spannenden Fall als angehende Geheimagenten.\", \"Felix is fed up: Mom is always on the go. But nobody will tell him why that is. For Felix, it's clear: his mother is a secret agent. When he receives a mysterious letter on his tenth birthday, his suspicion seems to be confirmed. Together with his best friend Lina, he sets out to uncover the secret of mom's job. Before they know it, the two are in the middle of their first exciting case as budding secret agents.\", \"\\n\\n**English Translation:**\\n\\nFelix had sat: Mama was constantly on the go. But why this is the case, no one will tell him. Therefore, clear to Felix: his mother is a covert agent. When he receives a cryptic letter on his eleventh birthday, it seems his suspicion is confirmed. Together with his best friend Lina, he starts unraveling the mystery of his mother's job. When they finally manage to solve the case, they stick to their first exciting clue like detectives.\")",
   "id": "3cf725633e2ed7e8",
   "outputs": [],
   "execution_count": 10
  },
  {
   "metadata": {},
   "cell_type": "markdown",
   "source": "### 3.3 Logging to MLFLow",
   "id": "850ab5dc61d6bfd0"
  },
  {
   "metadata": {
    "ExecuteTime": {
     "end_time": "2025-02-01T21:08:04.139262Z",
     "start_time": "2025-02-01T21:08:04.134205Z"
    }
   },
   "cell_type": "code",
   "source": [
    "def log_to_mlflow(experiment_name, template_name, metrics, prompt_type, model_name, complexity, target_language, tmp_result,\n",
    "                  prompt_language):\n",
    "    experiment = mlflow.get_experiment_by_name(experiment_name)\n",
    "\n",
    "    if experiment:\n",
    "        if experiment.lifecycle_stage == 'deleted':\n",
    "            mlflow.tracking.MlflowClient().restore_experiment(experiment.experiment_id)\n",
    "            #mlflow.delete_experiment(experiment.experiment_id)\n",
    "    else:\n",
    "        mlflow.create_experiment(experiment_name)\n",
    "\n",
    "    mlflow.set_experiment(experiment_name)\n",
    "    with mlflow.start_run(run_name=f'{model_name}/{complexity}/{template_name}'):\n",
    "        mlflow.log_param('model', model_name)\n",
    "        mlflow.log_param('complexity', complexity)\n",
    "        mlflow.log_param('prompt_type', prompt_type)\n",
    "        mlflow.log_param('target_language', target_language)\n",
    "        mlflow.log_param('prompt_language', prompt_language)\n",
    "        for key, value in metrics.items():\n",
    "            mlflow.log_metric(key, value)\n",
    "\n",
    "        tmp_result.to_json('tmp_results.json', index=False)\n",
    "        mlflow.log_artifact('tmp_results.json')\n",
    "        mlflow.end_run()\n"
   ],
   "id": "ea6b2fc077799b49",
   "outputs": [],
   "execution_count": 11
  },
  {
   "metadata": {},
   "cell_type": "markdown",
   "source": "### 3.4 Pipeline Composition",
   "id": "525e76790b8b3239"
  },
  {
   "metadata": {
    "ExecuteTime": {
     "end_time": "2025-02-01T21:08:04.158451Z",
     "start_time": "2025-02-01T21:08:04.148047Z"
    }
   },
   "cell_type": "code",
   "source": [
    "import gc\n",
    "\n",
    "\n",
    "def run_pipeline(texts):\n",
    "    results = pd.DataFrame(\n",
    "        columns=['model', 'complexity', 'prompt_type', 'prompt', 'source_text', 'hypothesis', 'reference', 'metrics',\n",
    "                 'prompt_language'])\n",
    "    mlflow.set_tracking_uri(uri='http://127.0.0.1:5000')\n",
    "\n",
    "    for model_name, model_config in MODELS.items():\n",
    "        for _, row in texts.iterrows():\n",
    "            model = createModel(model_config, row)\n",
    "            complexity_enum = next(c for c in Complexity if c.value == row['complexity'])\n",
    "\n",
    "            # Übersetzung Deutsch -> Englisch\n",
    "            for template_name, template_data in PROMPT_TEMPLATES_GERMAN_ENGLISH.items():\n",
    "                if pd.notna(row['text_german']) and complexity_enum in template_data['complexities']:\n",
    "                    results = execute_mlflow_run(template_name, complexity_enum.value, model, model_name, Language.ENGLISH, results,\n",
    "                                                 row['text_german'], row['text_english'], template_data)\n",
    "\n",
    "            # Übersetzung Englisch -> Deutsch\n",
    "            for template_name, template_data in PROMPT_TEMPLATES_ENGLISH_GERMAN.items():\n",
    "                if pd.notna(row['text_english']) and complexity_enum in template_data['complexities']:\n",
    "                    results = execute_mlflow_run(template_name, complexity_enum.value, model, model_name, Language.GERMAN, results,\n",
    "                                                 row['text_english'], row['text_german'], template_data)\n",
    "\n",
    "            # we dont need the model anymore so we delete it\n",
    "            del model\n",
    "            gc.collect()\n",
    "    return results\n",
    "\n",
    "\n",
    "def createModel(model_config, row):\n",
    "    # at first we just use the dummyModel for tokenization\n",
    "    dummyModel = create_llama_model(model_config['repo_id'], model_config['filename'])\n",
    "    combined_text = f\"{row['text_german']} {row['text_english']}\"\n",
    "    text_tokens = len(dummyModel.tokenize(combined_text.encode('utf-8')))\n",
    "    # we want to tokenize the longest template\n",
    "    max_promp_template = max(\n",
    "        (t['template'] for d in (PROMPT_TEMPLATES_GERMAN_ENGLISH, PROMPT_TEMPLATES_ENGLISH_GERMAN) for t in d.values()),\n",
    "        key=len)\n",
    "    prompt_tokens = len(dummyModel.tokenize(max_promp_template.encode('utf-8')))\n",
    "\n",
    "    # now we delete the dummyModel and then create the final model based on the estimated_max_tokens\n",
    "    del dummyModel\n",
    "    gc.collect()\n",
    "    estimated_max_tokens = (text_tokens + prompt_tokens) * 1.5\n",
    "    n_ctx = int(estimated_max_tokens * 1.1)\n",
    "    print(f\"estimated_max_tokens: {estimated_max_tokens}; n_ctx: {n_ctx}\")\n",
    "    model = create_llama_model(model_config['repo_id'], model_config['filename'], n_ctx=n_ctx)\n",
    "    return model\n",
    "\n",
    "\n",
    "def execute_mlflow_run(template_name, complexity, model, model_name, target_language: Language, results, source_text,\n",
    "                       reference_text, template_data):\n",
    "    prompt = template_data['template'].format(text=source_text)\n",
    "    prompt_language = template_data['prompt_language']\n",
    "    prompt_type = template_data['prompt_type']\n",
    "\n",
    "    start_time_translation = time.time()\n",
    "    hypothesis = translate(model, prompt, reference_text)\n",
    "    end_time_translation = time.time()\n",
    "    print('Prompt finished in (seconds): ', round(end_time_translation - start_time_translation, 2))\n",
    "    metrics = evaluate_translation(source=source_text, reference=reference_text, hypothesis=hypothesis)\n",
    "    print('Metric Calculation in (seconds): ', round(time.time() - end_time_translation, 2))\n",
    "\n",
    "    tmp_result = pd.DataFrame([{\n",
    "        'model': model_name,\n",
    "        'complexity': complexity,\n",
    "        'prompt_type': prompt_type,\n",
    "        'prompt': prompt,\n",
    "        'source_text': source_text,\n",
    "        'hypothesis': hypothesis,\n",
    "        'reference_text': reference_text,\n",
    "        'metrics': metrics,\n",
    "        'prompt_language': prompt_language.value  # Hier .value für den Stringwert\n",
    "    }])\n",
    "\n",
    "    # MLflow-Logging\n",
    "    experiment_name = f'{model_name}_{complexity}'\n",
    "\n",
    "    log_to_mlflow(experiment_name, template_name, metrics, prompt_type, model_name, complexity, target_language.value, tmp_result,\n",
    "                  prompt_language.value)\n",
    "\n",
    "    # Ergebnis speichern\n",
    "    results = pd.concat([\n",
    "        results,\n",
    "        tmp_result\n",
    "    ], ignore_index=True)\n",
    "    return results"
   ],
   "id": "961cb868381bd8a6",
   "outputs": [],
   "execution_count": 12
  },
  {
   "metadata": {},
   "cell_type": "markdown",
   "source": "### 3.5 Prompt Composition\n",
   "id": "c1d3b0fe8482b687"
  },
  {
   "metadata": {
    "ExecuteTime": {
     "end_time": "2025-02-01T21:08:04.189143Z",
     "start_time": "2025-02-01T21:08:04.166539Z"
    }
   },
   "cell_type": "code",
   "source": [
    "# Beispiel für ausgewählte complexities: 'complexities': [Complexity.EASY, Complexity.NEWS_GEN]\n",
    "\n",
    "PROMPT_TEMPLATES_ENGLISH_GERMAN = {\n",
    "\n",
    "    # ... weitere Einträge\n",
    "}\n",
    "\n",
    "PROMPT_TEMPLATES_GERMAN_ENGLISH = {\n",
    "\n",
    "    # ...\n",
    "}"
   ],
   "id": "fbda21553c9aa77b",
   "outputs": [],
   "execution_count": 13
  },
  {
   "metadata": {},
   "cell_type": "markdown",
   "source": [
    "***\n",
    "## 4 Execute Pipeline"
   ],
   "id": "770e5c8f7b34ed45"
  },
  {
   "metadata": {
    "ExecuteTime": {
     "end_time": "2025-02-02T01:37:17.387016Z",
     "start_time": "2025-02-01T21:08:04.197958Z"
    }
   },
   "cell_type": "code",
   "source": [
    "translation_results = run_pipeline(data)\n",
    "print('Fertig mit der Pipeline. Speichere Ergebnisse...')\n",
    "translation_results.to_csv('translation_results.csv', sep=';')\n",
    "print('Pipeline abgeschlossen. Ergebnisse gespeichert.')"
   ],
   "id": "54362f91437fda00",
   "outputs": [
    {
     "name": "stderr",
     "output_type": "stream",
     "text": [
      "llama_init_from_model: n_ctx_per_seq (512) < n_ctx_train (8192) -- the full capacity of the model will not be utilized\n"
     ]
    },
    {
     "name": "stdout",
     "output_type": "stream",
     "text": [
      "Model lmstudio-ai/gemma-2b-it-GGUF erfolgreich geladen mit n_ctx=512\n",
      "estimated_max_tokens: 421.5; n_ctx: 463\n"
     ]
    },
    {
     "name": "stderr",
     "output_type": "stream",
     "text": [
      "llama_init_from_model: n_ctx_per_seq (480) < n_ctx_train (8192) -- the full capacity of the model will not be utilized\n"
     ]
    },
    {
     "name": "stdout",
     "output_type": "stream",
     "text": [
      "Model lmstudio-ai/gemma-2b-it-GGUF erfolgreich geladen mit n_ctx=463\n",
      "Prompt finished in (seconds):  2.26\n",
      "Metric Calculation in (seconds):  30.08\n",
      "🏃 View run gemma/easy/zero_shot_style_emotion_to-english_english_1 at: http://127.0.0.1:5000/#/experiments/429765178055128713/runs/25de6d3d977f42f8b23dbe9d365d458d\n",
      "🧪 View experiment at: http://127.0.0.1:5000/#/experiments/429765178055128713\n",
      "Prompt finished in (seconds):  2.48\n",
      "Metric Calculation in (seconds):  23.2\n",
      "🏃 View run gemma/easy/zero_shot_style_emotion_to-english_german_1 at: http://127.0.0.1:5000/#/experiments/429765178055128713/runs/c52bca27de044b54aa99f270a83dd438\n",
      "🧪 View experiment at: http://127.0.0.1:5000/#/experiments/429765178055128713\n",
      "Prompt finished in (seconds):  1.92\n",
      "Metric Calculation in (seconds):  22.74\n",
      "🏃 View run gemma/easy/zero_shot_style_emotion_to-english_english_2 at: http://127.0.0.1:5000/#/experiments/429765178055128713/runs/cff3cf061074497da7cc14cf220fbab9\n",
      "🧪 View experiment at: http://127.0.0.1:5000/#/experiments/429765178055128713\n",
      "Prompt finished in (seconds):  2.22\n",
      "Metric Calculation in (seconds):  22.76\n",
      "🏃 View run gemma/easy/zero_shot_style_emotion_to-english_german_2 at: http://127.0.0.1:5000/#/experiments/429765178055128713/runs/8a59af3ee63a4e069d78c4b943467e8a\n",
      "🧪 View experiment at: http://127.0.0.1:5000/#/experiments/429765178055128713\n",
      "Prompt finished in (seconds):  2.35\n",
      "Metric Calculation in (seconds):  24.47\n",
      "🏃 View run gemma/easy/zero_shot_style_persona_to-english_english_1 at: http://127.0.0.1:5000/#/experiments/429765178055128713/runs/c76eb208fc404e7db627ff8c7cb3856f\n",
      "🧪 View experiment at: http://127.0.0.1:5000/#/experiments/429765178055128713\n",
      "Prompt finished in (seconds):  4.77\n",
      "Metric Calculation in (seconds):  24.92\n",
      "🏃 View run gemma/easy/zero_shot_style_persona_to-english_german_1 at: http://127.0.0.1:5000/#/experiments/429765178055128713/runs/1ec09cb841c6472a8643281209895878\n",
      "🧪 View experiment at: http://127.0.0.1:5000/#/experiments/429765178055128713\n",
      "Prompt finished in (seconds):  1.71\n",
      "Metric Calculation in (seconds):  22.66\n",
      "🏃 View run gemma/easy/zero_shot_style_emotion_to-german_english_1 at: http://127.0.0.1:5000/#/experiments/429765178055128713/runs/1d79003ee0394088bcb7a3b209267c3d\n",
      "🧪 View experiment at: http://127.0.0.1:5000/#/experiments/429765178055128713\n",
      "Prompt finished in (seconds):  11.79\n",
      "Metric Calculation in (seconds):  30.65\n",
      "🏃 View run gemma/easy/zero_shot_style_emotion_to-german_german_1 at: http://127.0.0.1:5000/#/experiments/429765178055128713/runs/d92215b47e4e4cc8b9d055ea930e4a85\n",
      "🧪 View experiment at: http://127.0.0.1:5000/#/experiments/429765178055128713\n",
      "Prompt finished in (seconds):  1.71\n",
      "Metric Calculation in (seconds):  22.56\n",
      "🏃 View run gemma/easy/zero_shot_style_emotion_to-german_english_2 at: http://127.0.0.1:5000/#/experiments/429765178055128713/runs/d2a8bb3efccb452ba8fb30ef39130d1a\n",
      "🧪 View experiment at: http://127.0.0.1:5000/#/experiments/429765178055128713\n",
      "Prompt finished in (seconds):  1.85\n",
      "Metric Calculation in (seconds):  22.72\n",
      "🏃 View run gemma/easy/zero_shot_style_emotion_to-german_german_2 at: http://127.0.0.1:5000/#/experiments/429765178055128713/runs/d2573d0c6114462daba86faab10d7c20\n",
      "🧪 View experiment at: http://127.0.0.1:5000/#/experiments/429765178055128713\n",
      "Prompt finished in (seconds):  1.85\n",
      "Metric Calculation in (seconds):  23.58\n",
      "🏃 View run gemma/easy/zero_shot_style_persona_to-german_english_1 at: http://127.0.0.1:5000/#/experiments/429765178055128713/runs/ccf33cbe439346179bbe410f36c6cf1c\n",
      "🧪 View experiment at: http://127.0.0.1:5000/#/experiments/429765178055128713\n",
      "Prompt finished in (seconds):  14.31\n",
      "Metric Calculation in (seconds):  32.35\n",
      "🏃 View run gemma/easy/zero_shot_style_persona_to-german_german_1 at: http://127.0.0.1:5000/#/experiments/429765178055128713/runs/717d0cf896e44831b58e3976a097eded\n",
      "🧪 View experiment at: http://127.0.0.1:5000/#/experiments/429765178055128713\n"
     ]
    },
    {
     "name": "stderr",
     "output_type": "stream",
     "text": [
      "llama_init_from_model: n_ctx_per_seq (512) < n_ctx_train (8192) -- the full capacity of the model will not be utilized\n"
     ]
    },
    {
     "name": "stdout",
     "output_type": "stream",
     "text": [
      "Model lmstudio-ai/gemma-2b-it-GGUF erfolgreich geladen mit n_ctx=512\n",
      "estimated_max_tokens: 294.0; n_ctx: 323\n"
     ]
    },
    {
     "name": "stderr",
     "output_type": "stream",
     "text": [
      "llama_init_from_model: n_ctx_per_seq (352) < n_ctx_train (8192) -- the full capacity of the model will not be utilized\n"
     ]
    },
    {
     "name": "stdout",
     "output_type": "stream",
     "text": [
      "Model lmstudio-ai/gemma-2b-it-GGUF erfolgreich geladen mit n_ctx=323\n",
      "Prompt finished in (seconds):  2.07\n",
      "Metric Calculation in (seconds):  20.18\n",
      "🏃 View run gemma/news_gen/zero_shot_style_emotion_to-english_english_1 at: http://127.0.0.1:5000/#/experiments/391944840061747289/runs/e89fc6f83ef14ea48590586739f195f1\n",
      "🧪 View experiment at: http://127.0.0.1:5000/#/experiments/391944840061747289\n",
      "Prompt finished in (seconds):  8.35\n",
      "Metric Calculation in (seconds):  22.72\n",
      "🏃 View run gemma/news_gen/zero_shot_style_emotion_to-english_german_1 at: http://127.0.0.1:5000/#/experiments/391944840061747289/runs/eb2b82bace0f4cc48319797908db276a\n",
      "🧪 View experiment at: http://127.0.0.1:5000/#/experiments/391944840061747289\n",
      "Prompt finished in (seconds):  2.09\n",
      "Metric Calculation in (seconds):  19.4\n",
      "🏃 View run gemma/news_gen/zero_shot_style_emotion_to-english_english_2 at: http://127.0.0.1:5000/#/experiments/391944840061747289/runs/880fdd2465c54d539f3520cbfcc72bd1\n",
      "🧪 View experiment at: http://127.0.0.1:5000/#/experiments/391944840061747289\n",
      "Prompt finished in (seconds):  2.03\n",
      "Metric Calculation in (seconds):  18.67\n",
      "🏃 View run gemma/news_gen/zero_shot_style_emotion_to-english_german_2 at: http://127.0.0.1:5000/#/experiments/391944840061747289/runs/3893bb6a626140a8a964bc2dfd4ee264\n",
      "🧪 View experiment at: http://127.0.0.1:5000/#/experiments/391944840061747289\n",
      "Prompt finished in (seconds):  6.56\n",
      "Metric Calculation in (seconds):  21.96\n",
      "🏃 View run gemma/news_gen/zero_shot_style_persona_to-english_english_1 at: http://127.0.0.1:5000/#/experiments/391944840061747289/runs/4f017adcb329470b951c1f01b6b9096e\n",
      "🧪 View experiment at: http://127.0.0.1:5000/#/experiments/391944840061747289\n",
      "Prompt finished in (seconds):  3.93\n",
      "Metric Calculation in (seconds):  19.62\n",
      "🏃 View run gemma/news_gen/zero_shot_style_persona_to-english_german_1 at: http://127.0.0.1:5000/#/experiments/391944840061747289/runs/4a9088f174844728842aa758d4298446\n",
      "🧪 View experiment at: http://127.0.0.1:5000/#/experiments/391944840061747289\n",
      "Prompt finished in (seconds):  2.32\n",
      "Metric Calculation in (seconds):  18.77\n",
      "🏃 View run gemma/news_gen/zero_shot_style_emotion_to-german_english_1 at: http://127.0.0.1:5000/#/experiments/391944840061747289/runs/75ddddd3c7fc4a8fb7de1a93591a1c0f\n",
      "🧪 View experiment at: http://127.0.0.1:5000/#/experiments/391944840061747289\n",
      "Prompt finished in (seconds):  1.29\n",
      "Metric Calculation in (seconds):  18.28\n",
      "🏃 View run gemma/news_gen/zero_shot_style_emotion_to-german_german_1 at: http://127.0.0.1:5000/#/experiments/391944840061747289/runs/3da846c1398c4cf19bc361ea151f4e95\n",
      "🧪 View experiment at: http://127.0.0.1:5000/#/experiments/391944840061747289\n",
      "Prompt finished in (seconds):  2.09\n",
      "Metric Calculation in (seconds):  18.96\n",
      "🏃 View run gemma/news_gen/zero_shot_style_emotion_to-german_english_2 at: http://127.0.0.1:5000/#/experiments/391944840061747289/runs/d48b3698d87e487e9b446269d2b484b1\n",
      "🧪 View experiment at: http://127.0.0.1:5000/#/experiments/391944840061747289\n",
      "Prompt finished in (seconds):  1.97\n",
      "Metric Calculation in (seconds):  18.81\n",
      "🏃 View run gemma/news_gen/zero_shot_style_emotion_to-german_german_2 at: http://127.0.0.1:5000/#/experiments/391944840061747289/runs/d6da747d2af24a68ae8658b9475661d2\n",
      "🧪 View experiment at: http://127.0.0.1:5000/#/experiments/391944840061747289\n",
      "Prompt finished in (seconds):  1.24\n",
      "Metric Calculation in (seconds):  18.58\n",
      "🏃 View run gemma/news_gen/zero_shot_style_persona_to-german_english_1 at: http://127.0.0.1:5000/#/experiments/391944840061747289/runs/e635f105279b4c97be55238f82d96b64\n",
      "🧪 View experiment at: http://127.0.0.1:5000/#/experiments/391944840061747289\n",
      "Prompt finished in (seconds):  8.6\n",
      "Metric Calculation in (seconds):  22.18\n",
      "🏃 View run gemma/news_gen/zero_shot_style_persona_to-german_german_1 at: http://127.0.0.1:5000/#/experiments/391944840061747289/runs/c54682539374456fb08b4a78e3f0e518\n",
      "🧪 View experiment at: http://127.0.0.1:5000/#/experiments/391944840061747289\n"
     ]
    },
    {
     "name": "stderr",
     "output_type": "stream",
     "text": [
      "llama_init_from_model: n_ctx_per_seq (512) < n_ctx_train (8192) -- the full capacity of the model will not be utilized\n"
     ]
    },
    {
     "name": "stdout",
     "output_type": "stream",
     "text": [
      "Model lmstudio-ai/gemma-2b-it-GGUF erfolgreich geladen mit n_ctx=512\n",
      "estimated_max_tokens: 429.0; n_ctx: 471\n"
     ]
    },
    {
     "name": "stderr",
     "output_type": "stream",
     "text": [
      "llama_init_from_model: n_ctx_per_seq (480) < n_ctx_train (8192) -- the full capacity of the model will not be utilized\n"
     ]
    },
    {
     "name": "stdout",
     "output_type": "stream",
     "text": [
      "Model lmstudio-ai/gemma-2b-it-GGUF erfolgreich geladen mit n_ctx=471\n",
      "Prompt finished in (seconds):  3.6\n",
      "Metric Calculation in (seconds):  23.27\n",
      "🏃 View run gemma/news_spec/zero_shot_style_emotion_to-english_english_1 at: http://127.0.0.1:5000/#/experiments/713590614913207437/runs/8eb7ab0bc65b4915ba2484574bbdd098\n",
      "🧪 View experiment at: http://127.0.0.1:5000/#/experiments/713590614913207437\n",
      "Prompt finished in (seconds):  11.81\n",
      "Metric Calculation in (seconds):  30.0\n",
      "🏃 View run gemma/news_spec/zero_shot_style_emotion_to-english_german_1 at: http://127.0.0.1:5000/#/experiments/713590614913207437/runs/3611bfc0bb0a46ce97e4633483cad14d\n",
      "🧪 View experiment at: http://127.0.0.1:5000/#/experiments/713590614913207437\n",
      "Prompt finished in (seconds):  1.9\n",
      "Metric Calculation in (seconds):  22.56\n",
      "🏃 View run gemma/news_spec/zero_shot_style_emotion_to-english_english_2 at: http://127.0.0.1:5000/#/experiments/713590614913207437/runs/55d4998f90224c679df39325a8c6e265\n",
      "🧪 View experiment at: http://127.0.0.1:5000/#/experiments/713590614913207437\n",
      "Prompt finished in (seconds):  2.02\n",
      "Metric Calculation in (seconds):  22.84\n",
      "🏃 View run gemma/news_spec/zero_shot_style_emotion_to-english_german_2 at: http://127.0.0.1:5000/#/experiments/713590614913207437/runs/51a6edb7e06f498dbdd31d332091e770\n",
      "🧪 View experiment at: http://127.0.0.1:5000/#/experiments/713590614913207437\n",
      "Prompt finished in (seconds):  1.93\n",
      "Metric Calculation in (seconds):  22.91\n",
      "🏃 View run gemma/news_spec/zero_shot_style_persona_to-english_english_1 at: http://127.0.0.1:5000/#/experiments/713590614913207437/runs/63a3f521bb124df5979c80f0201b65be\n",
      "🧪 View experiment at: http://127.0.0.1:5000/#/experiments/713590614913207437\n",
      "Prompt finished in (seconds):  3.42\n",
      "Metric Calculation in (seconds):  24.66\n",
      "🏃 View run gemma/news_spec/zero_shot_style_persona_to-english_german_1 at: http://127.0.0.1:5000/#/experiments/713590614913207437/runs/11359b753fdf4892a3affae6ea7e26e5\n",
      "🧪 View experiment at: http://127.0.0.1:5000/#/experiments/713590614913207437\n",
      "Prompt finished in (seconds):  1.67\n",
      "Metric Calculation in (seconds):  22.92\n",
      "🏃 View run gemma/news_spec/zero_shot_style_emotion_to-german_english_1 at: http://127.0.0.1:5000/#/experiments/713590614913207437/runs/ccbd2df65ca1412db0e4774e73d6c46d\n",
      "🧪 View experiment at: http://127.0.0.1:5000/#/experiments/713590614913207437\n",
      "Prompt finished in (seconds):  2.78\n",
      "Metric Calculation in (seconds):  24.69\n",
      "🏃 View run gemma/news_spec/zero_shot_style_emotion_to-german_german_1 at: http://127.0.0.1:5000/#/experiments/713590614913207437/runs/acca28193e2242ef863bf357dd4bb696\n",
      "🧪 View experiment at: http://127.0.0.1:5000/#/experiments/713590614913207437\n",
      "Prompt finished in (seconds):  1.86\n",
      "Metric Calculation in (seconds):  23.64\n",
      "🏃 View run gemma/news_spec/zero_shot_style_emotion_to-german_english_2 at: http://127.0.0.1:5000/#/experiments/713590614913207437/runs/bfb0e7fbc96a461a8e9e05b5932f17d6\n",
      "🧪 View experiment at: http://127.0.0.1:5000/#/experiments/713590614913207437\n",
      "Prompt finished in (seconds):  1.81\n",
      "Metric Calculation in (seconds):  23.04\n",
      "🏃 View run gemma/news_spec/zero_shot_style_emotion_to-german_german_2 at: http://127.0.0.1:5000/#/experiments/713590614913207437/runs/ed62dc1120e34cce8d084c65c57b9b5f\n",
      "🧪 View experiment at: http://127.0.0.1:5000/#/experiments/713590614913207437\n",
      "Prompt finished in (seconds):  1.67\n",
      "Metric Calculation in (seconds):  23.02\n",
      "🏃 View run gemma/news_spec/zero_shot_style_persona_to-german_english_1 at: http://127.0.0.1:5000/#/experiments/713590614913207437/runs/f6597ddf75bc411eb9fe265c61433fc9\n",
      "🧪 View experiment at: http://127.0.0.1:5000/#/experiments/713590614913207437\n",
      "Prompt finished in (seconds):  4.76\n",
      "Metric Calculation in (seconds):  24.36\n",
      "🏃 View run gemma/news_spec/zero_shot_style_persona_to-german_german_1 at: http://127.0.0.1:5000/#/experiments/713590614913207437/runs/ecce789ab3a04cb39fa4da794ac70ac8\n",
      "🧪 View experiment at: http://127.0.0.1:5000/#/experiments/713590614913207437\n"
     ]
    },
    {
     "name": "stderr",
     "output_type": "stream",
     "text": [
      "llama_init_from_model: n_ctx_per_seq (512) < n_ctx_train (8192) -- the full capacity of the model will not be utilized\n"
     ]
    },
    {
     "name": "stdout",
     "output_type": "stream",
     "text": [
      "Model lmstudio-ai/gemma-2b-it-GGUF erfolgreich geladen mit n_ctx=512\n",
      "estimated_max_tokens: 439.5; n_ctx: 483\n"
     ]
    },
    {
     "name": "stderr",
     "output_type": "stream",
     "text": [
      "llama_init_from_model: n_ctx_per_seq (512) < n_ctx_train (8192) -- the full capacity of the model will not be utilized\n"
     ]
    },
    {
     "name": "stdout",
     "output_type": "stream",
     "text": [
      "Model lmstudio-ai/gemma-2b-it-GGUF erfolgreich geladen mit n_ctx=483\n",
      "Prompt finished in (seconds):  2.1\n",
      "Metric Calculation in (seconds):  23.54\n",
      "🏃 View run gemma/pop_science/zero_shot_style_emotion_to-english_english_1 at: http://127.0.0.1:5000/#/experiments/819534162661537410/runs/6b6a7680628b4670be0de9fc37cd8307\n",
      "🧪 View experiment at: http://127.0.0.1:5000/#/experiments/819534162661537410\n",
      "Prompt finished in (seconds):  1.99\n",
      "Metric Calculation in (seconds):  23.33\n",
      "🏃 View run gemma/pop_science/zero_shot_style_emotion_to-english_german_1 at: http://127.0.0.1:5000/#/experiments/819534162661537410/runs/30dcc33c16a842d6b1bb5e5bf07191d0\n",
      "🧪 View experiment at: http://127.0.0.1:5000/#/experiments/819534162661537410\n",
      "Prompt finished in (seconds):  1.9\n",
      "Metric Calculation in (seconds):  23.88\n",
      "🏃 View run gemma/pop_science/zero_shot_style_emotion_to-english_english_2 at: http://127.0.0.1:5000/#/experiments/819534162661537410/runs/0a280ffa7c75475baea00480869942df\n",
      "🧪 View experiment at: http://127.0.0.1:5000/#/experiments/819534162661537410\n",
      "Prompt finished in (seconds):  2.0\n",
      "Metric Calculation in (seconds):  23.27\n",
      "🏃 View run gemma/pop_science/zero_shot_style_emotion_to-english_german_2 at: http://127.0.0.1:5000/#/experiments/819534162661537410/runs/f121af1a1fc84562b053a6d71b291050\n",
      "🧪 View experiment at: http://127.0.0.1:5000/#/experiments/819534162661537410\n",
      "Prompt finished in (seconds):  2.41\n",
      "Metric Calculation in (seconds):  23.95\n",
      "🏃 View run gemma/pop_science/zero_shot_style_persona_to-english_english_1 at: http://127.0.0.1:5000/#/experiments/819534162661537410/runs/33a801858ee54c2da20f21656b5d8068\n",
      "🧪 View experiment at: http://127.0.0.1:5000/#/experiments/819534162661537410\n",
      "Prompt finished in (seconds):  4.23\n",
      "Metric Calculation in (seconds):  25.16\n",
      "🏃 View run gemma/pop_science/zero_shot_style_persona_to-english_german_1 at: http://127.0.0.1:5000/#/experiments/819534162661537410/runs/ae58c2ac530b4105963abf762a4f7f25\n",
      "🧪 View experiment at: http://127.0.0.1:5000/#/experiments/819534162661537410\n",
      "Prompt finished in (seconds):  1.71\n",
      "Metric Calculation in (seconds):  23.3\n",
      "🏃 View run gemma/pop_science/zero_shot_style_emotion_to-german_english_1 at: http://127.0.0.1:5000/#/experiments/819534162661537410/runs/33d61ad34c184964a957e11632035d36\n",
      "🧪 View experiment at: http://127.0.0.1:5000/#/experiments/819534162661537410\n",
      "Prompt finished in (seconds):  1.82\n",
      "Metric Calculation in (seconds):  23.39\n",
      "🏃 View run gemma/pop_science/zero_shot_style_emotion_to-german_german_1 at: http://127.0.0.1:5000/#/experiments/819534162661537410/runs/7fde598e28774535b40f62f894f3a039\n",
      "🧪 View experiment at: http://127.0.0.1:5000/#/experiments/819534162661537410\n",
      "Prompt finished in (seconds):  12.83\n",
      "Metric Calculation in (seconds):  30.31\n",
      "🏃 View run gemma/pop_science/zero_shot_style_emotion_to-german_english_2 at: http://127.0.0.1:5000/#/experiments/819534162661537410/runs/ce08cdf8a4b74d4c83845b7d2b9989f2\n",
      "🧪 View experiment at: http://127.0.0.1:5000/#/experiments/819534162661537410\n",
      "Prompt finished in (seconds):  2.36\n",
      "Metric Calculation in (seconds):  23.34\n",
      "🏃 View run gemma/pop_science/zero_shot_style_emotion_to-german_german_2 at: http://127.0.0.1:5000/#/experiments/819534162661537410/runs/b3ff05dcf0d340ea822d06852dfe2ad1\n",
      "🧪 View experiment at: http://127.0.0.1:5000/#/experiments/819534162661537410\n",
      "Prompt finished in (seconds):  1.78\n",
      "Metric Calculation in (seconds):  23.83\n",
      "🏃 View run gemma/pop_science/zero_shot_style_persona_to-german_english_1 at: http://127.0.0.1:5000/#/experiments/819534162661537410/runs/d6fcb4b103b340848f4ddf24afd40595\n",
      "🧪 View experiment at: http://127.0.0.1:5000/#/experiments/819534162661537410\n",
      "Prompt finished in (seconds):  14.43\n",
      "Metric Calculation in (seconds):  30.61\n",
      "🏃 View run gemma/pop_science/zero_shot_style_persona_to-german_german_1 at: http://127.0.0.1:5000/#/experiments/819534162661537410/runs/54b776c45b2c468bbbb10b994025fa2f\n",
      "🧪 View experiment at: http://127.0.0.1:5000/#/experiments/819534162661537410\n"
     ]
    },
    {
     "name": "stderr",
     "output_type": "stream",
     "text": [
      "llama_init_from_model: n_ctx_per_seq (512) < n_ctx_train (8192) -- the full capacity of the model will not be utilized\n"
     ]
    },
    {
     "name": "stdout",
     "output_type": "stream",
     "text": [
      "Model lmstudio-ai/gemma-2b-it-GGUF erfolgreich geladen mit n_ctx=512\n",
      "estimated_max_tokens: 856.5; n_ctx: 942\n"
     ]
    },
    {
     "name": "stderr",
     "output_type": "stream",
     "text": [
      "llama_init_from_model: n_ctx_per_seq (960) < n_ctx_train (8192) -- the full capacity of the model will not be utilized\n"
     ]
    },
    {
     "name": "stdout",
     "output_type": "stream",
     "text": [
      "Model lmstudio-ai/gemma-2b-it-GGUF erfolgreich geladen mit n_ctx=942\n",
      "Prompt finished in (seconds):  5.06\n",
      "Metric Calculation in (seconds):  37.23\n",
      "🏃 View run gemma/science/zero_shot_style_emotion_to-english_english_1 at: http://127.0.0.1:5000/#/experiments/895795565739563094/runs/9b7325ee578342d3bdc0b4383a2af199\n",
      "🧪 View experiment at: http://127.0.0.1:5000/#/experiments/895795565739563094\n",
      "Prompt finished in (seconds):  3.88\n",
      "Metric Calculation in (seconds):  37.56\n",
      "🏃 View run gemma/science/zero_shot_style_emotion_to-english_german_1 at: http://127.0.0.1:5000/#/experiments/895795565739563094/runs/a0a7dfc71f644017b6395a6415bc4029\n",
      "🧪 View experiment at: http://127.0.0.1:5000/#/experiments/895795565739563094\n",
      "Prompt finished in (seconds):  4.66\n",
      "Metric Calculation in (seconds):  37.44\n",
      "🏃 View run gemma/science/zero_shot_style_emotion_to-english_english_2 at: http://127.0.0.1:5000/#/experiments/895795565739563094/runs/b0f3073aa41441b792f148f100cb2c7e\n",
      "🧪 View experiment at: http://127.0.0.1:5000/#/experiments/895795565739563094\n",
      "Prompt finished in (seconds):  6.2\n",
      "Metric Calculation in (seconds):  37.95\n",
      "🏃 View run gemma/science/zero_shot_style_emotion_to-english_german_2 at: http://127.0.0.1:5000/#/experiments/895795565739563094/runs/27cd6d06be59440b808a7e5b4ef8af5d\n",
      "🧪 View experiment at: http://127.0.0.1:5000/#/experiments/895795565739563094\n",
      "Prompt finished in (seconds):  5.26\n",
      "Metric Calculation in (seconds):  37.39\n",
      "🏃 View run gemma/science/zero_shot_style_persona_to-english_english_1 at: http://127.0.0.1:5000/#/experiments/895795565739563094/runs/27b3ce79e97a4736b3bb0b9641a795e7\n",
      "🧪 View experiment at: http://127.0.0.1:5000/#/experiments/895795565739563094\n",
      "Prompt finished in (seconds):  26.68\n",
      "Metric Calculation in (seconds):  58.1\n",
      "🏃 View run gemma/science/zero_shot_style_persona_to-english_german_1 at: http://127.0.0.1:5000/#/experiments/895795565739563094/runs/d5778b918dfb4da2a6dd39e39cfc5501\n",
      "🧪 View experiment at: http://127.0.0.1:5000/#/experiments/895795565739563094\n",
      "Prompt finished in (seconds):  3.0\n",
      "Metric Calculation in (seconds):  36.59\n",
      "🏃 View run gemma/science/zero_shot_style_emotion_to-german_english_1 at: http://127.0.0.1:5000/#/experiments/895795565739563094/runs/5bc2fc6c4b5e45aaa50b9d72351509be\n",
      "🧪 View experiment at: http://127.0.0.1:5000/#/experiments/895795565739563094\n",
      "Prompt finished in (seconds):  3.09\n",
      "Metric Calculation in (seconds):  36.28\n",
      "🏃 View run gemma/science/zero_shot_style_emotion_to-german_german_1 at: http://127.0.0.1:5000/#/experiments/895795565739563094/runs/7cd0fc421e4b4cc89ae177e9cfff9314\n",
      "🧪 View experiment at: http://127.0.0.1:5000/#/experiments/895795565739563094\n",
      "Prompt finished in (seconds):  3.08\n",
      "Metric Calculation in (seconds):  38.14\n",
      "🏃 View run gemma/science/zero_shot_style_emotion_to-german_english_2 at: http://127.0.0.1:5000/#/experiments/895795565739563094/runs/9f2f861596954cd7be60cd4ba966c882\n",
      "🧪 View experiment at: http://127.0.0.1:5000/#/experiments/895795565739563094\n",
      "Prompt finished in (seconds):  3.23\n",
      "Metric Calculation in (seconds):  36.73\n",
      "🏃 View run gemma/science/zero_shot_style_emotion_to-german_german_2 at: http://127.0.0.1:5000/#/experiments/895795565739563094/runs/3b87c608790d4e1c8866941d2bcb8d7b\n",
      "🧪 View experiment at: http://127.0.0.1:5000/#/experiments/895795565739563094\n",
      "Prompt finished in (seconds):  27.45\n",
      "Metric Calculation in (seconds):  58.22\n",
      "🏃 View run gemma/science/zero_shot_style_persona_to-german_english_1 at: http://127.0.0.1:5000/#/experiments/895795565739563094/runs/05df36dbec4f47868f33f10626b649c5\n",
      "🧪 View experiment at: http://127.0.0.1:5000/#/experiments/895795565739563094\n",
      "Prompt finished in (seconds):  27.86\n",
      "Metric Calculation in (seconds):  54.7\n",
      "🏃 View run gemma/science/zero_shot_style_persona_to-german_german_1 at: http://127.0.0.1:5000/#/experiments/895795565739563094/runs/bf494b3451554d94ae052e4c78d78958\n",
      "🧪 View experiment at: http://127.0.0.1:5000/#/experiments/895795565739563094\n"
     ]
    },
    {
     "name": "stderr",
     "output_type": "stream",
     "text": [
      "llama_init_from_model: n_ctx_per_seq (512) < n_ctx_train (131072) -- the full capacity of the model will not be utilized\n"
     ]
    },
    {
     "name": "stdout",
     "output_type": "stream",
     "text": [
      "Model hugging-quants/Llama-3.2-3B-Instruct-Q8_0-GGUF erfolgreich geladen mit n_ctx=512\n",
      "estimated_max_tokens: 511.5; n_ctx: 562\n"
     ]
    },
    {
     "name": "stderr",
     "output_type": "stream",
     "text": [
      "llama_init_from_model: n_ctx_per_seq (576) < n_ctx_train (131072) -- the full capacity of the model will not be utilized\n"
     ]
    },
    {
     "name": "stdout",
     "output_type": "stream",
     "text": [
      "Model hugging-quants/Llama-3.2-3B-Instruct-Q8_0-GGUF erfolgreich geladen mit n_ctx=562\n",
      "Prompt finished in (seconds):  47.5\n",
      "Metric Calculation in (seconds):  52.13\n",
      "🏃 View run llama32/easy/zero_shot_style_emotion_to-english_english_1 at: http://127.0.0.1:5000/#/experiments/170611153105097398/runs/5913d165318340beb7e6fbc9ae785dae\n",
      "🧪 View experiment at: http://127.0.0.1:5000/#/experiments/170611153105097398\n",
      "Prompt finished in (seconds):  19.69\n",
      "Metric Calculation in (seconds):  31.67\n",
      "🏃 View run llama32/easy/zero_shot_style_emotion_to-english_german_1 at: http://127.0.0.1:5000/#/experiments/170611153105097398/runs/b66a987941c44c7bafe97441e7a414b3\n",
      "🧪 View experiment at: http://127.0.0.1:5000/#/experiments/170611153105097398\n",
      "Prompt finished in (seconds):  11.15\n",
      "Metric Calculation in (seconds):  27.87\n",
      "🏃 View run llama32/easy/zero_shot_style_emotion_to-english_english_2 at: http://127.0.0.1:5000/#/experiments/170611153105097398/runs/91fe7046fa7a4b619bbc296deb45a272\n",
      "🧪 View experiment at: http://127.0.0.1:5000/#/experiments/170611153105097398\n",
      "Prompt finished in (seconds):  43.53\n",
      "Metric Calculation in (seconds):  42.46\n",
      "🏃 View run llama32/easy/zero_shot_style_emotion_to-english_german_2 at: http://127.0.0.1:5000/#/experiments/170611153105097398/runs/4760eadc0d0c42499773b3617b84041b\n",
      "🧪 View experiment at: http://127.0.0.1:5000/#/experiments/170611153105097398\n",
      "Prompt finished in (seconds):  21.41\n",
      "Metric Calculation in (seconds):  35.2\n",
      "🏃 View run llama32/easy/zero_shot_style_persona_to-english_english_1 at: http://127.0.0.1:5000/#/experiments/170611153105097398/runs/1135dac269a840ed8eb36206a3ae2e26\n",
      "🧪 View experiment at: http://127.0.0.1:5000/#/experiments/170611153105097398\n",
      "Prompt finished in (seconds):  36.82\n",
      "Metric Calculation in (seconds):  39.88\n",
      "🏃 View run llama32/easy/zero_shot_style_persona_to-english_german_1 at: http://127.0.0.1:5000/#/experiments/170611153105097398/runs/fdc8d11544a8446dbec0bb9454da5162\n",
      "🧪 View experiment at: http://127.0.0.1:5000/#/experiments/170611153105097398\n",
      "Prompt finished in (seconds):  19.06\n",
      "Metric Calculation in (seconds):  31.0\n",
      "🏃 View run llama32/easy/zero_shot_style_emotion_to-german_english_1 at: http://127.0.0.1:5000/#/experiments/170611153105097398/runs/25555f944e244e988ff22d5d293ac9d9\n",
      "🧪 View experiment at: http://127.0.0.1:5000/#/experiments/170611153105097398\n",
      "Prompt finished in (seconds):  2.82\n",
      "Metric Calculation in (seconds):  23.61\n",
      "🏃 View run llama32/easy/zero_shot_style_emotion_to-german_german_1 at: http://127.0.0.1:5000/#/experiments/170611153105097398/runs/b1147ee99eb54b4aa9dd5b1abf101650\n",
      "🧪 View experiment at: http://127.0.0.1:5000/#/experiments/170611153105097398\n",
      "Prompt finished in (seconds):  38.23\n",
      "Metric Calculation in (seconds):  43.25\n",
      "🏃 View run llama32/easy/zero_shot_style_emotion_to-german_english_2 at: http://127.0.0.1:5000/#/experiments/170611153105097398/runs/3c49fd9869f54568bef122e0c3622da6\n",
      "🧪 View experiment at: http://127.0.0.1:5000/#/experiments/170611153105097398\n",
      "Prompt finished in (seconds):  48.05\n",
      "Metric Calculation in (seconds):  46.79\n",
      "🏃 View run llama32/easy/zero_shot_style_emotion_to-german_german_2 at: http://127.0.0.1:5000/#/experiments/170611153105097398/runs/6e1228dc01014e77901c500e0b1671c9\n",
      "🧪 View experiment at: http://127.0.0.1:5000/#/experiments/170611153105097398\n",
      "Prompt finished in (seconds):  50.75\n",
      "Metric Calculation in (seconds):  56.39\n",
      "🏃 View run llama32/easy/zero_shot_style_persona_to-german_english_1 at: http://127.0.0.1:5000/#/experiments/170611153105097398/runs/53323b9926b64d7aa13e5e18fe830802\n",
      "🧪 View experiment at: http://127.0.0.1:5000/#/experiments/170611153105097398\n",
      "Prompt finished in (seconds):  46.28\n",
      "Metric Calculation in (seconds):  43.65\n",
      "🏃 View run llama32/easy/zero_shot_style_persona_to-german_german_1 at: http://127.0.0.1:5000/#/experiments/170611153105097398/runs/9e153f35a23a40588e7e9241c692aff7\n",
      "🧪 View experiment at: http://127.0.0.1:5000/#/experiments/170611153105097398\n"
     ]
    },
    {
     "name": "stderr",
     "output_type": "stream",
     "text": [
      "llama_init_from_model: n_ctx_per_seq (512) < n_ctx_train (131072) -- the full capacity of the model will not be utilized\n"
     ]
    },
    {
     "name": "stdout",
     "output_type": "stream",
     "text": [
      "Model hugging-quants/Llama-3.2-3B-Instruct-Q8_0-GGUF erfolgreich geladen mit n_ctx=512\n",
      "estimated_max_tokens: 370.5; n_ctx: 407\n"
     ]
    },
    {
     "name": "stderr",
     "output_type": "stream",
     "text": [
      "llama_init_from_model: n_ctx_per_seq (416) < n_ctx_train (131072) -- the full capacity of the model will not be utilized\n"
     ]
    },
    {
     "name": "stdout",
     "output_type": "stream",
     "text": [
      "Model hugging-quants/Llama-3.2-3B-Instruct-Q8_0-GGUF erfolgreich geladen mit n_ctx=407\n",
      "Prompt finished in (seconds):  33.89\n",
      "Metric Calculation in (seconds):  34.15\n",
      "🏃 View run llama32/news_gen/zero_shot_style_emotion_to-english_english_1 at: http://127.0.0.1:5000/#/experiments/379656095678811037/runs/d1c3817a178749b4bc5e4fb6deb48532\n",
      "🧪 View experiment at: http://127.0.0.1:5000/#/experiments/379656095678811037\n",
      "Prompt finished in (seconds):  31.01\n",
      "Metric Calculation in (seconds):  27.54\n",
      "🏃 View run llama32/news_gen/zero_shot_style_emotion_to-english_german_1 at: http://127.0.0.1:5000/#/experiments/379656095678811037/runs/1415632f13264c439f9c07892644cb54\n",
      "🧪 View experiment at: http://127.0.0.1:5000/#/experiments/379656095678811037\n",
      "Prompt finished in (seconds):  9.08\n",
      "Metric Calculation in (seconds):  21.46\n",
      "🏃 View run llama32/news_gen/zero_shot_style_emotion_to-english_english_2 at: http://127.0.0.1:5000/#/experiments/379656095678811037/runs/fab4a44713fb4d879f7da9e6a47c4ef4\n",
      "🧪 View experiment at: http://127.0.0.1:5000/#/experiments/379656095678811037\n",
      "Prompt finished in (seconds):  13.95\n",
      "Metric Calculation in (seconds):  23.27\n",
      "🏃 View run llama32/news_gen/zero_shot_style_emotion_to-english_german_2 at: http://127.0.0.1:5000/#/experiments/379656095678811037/runs/c7683a53631c425f9b0a7bba181ba85b\n",
      "🧪 View experiment at: http://127.0.0.1:5000/#/experiments/379656095678811037\n",
      "Prompt finished in (seconds):  33.68\n",
      "Metric Calculation in (seconds):  33.74\n",
      "🏃 View run llama32/news_gen/zero_shot_style_persona_to-english_english_1 at: http://127.0.0.1:5000/#/experiments/379656095678811037/runs/19ac160286d5411aa8f4ab8f833e6274\n",
      "🧪 View experiment at: http://127.0.0.1:5000/#/experiments/379656095678811037\n",
      "Prompt finished in (seconds):  28.85\n",
      "Metric Calculation in (seconds):  28.61\n",
      "🏃 View run llama32/news_gen/zero_shot_style_persona_to-english_german_1 at: http://127.0.0.1:5000/#/experiments/379656095678811037/runs/3aca020457264722b6dfaccdc0eb999f\n",
      "🧪 View experiment at: http://127.0.0.1:5000/#/experiments/379656095678811037\n",
      "Prompt finished in (seconds):  34.91\n",
      "Metric Calculation in (seconds):  34.73\n",
      "🏃 View run llama32/news_gen/zero_shot_style_emotion_to-german_english_1 at: http://127.0.0.1:5000/#/experiments/379656095678811037/runs/ecab0200d0784da3b810623423aead47\n",
      "🧪 View experiment at: http://127.0.0.1:5000/#/experiments/379656095678811037\n",
      "Prompt finished in (seconds):  34.59\n",
      "Metric Calculation in (seconds):  31.74\n",
      "🏃 View run llama32/news_gen/zero_shot_style_emotion_to-german_german_1 at: http://127.0.0.1:5000/#/experiments/379656095678811037/runs/9f09e070d8b643fa8d450c77877ba03d\n",
      "🧪 View experiment at: http://127.0.0.1:5000/#/experiments/379656095678811037\n",
      "Prompt finished in (seconds):  33.25\n",
      "Metric Calculation in (seconds):  34.33\n",
      "🏃 View run llama32/news_gen/zero_shot_style_emotion_to-german_english_2 at: http://127.0.0.1:5000/#/experiments/379656095678811037/runs/67c0a1bf822d42caa800c8fd4b05fdc0\n",
      "🧪 View experiment at: http://127.0.0.1:5000/#/experiments/379656095678811037\n",
      "Prompt finished in (seconds):  33.56\n",
      "Metric Calculation in (seconds):  31.13\n",
      "🏃 View run llama32/news_gen/zero_shot_style_emotion_to-german_german_2 at: http://127.0.0.1:5000/#/experiments/379656095678811037/runs/90017b66f8ff4fcdb6af35a00afe7db8\n",
      "🧪 View experiment at: http://127.0.0.1:5000/#/experiments/379656095678811037\n",
      "Prompt finished in (seconds):  12.99\n",
      "Metric Calculation in (seconds):  22.34\n",
      "🏃 View run llama32/news_gen/zero_shot_style_persona_to-german_english_1 at: http://127.0.0.1:5000/#/experiments/379656095678811037/runs/8644d9ed91a8467d8da2e9b637e861b4\n",
      "🧪 View experiment at: http://127.0.0.1:5000/#/experiments/379656095678811037\n",
      "Prompt finished in (seconds):  31.75\n",
      "Metric Calculation in (seconds):  29.49\n",
      "🏃 View run llama32/news_gen/zero_shot_style_persona_to-german_german_1 at: http://127.0.0.1:5000/#/experiments/379656095678811037/runs/cc97f4c9cbb045c690cbd18270cca560\n",
      "🧪 View experiment at: http://127.0.0.1:5000/#/experiments/379656095678811037\n"
     ]
    },
    {
     "name": "stderr",
     "output_type": "stream",
     "text": [
      "llama_init_from_model: n_ctx_per_seq (512) < n_ctx_train (131072) -- the full capacity of the model will not be utilized\n"
     ]
    },
    {
     "name": "stdout",
     "output_type": "stream",
     "text": [
      "Model hugging-quants/Llama-3.2-3B-Instruct-Q8_0-GGUF erfolgreich geladen mit n_ctx=512\n",
      "estimated_max_tokens: 522.0; n_ctx: 574\n"
     ]
    },
    {
     "name": "stderr",
     "output_type": "stream",
     "text": [
      "llama_init_from_model: n_ctx_per_seq (576) < n_ctx_train (131072) -- the full capacity of the model will not be utilized\n"
     ]
    },
    {
     "name": "stdout",
     "output_type": "stream",
     "text": [
      "Model hugging-quants/Llama-3.2-3B-Instruct-Q8_0-GGUF erfolgreich geladen mit n_ctx=574\n",
      "Prompt finished in (seconds):  47.05\n",
      "Metric Calculation in (seconds):  51.41\n",
      "🏃 View run llama32/news_spec/zero_shot_style_emotion_to-english_english_1 at: http://127.0.0.1:5000/#/experiments/194158564450517751/runs/024289ccd27243ba924a693f993e661a\n",
      "🧪 View experiment at: http://127.0.0.1:5000/#/experiments/194158564450517751\n",
      "Prompt finished in (seconds):  25.39\n",
      "Metric Calculation in (seconds):  34.04\n",
      "🏃 View run llama32/news_spec/zero_shot_style_emotion_to-english_german_1 at: http://127.0.0.1:5000/#/experiments/194158564450517751/runs/a99084065bf6417585f59191be81ee8b\n",
      "🧪 View experiment at: http://127.0.0.1:5000/#/experiments/194158564450517751\n",
      "Prompt finished in (seconds):  18.52\n",
      "Metric Calculation in (seconds):  32.05\n",
      "🏃 View run llama32/news_spec/zero_shot_style_emotion_to-english_english_2 at: http://127.0.0.1:5000/#/experiments/194158564450517751/runs/4bd1c765cf0a4c19be019fa9cfcdc2ce\n",
      "🧪 View experiment at: http://127.0.0.1:5000/#/experiments/194158564450517751\n",
      "Prompt finished in (seconds):  42.71\n",
      "Metric Calculation in (seconds):  39.58\n",
      "🏃 View run llama32/news_spec/zero_shot_style_emotion_to-english_german_2 at: http://127.0.0.1:5000/#/experiments/194158564450517751/runs/6fa963d0ef7242bb9854ade193c09f0e\n",
      "🧪 View experiment at: http://127.0.0.1:5000/#/experiments/194158564450517751\n",
      "Prompt finished in (seconds):  20.56\n",
      "Metric Calculation in (seconds):  33.44\n",
      "🏃 View run llama32/news_spec/zero_shot_style_persona_to-english_english_1 at: http://127.0.0.1:5000/#/experiments/194158564450517751/runs/206febf506584b8d8aac9ff37507e78f\n",
      "🧪 View experiment at: http://127.0.0.1:5000/#/experiments/194158564450517751\n",
      "Prompt finished in (seconds):  41.17\n",
      "Metric Calculation in (seconds):  41.02\n",
      "🏃 View run llama32/news_spec/zero_shot_style_persona_to-english_german_1 at: http://127.0.0.1:5000/#/experiments/194158564450517751/runs/c23cda20e55e45e3b668688e93427194\n",
      "🧪 View experiment at: http://127.0.0.1:5000/#/experiments/194158564450517751\n",
      "Prompt finished in (seconds):  14.12\n",
      "Metric Calculation in (seconds):  29.3\n",
      "🏃 View run llama32/news_spec/zero_shot_style_emotion_to-german_english_1 at: http://127.0.0.1:5000/#/experiments/194158564450517751/runs/f3729888d6b24823aa8fa4990f19f2ea\n",
      "🧪 View experiment at: http://127.0.0.1:5000/#/experiments/194158564450517751\n",
      "Prompt finished in (seconds):  21.08\n",
      "Metric Calculation in (seconds):  33.55\n",
      "🏃 View run llama32/news_spec/zero_shot_style_emotion_to-german_german_1 at: http://127.0.0.1:5000/#/experiments/194158564450517751/runs/55f6da054f814ebf9d42dafab2f9cf6f\n",
      "🧪 View experiment at: http://127.0.0.1:5000/#/experiments/194158564450517751\n",
      "Prompt finished in (seconds):  19.51\n",
      "Metric Calculation in (seconds):  30.59\n",
      "🏃 View run llama32/news_spec/zero_shot_style_emotion_to-german_english_2 at: http://127.0.0.1:5000/#/experiments/194158564450517751/runs/297763f7ec2f4011bc7c9f5cd5df7b6f\n",
      "🧪 View experiment at: http://127.0.0.1:5000/#/experiments/194158564450517751\n",
      "Prompt finished in (seconds):  47.79\n",
      "Metric Calculation in (seconds):  41.21\n",
      "🏃 View run llama32/news_spec/zero_shot_style_emotion_to-german_german_2 at: http://127.0.0.1:5000/#/experiments/194158564450517751/runs/6074081f4f9b40ddb1acefbc834898ba\n",
      "🧪 View experiment at: http://127.0.0.1:5000/#/experiments/194158564450517751\n",
      "Prompt finished in (seconds):  36.08\n",
      "Metric Calculation in (seconds):  40.94\n",
      "🏃 View run llama32/news_spec/zero_shot_style_persona_to-german_english_1 at: http://127.0.0.1:5000/#/experiments/194158564450517751/runs/17396194cc4746a494e025f5cac12cbb\n",
      "🧪 View experiment at: http://127.0.0.1:5000/#/experiments/194158564450517751\n",
      "Prompt finished in (seconds):  30.96\n",
      "Metric Calculation in (seconds):  34.35\n",
      "🏃 View run llama32/news_spec/zero_shot_style_persona_to-german_german_1 at: http://127.0.0.1:5000/#/experiments/194158564450517751/runs/c72f6c78c21d4c1f8a352e87bcf103a2\n",
      "🧪 View experiment at: http://127.0.0.1:5000/#/experiments/194158564450517751\n"
     ]
    },
    {
     "name": "stderr",
     "output_type": "stream",
     "text": [
      "llama_init_from_model: n_ctx_per_seq (512) < n_ctx_train (131072) -- the full capacity of the model will not be utilized\n"
     ]
    },
    {
     "name": "stdout",
     "output_type": "stream",
     "text": [
      "Model hugging-quants/Llama-3.2-3B-Instruct-Q8_0-GGUF erfolgreich geladen mit n_ctx=512\n",
      "estimated_max_tokens: 534.0; n_ctx: 587\n"
     ]
    },
    {
     "name": "stderr",
     "output_type": "stream",
     "text": [
      "llama_init_from_model: n_ctx_per_seq (608) < n_ctx_train (131072) -- the full capacity of the model will not be utilized\n"
     ]
    },
    {
     "name": "stdout",
     "output_type": "stream",
     "text": [
      "Model hugging-quants/Llama-3.2-3B-Instruct-Q8_0-GGUF erfolgreich geladen mit n_ctx=587\n",
      "Prompt finished in (seconds):  32.11\n",
      "Metric Calculation in (seconds):  39.29\n",
      "🏃 View run llama32/pop_science/zero_shot_style_emotion_to-english_english_1 at: http://127.0.0.1:5000/#/experiments/553009959054917340/runs/a27a8f77ffdc48c7abb8765cbb270ead\n",
      "🧪 View experiment at: http://127.0.0.1:5000/#/experiments/553009959054917340\n",
      "Prompt finished in (seconds):  46.57\n",
      "Metric Calculation in (seconds):  47.07\n",
      "🏃 View run llama32/pop_science/zero_shot_style_emotion_to-english_german_1 at: http://127.0.0.1:5000/#/experiments/553009959054917340/runs/f86046239210411e89d414bd73637543\n",
      "🧪 View experiment at: http://127.0.0.1:5000/#/experiments/553009959054917340\n",
      "Prompt finished in (seconds):  27.89\n",
      "Metric Calculation in (seconds):  37.33\n",
      "🏃 View run llama32/pop_science/zero_shot_style_emotion_to-english_english_2 at: http://127.0.0.1:5000/#/experiments/553009959054917340/runs/ade1c3de704343eda813ba1970c6d320\n",
      "🧪 View experiment at: http://127.0.0.1:5000/#/experiments/553009959054917340\n",
      "Prompt finished in (seconds):  46.19\n",
      "Metric Calculation in (seconds):  41.97\n",
      "🏃 View run llama32/pop_science/zero_shot_style_emotion_to-english_german_2 at: http://127.0.0.1:5000/#/experiments/553009959054917340/runs/f52c0a4dc18f474c82d69b26cbb24a5b\n",
      "🧪 View experiment at: http://127.0.0.1:5000/#/experiments/553009959054917340\n",
      "Prompt finished in (seconds):  33.09\n",
      "Metric Calculation in (seconds):  38.21\n",
      "🏃 View run llama32/pop_science/zero_shot_style_persona_to-english_english_1 at: http://127.0.0.1:5000/#/experiments/553009959054917340/runs/bf19052fd3284a5c8da5c93a5447a461\n",
      "🧪 View experiment at: http://127.0.0.1:5000/#/experiments/553009959054917340\n",
      "Prompt finished in (seconds):  44.18\n",
      "Metric Calculation in (seconds):  46.86\n",
      "🏃 View run llama32/pop_science/zero_shot_style_persona_to-english_german_1 at: http://127.0.0.1:5000/#/experiments/553009959054917340/runs/0721117a263e43ad8faf35f8cc30ec58\n",
      "🧪 View experiment at: http://127.0.0.1:5000/#/experiments/553009959054917340\n",
      "Prompt finished in (seconds):  53.96\n",
      "Metric Calculation in (seconds):  54.07\n",
      "🏃 View run llama32/pop_science/zero_shot_style_emotion_to-german_english_1 at: http://127.0.0.1:5000/#/experiments/553009959054917340/runs/d5e1c1d13e864768a2f02040bf60ae45\n",
      "🧪 View experiment at: http://127.0.0.1:5000/#/experiments/553009959054917340\n",
      "Prompt finished in (seconds):  3.43\n",
      "Metric Calculation in (seconds):  23.37\n",
      "🏃 View run llama32/pop_science/zero_shot_style_emotion_to-german_german_1 at: http://127.0.0.1:5000/#/experiments/553009959054917340/runs/741a989096664fb1a8470f842f25f009\n",
      "🧪 View experiment at: http://127.0.0.1:5000/#/experiments/553009959054917340\n",
      "Prompt finished in (seconds):  54.62\n",
      "Metric Calculation in (seconds):  50.33\n",
      "🏃 View run llama32/pop_science/zero_shot_style_emotion_to-german_english_2 at: http://127.0.0.1:5000/#/experiments/553009959054917340/runs/94aad313cd5c46c8a5067c32ed890502\n",
      "🧪 View experiment at: http://127.0.0.1:5000/#/experiments/553009959054917340\n",
      "Prompt finished in (seconds):  34.49\n",
      "Metric Calculation in (seconds):  36.52\n",
      "🏃 View run llama32/pop_science/zero_shot_style_emotion_to-german_german_2 at: http://127.0.0.1:5000/#/experiments/553009959054917340/runs/df573149b5504bee94087b5338ac2837\n",
      "🧪 View experiment at: http://127.0.0.1:5000/#/experiments/553009959054917340\n",
      "Prompt finished in (seconds):  53.88\n",
      "Metric Calculation in (seconds):  49.06\n",
      "🏃 View run llama32/pop_science/zero_shot_style_persona_to-german_english_1 at: http://127.0.0.1:5000/#/experiments/553009959054917340/runs/96f970c8f4754c67922e127b8a93d080\n",
      "🧪 View experiment at: http://127.0.0.1:5000/#/experiments/553009959054917340\n",
      "Prompt finished in (seconds):  49.78\n",
      "Metric Calculation in (seconds):  44.86\n",
      "🏃 View run llama32/pop_science/zero_shot_style_persona_to-german_german_1 at: http://127.0.0.1:5000/#/experiments/553009959054917340/runs/d1dfe371cf4046468fe08bcd489fd36b\n",
      "🧪 View experiment at: http://127.0.0.1:5000/#/experiments/553009959054917340\n"
     ]
    },
    {
     "name": "stderr",
     "output_type": "stream",
     "text": [
      "llama_init_from_model: n_ctx_per_seq (512) < n_ctx_train (131072) -- the full capacity of the model will not be utilized\n"
     ]
    },
    {
     "name": "stdout",
     "output_type": "stream",
     "text": [
      "Model hugging-quants/Llama-3.2-3B-Instruct-Q8_0-GGUF erfolgreich geladen mit n_ctx=512\n",
      "estimated_max_tokens: 937.5; n_ctx: 1031\n"
     ]
    },
    {
     "name": "stderr",
     "output_type": "stream",
     "text": [
      "llama_init_from_model: n_ctx_per_seq (1056) < n_ctx_train (131072) -- the full capacity of the model will not be utilized\n"
     ]
    },
    {
     "name": "stdout",
     "output_type": "stream",
     "text": [
      "Model hugging-quants/Llama-3.2-3B-Instruct-Q8_0-GGUF erfolgreich geladen mit n_ctx=1031\n",
      "Prompt finished in (seconds):  34.66\n",
      "Metric Calculation in (seconds):  57.13\n",
      "🏃 View run llama32/science/zero_shot_style_emotion_to-english_english_1 at: http://127.0.0.1:5000/#/experiments/248431796146488211/runs/f958b06f877d46599463c56d37ae01fe\n",
      "🧪 View experiment at: http://127.0.0.1:5000/#/experiments/248431796146488211\n",
      "Prompt finished in (seconds):  84.38\n",
      "Metric Calculation in (seconds):  119.92\n",
      "🏃 View run llama32/science/zero_shot_style_emotion_to-english_german_1 at: http://127.0.0.1:5000/#/experiments/248431796146488211/runs/0ebb8606f7cc46bdbea3fe508d27be18\n",
      "🧪 View experiment at: http://127.0.0.1:5000/#/experiments/248431796146488211\n",
      "Prompt finished in (seconds):  56.86\n",
      "Metric Calculation in (seconds):  90.91\n",
      "🏃 View run llama32/science/zero_shot_style_emotion_to-english_english_2 at: http://127.0.0.1:5000/#/experiments/248431796146488211/runs/fabd8804b8414ef18c156cbbb940acb9\n",
      "🧪 View experiment at: http://127.0.0.1:5000/#/experiments/248431796146488211\n",
      "Prompt finished in (seconds):  33.28\n",
      "Metric Calculation in (seconds):  55.19\n",
      "🏃 View run llama32/science/zero_shot_style_emotion_to-english_german_2 at: http://127.0.0.1:5000/#/experiments/248431796146488211/runs/da47fdc3c39849afb7836bf3d4f49622\n",
      "🧪 View experiment at: http://127.0.0.1:5000/#/experiments/248431796146488211\n",
      "Prompt finished in (seconds):  32.96\n",
      "Metric Calculation in (seconds):  55.54\n",
      "🏃 View run llama32/science/zero_shot_style_persona_to-english_english_1 at: http://127.0.0.1:5000/#/experiments/248431796146488211/runs/fe25c4989b1b4579a50e6a38b29a2d7e\n",
      "🧪 View experiment at: http://127.0.0.1:5000/#/experiments/248431796146488211\n",
      "Prompt finished in (seconds):  80.79\n",
      "Metric Calculation in (seconds):  101.14\n",
      "🏃 View run llama32/science/zero_shot_style_persona_to-english_german_1 at: http://127.0.0.1:5000/#/experiments/248431796146488211/runs/98d02056beda4d0fbc813a0d9ac66805\n",
      "🧪 View experiment at: http://127.0.0.1:5000/#/experiments/248431796146488211\n",
      "Prompt finished in (seconds):  41.36\n",
      "Metric Calculation in (seconds):  59.34\n",
      "🏃 View run llama32/science/zero_shot_style_emotion_to-german_english_1 at: http://127.0.0.1:5000/#/experiments/248431796146488211/runs/54d6740a3a644b3e876915cb27e9db48\n",
      "🧪 View experiment at: http://127.0.0.1:5000/#/experiments/248431796146488211\n",
      "Prompt finished in (seconds):  95.31\n",
      "Metric Calculation in (seconds):  120.2\n",
      "🏃 View run llama32/science/zero_shot_style_emotion_to-german_german_1 at: http://127.0.0.1:5000/#/experiments/248431796146488211/runs/d13a239388b9439ab1222f703a5a9ec0\n",
      "🧪 View experiment at: http://127.0.0.1:5000/#/experiments/248431796146488211\n",
      "Prompt finished in (seconds):  92.89\n",
      "Metric Calculation in (seconds):  131.11\n",
      "🏃 View run llama32/science/zero_shot_style_emotion_to-german_english_2 at: http://127.0.0.1:5000/#/experiments/248431796146488211/runs/927d68c0765f4ee8820175924064d056\n",
      "🧪 View experiment at: http://127.0.0.1:5000/#/experiments/248431796146488211\n",
      "Prompt finished in (seconds):  94.9\n",
      "Metric Calculation in (seconds):  118.11\n",
      "🏃 View run llama32/science/zero_shot_style_emotion_to-german_german_2 at: http://127.0.0.1:5000/#/experiments/248431796146488211/runs/4bbe8a96aacf4b33ac9eb47d03de8fe0\n",
      "🧪 View experiment at: http://127.0.0.1:5000/#/experiments/248431796146488211\n",
      "Prompt finished in (seconds):  39.16\n",
      "Metric Calculation in (seconds):  59.56\n",
      "🏃 View run llama32/science/zero_shot_style_persona_to-german_english_1 at: http://127.0.0.1:5000/#/experiments/248431796146488211/runs/a99265d9668a4f0a9083c07fc0e73302\n",
      "🧪 View experiment at: http://127.0.0.1:5000/#/experiments/248431796146488211\n",
      "Prompt finished in (seconds):  93.04\n",
      "Metric Calculation in (seconds):  115.4\n",
      "🏃 View run llama32/science/zero_shot_style_persona_to-german_german_1 at: http://127.0.0.1:5000/#/experiments/248431796146488211/runs/1309906964c44b8aa2abf27e25159c2b\n",
      "🧪 View experiment at: http://127.0.0.1:5000/#/experiments/248431796146488211\n"
     ]
    },
    {
     "name": "stderr",
     "output_type": "stream",
     "text": [
      "llama_init_from_model: n_ctx_per_seq (512) < n_ctx_train (131072) -- the full capacity of the model will not be utilized\n"
     ]
    },
    {
     "name": "stdout",
     "output_type": "stream",
     "text": [
      "Model lmstudio-community/Meta-Llama-3.1-8B-Instruct-GGUF erfolgreich geladen mit n_ctx=512\n",
      "estimated_max_tokens: 511.5; n_ctx: 562\n"
     ]
    },
    {
     "name": "stderr",
     "output_type": "stream",
     "text": [
      "llama_init_from_model: n_ctx_per_seq (576) < n_ctx_train (131072) -- the full capacity of the model will not be utilized\n"
     ]
    },
    {
     "name": "stdout",
     "output_type": "stream",
     "text": [
      "Model lmstudio-community/Meta-Llama-3.1-8B-Instruct-GGUF erfolgreich geladen mit n_ctx=562\n",
      "Prompt finished in (seconds):  80.57\n",
      "Metric Calculation in (seconds):  56.24\n",
      "🏃 View run llama31/easy/zero_shot_style_emotion_to-english_english_1 at: http://127.0.0.1:5000/#/experiments/496790586212187793/runs/e004e7e5d9dd497394e00a7c304af6f4\n",
      "🧪 View experiment at: http://127.0.0.1:5000/#/experiments/496790586212187793\n",
      "Prompt finished in (seconds):  77.07\n",
      "Metric Calculation in (seconds):  45.93\n",
      "🏃 View run llama31/easy/zero_shot_style_emotion_to-english_german_1 at: http://127.0.0.1:5000/#/experiments/496790586212187793/runs/d9be24aeea394b2ba59673eddfd0d4ec\n",
      "🧪 View experiment at: http://127.0.0.1:5000/#/experiments/496790586212187793\n",
      "Prompt finished in (seconds):  80.14\n",
      "Metric Calculation in (seconds):  51.14\n",
      "🏃 View run llama31/easy/zero_shot_style_emotion_to-english_english_2 at: http://127.0.0.1:5000/#/experiments/496790586212187793/runs/5772a57ac08542d6b046ce93933d1ab9\n",
      "🧪 View experiment at: http://127.0.0.1:5000/#/experiments/496790586212187793\n",
      "Prompt finished in (seconds):  76.25\n",
      "Metric Calculation in (seconds):  44.27\n",
      "🏃 View run llama31/easy/zero_shot_style_emotion_to-english_german_2 at: http://127.0.0.1:5000/#/experiments/496790586212187793/runs/a8712b32a9eb47b491724839a74dee1f\n",
      "🧪 View experiment at: http://127.0.0.1:5000/#/experiments/496790586212187793\n",
      "Prompt finished in (seconds):  80.15\n",
      "Metric Calculation in (seconds):  53.34\n",
      "🏃 View run llama31/easy/zero_shot_style_persona_to-english_english_1 at: http://127.0.0.1:5000/#/experiments/496790586212187793/runs/cc6f3c4b9a2c4ba998559dfee38faaf4\n",
      "🧪 View experiment at: http://127.0.0.1:5000/#/experiments/496790586212187793\n",
      "Prompt finished in (seconds):  73.9\n",
      "Metric Calculation in (seconds):  48.29\n",
      "🏃 View run llama31/easy/zero_shot_style_persona_to-english_german_1 at: http://127.0.0.1:5000/#/experiments/496790586212187793/runs/344fb7837cc4457eae51f1c327416eda\n",
      "🧪 View experiment at: http://127.0.0.1:5000/#/experiments/496790586212187793\n",
      "Prompt finished in (seconds):  85.72\n",
      "Metric Calculation in (seconds):  52.7\n",
      "🏃 View run llama31/easy/zero_shot_style_emotion_to-german_english_1 at: http://127.0.0.1:5000/#/experiments/496790586212187793/runs/8d9ab19263d6411bbbca1907e6e21d0a\n",
      "🧪 View experiment at: http://127.0.0.1:5000/#/experiments/496790586212187793\n",
      "Prompt finished in (seconds):  82.44\n",
      "Metric Calculation in (seconds):  47.05\n",
      "🏃 View run llama31/easy/zero_shot_style_emotion_to-german_german_1 at: http://127.0.0.1:5000/#/experiments/496790586212187793/runs/1907d663018f406592d99f298398cf82\n",
      "🧪 View experiment at: http://127.0.0.1:5000/#/experiments/496790586212187793\n",
      "Prompt finished in (seconds):  85.37\n",
      "Metric Calculation in (seconds):  50.25\n",
      "🏃 View run llama31/easy/zero_shot_style_emotion_to-german_english_2 at: http://127.0.0.1:5000/#/experiments/496790586212187793/runs/3e74835973ac4b269acd42440ffde4c7\n",
      "🧪 View experiment at: http://127.0.0.1:5000/#/experiments/496790586212187793\n",
      "Prompt finished in (seconds):  81.09\n",
      "Metric Calculation in (seconds):  43.01\n",
      "🏃 View run llama31/easy/zero_shot_style_emotion_to-german_german_2 at: http://127.0.0.1:5000/#/experiments/496790586212187793/runs/52c6c1b532b84829b67494df65a8067d\n",
      "🧪 View experiment at: http://127.0.0.1:5000/#/experiments/496790586212187793\n",
      "Prompt finished in (seconds):  92.01\n",
      "Metric Calculation in (seconds):  52.82\n",
      "🏃 View run llama31/easy/zero_shot_style_persona_to-german_english_1 at: http://127.0.0.1:5000/#/experiments/496790586212187793/runs/fc932be66d6b4d99934ff3a25570afcc\n",
      "🧪 View experiment at: http://127.0.0.1:5000/#/experiments/496790586212187793\n",
      "Prompt finished in (seconds):  79.17\n",
      "Metric Calculation in (seconds):  46.45\n",
      "🏃 View run llama31/easy/zero_shot_style_persona_to-german_german_1 at: http://127.0.0.1:5000/#/experiments/496790586212187793/runs/38935c508d1e414f8cb95f29dbeadab4\n",
      "🧪 View experiment at: http://127.0.0.1:5000/#/experiments/496790586212187793\n"
     ]
    },
    {
     "name": "stderr",
     "output_type": "stream",
     "text": [
      "llama_init_from_model: n_ctx_per_seq (512) < n_ctx_train (131072) -- the full capacity of the model will not be utilized\n"
     ]
    },
    {
     "name": "stdout",
     "output_type": "stream",
     "text": [
      "Model lmstudio-community/Meta-Llama-3.1-8B-Instruct-GGUF erfolgreich geladen mit n_ctx=512\n",
      "estimated_max_tokens: 370.5; n_ctx: 407\n"
     ]
    },
    {
     "name": "stderr",
     "output_type": "stream",
     "text": [
      "llama_init_from_model: n_ctx_per_seq (416) < n_ctx_train (131072) -- the full capacity of the model will not be utilized\n"
     ]
    },
    {
     "name": "stdout",
     "output_type": "stream",
     "text": [
      "Model lmstudio-community/Meta-Llama-3.1-8B-Instruct-GGUF erfolgreich geladen mit n_ctx=407\n",
      "Prompt finished in (seconds):  57.94\n",
      "Metric Calculation in (seconds):  33.04\n",
      "🏃 View run llama31/news_gen/zero_shot_style_emotion_to-english_english_1 at: http://127.0.0.1:5000/#/experiments/378317835055917962/runs/5bd65c21e0084358b3497984729250d5\n",
      "🧪 View experiment at: http://127.0.0.1:5000/#/experiments/378317835055917962\n",
      "Prompt finished in (seconds):  54.1\n",
      "Metric Calculation in (seconds):  30.42\n",
      "🏃 View run llama31/news_gen/zero_shot_style_emotion_to-english_german_1 at: http://127.0.0.1:5000/#/experiments/378317835055917962/runs/cd7bf9159c8c4631b2eac71d4887b0ed\n",
      "🧪 View experiment at: http://127.0.0.1:5000/#/experiments/378317835055917962\n",
      "Prompt finished in (seconds):  37.92\n",
      "Metric Calculation in (seconds):  28.45\n",
      "🏃 View run llama31/news_gen/zero_shot_style_emotion_to-english_english_2 at: http://127.0.0.1:5000/#/experiments/378317835055917962/runs/9271150a36484f2eb45f6146489222b1\n",
      "🧪 View experiment at: http://127.0.0.1:5000/#/experiments/378317835055917962\n",
      "Prompt finished in (seconds):  53.5\n",
      "Metric Calculation in (seconds):  32.24\n",
      "🏃 View run llama31/news_gen/zero_shot_style_emotion_to-english_german_2 at: http://127.0.0.1:5000/#/experiments/378317835055917962/runs/674265e8096e40b0a5a8587f5bc87508\n",
      "🧪 View experiment at: http://127.0.0.1:5000/#/experiments/378317835055917962\n",
      "Prompt finished in (seconds):  58.31\n",
      "Metric Calculation in (seconds):  34.03\n",
      "🏃 View run llama31/news_gen/zero_shot_style_persona_to-english_english_1 at: http://127.0.0.1:5000/#/experiments/378317835055917962/runs/00f7f1f0247b4bdf9b6c9f2eb45ff0dd\n",
      "🧪 View experiment at: http://127.0.0.1:5000/#/experiments/378317835055917962\n",
      "Prompt finished in (seconds):  50.98\n",
      "Metric Calculation in (seconds):  28.82\n",
      "🏃 View run llama31/news_gen/zero_shot_style_persona_to-english_german_1 at: http://127.0.0.1:5000/#/experiments/378317835055917962/runs/d719c64812864fdc99f442edfd110b11\n",
      "🧪 View experiment at: http://127.0.0.1:5000/#/experiments/378317835055917962\n",
      "Prompt finished in (seconds):  58.35\n",
      "Metric Calculation in (seconds):  33.1\n",
      "🏃 View run llama31/news_gen/zero_shot_style_emotion_to-german_english_1 at: http://127.0.0.1:5000/#/experiments/378317835055917962/runs/10ee709bd0334fa1ab632836e48f1ff9\n",
      "🧪 View experiment at: http://127.0.0.1:5000/#/experiments/378317835055917962\n",
      "Prompt finished in (seconds):  59.53\n",
      "Metric Calculation in (seconds):  36.32\n",
      "🏃 View run llama31/news_gen/zero_shot_style_emotion_to-german_german_1 at: http://127.0.0.1:5000/#/experiments/378317835055917962/runs/4c2d0121e86c4e5fb3c1c8d720d6b240\n",
      "🧪 View experiment at: http://127.0.0.1:5000/#/experiments/378317835055917962\n",
      "Prompt finished in (seconds):  59.2\n",
      "Metric Calculation in (seconds):  34.72\n",
      "🏃 View run llama31/news_gen/zero_shot_style_emotion_to-german_english_2 at: http://127.0.0.1:5000/#/experiments/378317835055917962/runs/d998621dd50b4e3a8634c606e12f15da\n",
      "🧪 View experiment at: http://127.0.0.1:5000/#/experiments/378317835055917962\n",
      "Prompt finished in (seconds):  57.53\n",
      "Metric Calculation in (seconds):  32.35\n",
      "🏃 View run llama31/news_gen/zero_shot_style_emotion_to-german_german_2 at: http://127.0.0.1:5000/#/experiments/378317835055917962/runs/64ee3645eeda4015a33516c3e6dc38f8\n",
      "🧪 View experiment at: http://127.0.0.1:5000/#/experiments/378317835055917962\n",
      "Prompt finished in (seconds):  58.52\n",
      "Metric Calculation in (seconds):  34.0\n",
      "🏃 View run llama31/news_gen/zero_shot_style_persona_to-german_english_1 at: http://127.0.0.1:5000/#/experiments/378317835055917962/runs/84905c838bdc4bb6b4aed54e6db1a01e\n",
      "🧪 View experiment at: http://127.0.0.1:5000/#/experiments/378317835055917962\n",
      "Prompt finished in (seconds):  55.3\n",
      "Metric Calculation in (seconds):  30.17\n",
      "🏃 View run llama31/news_gen/zero_shot_style_persona_to-german_german_1 at: http://127.0.0.1:5000/#/experiments/378317835055917962/runs/a414686d2f394a2dac45193f4cc28485\n",
      "🧪 View experiment at: http://127.0.0.1:5000/#/experiments/378317835055917962\n"
     ]
    },
    {
     "name": "stderr",
     "output_type": "stream",
     "text": [
      "llama_init_from_model: n_ctx_per_seq (512) < n_ctx_train (131072) -- the full capacity of the model will not be utilized\n"
     ]
    },
    {
     "name": "stdout",
     "output_type": "stream",
     "text": [
      "Model lmstudio-community/Meta-Llama-3.1-8B-Instruct-GGUF erfolgreich geladen mit n_ctx=512\n",
      "estimated_max_tokens: 522.0; n_ctx: 574\n"
     ]
    },
    {
     "name": "stderr",
     "output_type": "stream",
     "text": [
      "llama_init_from_model: n_ctx_per_seq (576) < n_ctx_train (131072) -- the full capacity of the model will not be utilized\n"
     ]
    },
    {
     "name": "stdout",
     "output_type": "stream",
     "text": [
      "Model lmstudio-community/Meta-Llama-3.1-8B-Instruct-GGUF erfolgreich geladen mit n_ctx=574\n",
      "Prompt finished in (seconds):  36.86\n",
      "Metric Calculation in (seconds):  33.73\n",
      "🏃 View run llama31/news_spec/zero_shot_style_emotion_to-english_english_1 at: http://127.0.0.1:5000/#/experiments/278262578605400461/runs/411d9a49967446a29a604fc16dbe7247\n",
      "🧪 View experiment at: http://127.0.0.1:5000/#/experiments/278262578605400461\n",
      "Prompt finished in (seconds):  76.29\n",
      "Metric Calculation in (seconds):  46.25\n",
      "🏃 View run llama31/news_spec/zero_shot_style_emotion_to-english_german_1 at: http://127.0.0.1:5000/#/experiments/278262578605400461/runs/6c0e33893e534bdabcf15c9fa37b47f5\n",
      "🧪 View experiment at: http://127.0.0.1:5000/#/experiments/278262578605400461\n",
      "Prompt finished in (seconds):  78.98\n",
      "Metric Calculation in (seconds):  47.55\n",
      "🏃 View run llama31/news_spec/zero_shot_style_emotion_to-english_english_2 at: http://127.0.0.1:5000/#/experiments/278262578605400461/runs/26d72005fe514d25b95610483e0fa373\n",
      "🧪 View experiment at: http://127.0.0.1:5000/#/experiments/278262578605400461\n",
      "Prompt finished in (seconds):  33.02\n",
      "Metric Calculation in (seconds):  31.51\n",
      "🏃 View run llama31/news_spec/zero_shot_style_emotion_to-english_german_2 at: http://127.0.0.1:5000/#/experiments/278262578605400461/runs/cd8b0ee93f9945b19a691dcb21b5795a\n",
      "🧪 View experiment at: http://127.0.0.1:5000/#/experiments/278262578605400461\n",
      "Prompt finished in (seconds):  79.35\n",
      "Metric Calculation in (seconds):  54.25\n",
      "🏃 View run llama31/news_spec/zero_shot_style_persona_to-english_english_1 at: http://127.0.0.1:5000/#/experiments/278262578605400461/runs/cca9e961243a443d816143895b82ea6d\n",
      "🧪 View experiment at: http://127.0.0.1:5000/#/experiments/278262578605400461\n",
      "Prompt finished in (seconds):  73.04\n",
      "Metric Calculation in (seconds):  47.07\n",
      "🏃 View run llama31/news_spec/zero_shot_style_persona_to-english_german_1 at: http://127.0.0.1:5000/#/experiments/278262578605400461/runs/d23e934bd9dd47fb9cd6c905e5e0ea60\n",
      "🧪 View experiment at: http://127.0.0.1:5000/#/experiments/278262578605400461\n",
      "Prompt finished in (seconds):  85.86\n",
      "Metric Calculation in (seconds):  48.87\n",
      "🏃 View run llama31/news_spec/zero_shot_style_emotion_to-german_english_1 at: http://127.0.0.1:5000/#/experiments/278262578605400461/runs/ef543a6b4f2144a1b7f60f83058183e9\n",
      "🧪 View experiment at: http://127.0.0.1:5000/#/experiments/278262578605400461\n",
      "Prompt finished in (seconds):  82.56\n",
      "Metric Calculation in (seconds):  49.08\n",
      "🏃 View run llama31/news_spec/zero_shot_style_emotion_to-german_german_1 at: http://127.0.0.1:5000/#/experiments/278262578605400461/runs/04075827278749e7a3c27fd947b561f7\n",
      "🧪 View experiment at: http://127.0.0.1:5000/#/experiments/278262578605400461\n",
      "Prompt finished in (seconds):  85.52\n",
      "Metric Calculation in (seconds):  50.75\n",
      "🏃 View run llama31/news_spec/zero_shot_style_emotion_to-german_english_2 at: http://127.0.0.1:5000/#/experiments/278262578605400461/runs/7ebb8108614d43eba17eb759cb6d2bac\n",
      "🧪 View experiment at: http://127.0.0.1:5000/#/experiments/278262578605400461\n",
      "Prompt finished in (seconds):  82.06\n",
      "Metric Calculation in (seconds):  44.32\n",
      "🏃 View run llama31/news_spec/zero_shot_style_emotion_to-german_german_2 at: http://127.0.0.1:5000/#/experiments/278262578605400461/runs/cbc8dc53b73a4019b9dae12f5e65f146\n",
      "🧪 View experiment at: http://127.0.0.1:5000/#/experiments/278262578605400461\n",
      "Prompt finished in (seconds):  43.03\n",
      "Metric Calculation in (seconds):  36.15\n",
      "🏃 View run llama31/news_spec/zero_shot_style_persona_to-german_english_1 at: http://127.0.0.1:5000/#/experiments/278262578605400461/runs/192295673c2049c0bbf3daf9fd0c7cb7\n",
      "🧪 View experiment at: http://127.0.0.1:5000/#/experiments/278262578605400461\n",
      "Prompt finished in (seconds):  79.1\n",
      "Metric Calculation in (seconds):  43.88\n",
      "🏃 View run llama31/news_spec/zero_shot_style_persona_to-german_german_1 at: http://127.0.0.1:5000/#/experiments/278262578605400461/runs/5479601e5b8949caa6294895cb303fb9\n",
      "🧪 View experiment at: http://127.0.0.1:5000/#/experiments/278262578605400461\n"
     ]
    },
    {
     "name": "stderr",
     "output_type": "stream",
     "text": [
      "llama_init_from_model: n_ctx_per_seq (512) < n_ctx_train (131072) -- the full capacity of the model will not be utilized\n"
     ]
    },
    {
     "name": "stdout",
     "output_type": "stream",
     "text": [
      "Model lmstudio-community/Meta-Llama-3.1-8B-Instruct-GGUF erfolgreich geladen mit n_ctx=512\n",
      "estimated_max_tokens: 534.0; n_ctx: 587\n"
     ]
    },
    {
     "name": "stderr",
     "output_type": "stream",
     "text": [
      "llama_init_from_model: n_ctx_per_seq (608) < n_ctx_train (131072) -- the full capacity of the model will not be utilized\n"
     ]
    },
    {
     "name": "stdout",
     "output_type": "stream",
     "text": [
      "Model lmstudio-community/Meta-Llama-3.1-8B-Instruct-GGUF erfolgreich geladen mit n_ctx=587\n",
      "Prompt finished in (seconds):  85.45\n",
      "Metric Calculation in (seconds):  53.79\n",
      "🏃 View run llama31/pop_science/zero_shot_style_emotion_to-english_english_1 at: http://127.0.0.1:5000/#/experiments/358136329887025901/runs/14326a3f0f5d4468ba5b5a39a5c3e3f3\n",
      "🧪 View experiment at: http://127.0.0.1:5000/#/experiments/358136329887025901\n",
      "Prompt finished in (seconds):  80.98\n",
      "Metric Calculation in (seconds):  42.66\n",
      "🏃 View run llama31/pop_science/zero_shot_style_emotion_to-english_german_1 at: http://127.0.0.1:5000/#/experiments/358136329887025901/runs/f48c83dd2a094ac9b8487dc6f6547e2e\n",
      "🧪 View experiment at: http://127.0.0.1:5000/#/experiments/358136329887025901\n",
      "Prompt finished in (seconds):  84.31\n",
      "Metric Calculation in (seconds):  51.56\n",
      "🏃 View run llama31/pop_science/zero_shot_style_emotion_to-english_english_2 at: http://127.0.0.1:5000/#/experiments/358136329887025901/runs/8dffba32d4ed4ed6a3d12e4995ec3199\n",
      "🧪 View experiment at: http://127.0.0.1:5000/#/experiments/358136329887025901\n",
      "Prompt finished in (seconds):  80.26\n",
      "Metric Calculation in (seconds):  47.62\n",
      "🏃 View run llama31/pop_science/zero_shot_style_emotion_to-english_german_2 at: http://127.0.0.1:5000/#/experiments/358136329887025901/runs/2d9ad38c95054480a6642497c99cde1a\n",
      "🧪 View experiment at: http://127.0.0.1:5000/#/experiments/358136329887025901\n",
      "Prompt finished in (seconds):  85.08\n",
      "Metric Calculation in (seconds):  52.86\n",
      "🏃 View run llama31/pop_science/zero_shot_style_persona_to-english_english_1 at: http://127.0.0.1:5000/#/experiments/358136329887025901/runs/a2a70085cff3422a95724a646504b529\n",
      "🧪 View experiment at: http://127.0.0.1:5000/#/experiments/358136329887025901\n",
      "Prompt finished in (seconds):  77.88\n",
      "Metric Calculation in (seconds):  46.35\n",
      "🏃 View run llama31/pop_science/zero_shot_style_persona_to-english_german_1 at: http://127.0.0.1:5000/#/experiments/358136329887025901/runs/fd295f480eb8448c8899b2bed9b9b7ea\n",
      "🧪 View experiment at: http://127.0.0.1:5000/#/experiments/358136329887025901\n",
      "Prompt finished in (seconds):  90.93\n",
      "Metric Calculation in (seconds):  51.06\n",
      "🏃 View run llama31/pop_science/zero_shot_style_emotion_to-german_english_1 at: http://127.0.0.1:5000/#/experiments/358136329887025901/runs/872f70d7414d452a9457006f62922bc6\n",
      "🧪 View experiment at: http://127.0.0.1:5000/#/experiments/358136329887025901\n",
      "Prompt finished in (seconds):  88.12\n",
      "Metric Calculation in (seconds):  49.21\n",
      "🏃 View run llama31/pop_science/zero_shot_style_emotion_to-german_german_1 at: http://127.0.0.1:5000/#/experiments/358136329887025901/runs/77637d9f73af49e1996ad475112d1196\n",
      "🧪 View experiment at: http://127.0.0.1:5000/#/experiments/358136329887025901\n",
      "Prompt finished in (seconds):  91.09\n",
      "Metric Calculation in (seconds):  51.21\n",
      "🏃 View run llama31/pop_science/zero_shot_style_emotion_to-german_english_2 at: http://127.0.0.1:5000/#/experiments/358136329887025901/runs/e97eab08d4a24ebe808f1bf30a84b8b9\n",
      "🧪 View experiment at: http://127.0.0.1:5000/#/experiments/358136329887025901\n",
      "Prompt finished in (seconds):  86.98\n",
      "Metric Calculation in (seconds):  48.37\n",
      "🏃 View run llama31/pop_science/zero_shot_style_emotion_to-german_german_2 at: http://127.0.0.1:5000/#/experiments/358136329887025901/runs/aeb5f0cf660f492d89bbaa1f74b4200b\n",
      "🧪 View experiment at: http://127.0.0.1:5000/#/experiments/358136329887025901\n",
      "Prompt finished in (seconds):  90.99\n",
      "Metric Calculation in (seconds):  49.86\n",
      "🏃 View run llama31/pop_science/zero_shot_style_persona_to-german_english_1 at: http://127.0.0.1:5000/#/experiments/358136329887025901/runs/2cb21e446f3e40a1a6ad9d79a4ab121a\n",
      "🧪 View experiment at: http://127.0.0.1:5000/#/experiments/358136329887025901\n",
      "Prompt finished in (seconds):  85.55\n",
      "Metric Calculation in (seconds):  46.75\n",
      "🏃 View run llama31/pop_science/zero_shot_style_persona_to-german_german_1 at: http://127.0.0.1:5000/#/experiments/358136329887025901/runs/c5153d2252334edd9b16f946fd3ac28a\n",
      "🧪 View experiment at: http://127.0.0.1:5000/#/experiments/358136329887025901\n"
     ]
    },
    {
     "name": "stderr",
     "output_type": "stream",
     "text": [
      "llama_init_from_model: n_ctx_per_seq (512) < n_ctx_train (131072) -- the full capacity of the model will not be utilized\n"
     ]
    },
    {
     "name": "stdout",
     "output_type": "stream",
     "text": [
      "Model lmstudio-community/Meta-Llama-3.1-8B-Instruct-GGUF erfolgreich geladen mit n_ctx=512\n",
      "estimated_max_tokens: 937.5; n_ctx: 1031\n"
     ]
    },
    {
     "name": "stderr",
     "output_type": "stream",
     "text": [
      "llama_init_from_model: n_ctx_per_seq (1056) < n_ctx_train (131072) -- the full capacity of the model will not be utilized\n"
     ]
    },
    {
     "name": "stdout",
     "output_type": "stream",
     "text": [
      "Model lmstudio-community/Meta-Llama-3.1-8B-Instruct-GGUF erfolgreich geladen mit n_ctx=1031\n",
      "Prompt finished in (seconds):  147.58\n",
      "Metric Calculation in (seconds):  119.45\n",
      "🏃 View run llama31/science/zero_shot_style_emotion_to-english_english_1 at: http://127.0.0.1:5000/#/experiments/958464439758456234/runs/aaaeba9ae97e46eba20afb80eb69fdca\n",
      "🧪 View experiment at: http://127.0.0.1:5000/#/experiments/958464439758456234\n",
      "Prompt finished in (seconds):  143.82\n",
      "Metric Calculation in (seconds):  120.64\n",
      "🏃 View run llama31/science/zero_shot_style_emotion_to-english_german_1 at: http://127.0.0.1:5000/#/experiments/958464439758456234/runs/b87040453144418489c203580a266664\n",
      "🧪 View experiment at: http://127.0.0.1:5000/#/experiments/958464439758456234\n",
      "Prompt finished in (seconds):  147.04\n",
      "Metric Calculation in (seconds):  118.67\n",
      "🏃 View run llama31/science/zero_shot_style_emotion_to-english_english_2 at: http://127.0.0.1:5000/#/experiments/958464439758456234/runs/c2f75e161df8423a94d9a4e2b4773f17\n",
      "🧪 View experiment at: http://127.0.0.1:5000/#/experiments/958464439758456234\n",
      "Prompt finished in (seconds):  142.7\n",
      "Metric Calculation in (seconds):  117.09\n",
      "🏃 View run llama31/science/zero_shot_style_emotion_to-english_german_2 at: http://127.0.0.1:5000/#/experiments/958464439758456234/runs/af42f6db6eae4aacb402e4cf1b57e2ca\n",
      "🧪 View experiment at: http://127.0.0.1:5000/#/experiments/958464439758456234\n",
      "Prompt finished in (seconds):  147.78\n",
      "Metric Calculation in (seconds):  123.89\n",
      "🏃 View run llama31/science/zero_shot_style_persona_to-english_english_1 at: http://127.0.0.1:5000/#/experiments/958464439758456234/runs/58229876e8444676b1fa77ca596614bf\n",
      "🧪 View experiment at: http://127.0.0.1:5000/#/experiments/958464439758456234\n",
      "Prompt finished in (seconds):  141.05\n",
      "Metric Calculation in (seconds):  110.98\n",
      "🏃 View run llama31/science/zero_shot_style_persona_to-english_german_1 at: http://127.0.0.1:5000/#/experiments/958464439758456234/runs/68551095edf14ba39c34788018ec28ee\n",
      "🧪 View experiment at: http://127.0.0.1:5000/#/experiments/958464439758456234\n",
      "Prompt finished in (seconds):  163.12\n",
      "Metric Calculation in (seconds):  122.22\n",
      "🏃 View run llama31/science/zero_shot_style_emotion_to-german_english_1 at: http://127.0.0.1:5000/#/experiments/958464439758456234/runs/51b728e2f7914e8badba22106502fd7b\n",
      "🧪 View experiment at: http://127.0.0.1:5000/#/experiments/958464439758456234\n",
      "Prompt finished in (seconds):  159.77\n",
      "Metric Calculation in (seconds):  116.17\n",
      "🏃 View run llama31/science/zero_shot_style_emotion_to-german_german_1 at: http://127.0.0.1:5000/#/experiments/958464439758456234/runs/b053ee9564604a9783390bc52c9dae07\n",
      "🧪 View experiment at: http://127.0.0.1:5000/#/experiments/958464439758456234\n",
      "Prompt finished in (seconds):  163.13\n",
      "Metric Calculation in (seconds):  131.15\n",
      "🏃 View run llama31/science/zero_shot_style_emotion_to-german_english_2 at: http://127.0.0.1:5000/#/experiments/958464439758456234/runs/75bb0aed84da47289719b50587765c65\n",
      "🧪 View experiment at: http://127.0.0.1:5000/#/experiments/958464439758456234\n",
      "Prompt finished in (seconds):  158.6\n",
      "Metric Calculation in (seconds):  120.49\n",
      "🏃 View run llama31/science/zero_shot_style_emotion_to-german_german_2 at: http://127.0.0.1:5000/#/experiments/958464439758456234/runs/415ee046cf2147b09749d863f68589e1\n",
      "🧪 View experiment at: http://127.0.0.1:5000/#/experiments/958464439758456234\n",
      "Prompt finished in (seconds):  163.36\n",
      "Metric Calculation in (seconds):  136.07\n",
      "🏃 View run llama31/science/zero_shot_style_persona_to-german_english_1 at: http://127.0.0.1:5000/#/experiments/958464439758456234/runs/d052e36fb1be4d9ca6df4442cf4e025a\n",
      "🧪 View experiment at: http://127.0.0.1:5000/#/experiments/958464439758456234\n",
      "Prompt finished in (seconds):  156.14\n",
      "Metric Calculation in (seconds):  115.45\n",
      "🏃 View run llama31/science/zero_shot_style_persona_to-german_german_1 at: http://127.0.0.1:5000/#/experiments/958464439758456234/runs/156b94ade1ce466587f1fef5735db0fc\n",
      "🧪 View experiment at: http://127.0.0.1:5000/#/experiments/958464439758456234\n",
      "Fertig mit der Pipeline. Speichere Ergebnisse...\n",
      "Pipeline abgeschlossen. Ergebnisse gespeichert.\n"
     ]
    }
   ],
   "execution_count": 14
  }
 ],
 "metadata": {
  "kernelspec": {
   "display_name": "Python 3",
   "language": "python",
   "name": "python3"
  },
  "language_info": {
   "codemirror_mode": {
    "name": "ipython",
    "version": 2
   },
   "file_extension": ".py",
   "mimetype": "text/x-python",
   "name": "python",
   "nbconvert_exporter": "python",
   "pygments_lexer": "ipython2",
   "version": "2.7.6"
  }
 },
 "nbformat": 4,
 "nbformat_minor": 5
}
