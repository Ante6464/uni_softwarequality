{
 "cells": [
  {
   "metadata": {},
   "cell_type": "markdown",
   "source": "# Jupyter Notebook for Project \"Comparison of LLM Prompting Techniques\"",
   "id": "872549f55a437d8a"
  },
  {
   "metadata": {
    "ExecuteTime": {
     "end_time": "2025-02-01T10:35:34.388332Z",
     "start_time": "2025-02-01T10:35:34.384432Z"
    }
   },
   "cell_type": "code",
   "source": [
    "import pandas as pd\n",
    "import mlflow\n",
    "import mlflow.pyfunc\n",
    "import sacrebleu\n",
    "from llama_cpp import Llama\n",
    "import time\n"
   ],
   "id": "d7cb373e19f3872c",
   "outputs": [],
   "execution_count": 39
  },
  {
   "metadata": {},
   "cell_type": "markdown",
   "source": [
    "## 1 Data Loading\n",
    "In the first step we import the given translations as pandas Dataframes and print a quick overview of the dataframe."
   ],
   "id": "84eebb77e3f61e83"
  },
  {
   "metadata": {
    "ExecuteTime": {
     "end_time": "2025-02-01T10:35:34.402849Z",
     "start_time": "2025-02-01T10:35:34.394335Z"
    }
   },
   "cell_type": "code",
   "source": [
    "data = pd.read_pickle('machine_translation.pkl')\n",
    "data"
   ],
   "id": "31214ca44be7863b",
   "outputs": [
    {
     "data": {
      "text/plain": [
       "    complexity                                        text_german  \\\n",
       "0         easy  Felix hat es satt: Ständig ist Mama unterwegs....   \n",
       "1     news_gen  Die rund 1.400 eingesetzten Beamten haben demn...   \n",
       "2    news_spec  Der Staatschef hat zugleich aber das Recht, vo...   \n",
       "3  pop_science  Dass der Klimawandel die Hitzewellen in Südasi...   \n",
       "4      science  Der DSA-110, der sich am Owens Valley Radio Ob...   \n",
       "\n",
       "                                        text_english  \n",
       "0  Felix is fed up: Mom is always on the go. But ...  \n",
       "1  The approximately 1,400 deployed officers have...  \n",
       "2  The head of state also has the right to appoin...  \n",
       "3  There is no question that climate change is in...  \n",
       "4  The DSA-110, situated at the Owens Valley Radi...  "
      ],
      "text/html": [
       "<div>\n",
       "<style scoped>\n",
       "    .dataframe tbody tr th:only-of-type {\n",
       "        vertical-align: middle;\n",
       "    }\n",
       "\n",
       "    .dataframe tbody tr th {\n",
       "        vertical-align: top;\n",
       "    }\n",
       "\n",
       "    .dataframe thead th {\n",
       "        text-align: right;\n",
       "    }\n",
       "</style>\n",
       "<table border=\"1\" class=\"dataframe\">\n",
       "  <thead>\n",
       "    <tr style=\"text-align: right;\">\n",
       "      <th></th>\n",
       "      <th>complexity</th>\n",
       "      <th>text_german</th>\n",
       "      <th>text_english</th>\n",
       "    </tr>\n",
       "  </thead>\n",
       "  <tbody>\n",
       "    <tr>\n",
       "      <th>0</th>\n",
       "      <td>easy</td>\n",
       "      <td>Felix hat es satt: Ständig ist Mama unterwegs....</td>\n",
       "      <td>Felix is fed up: Mom is always on the go. But ...</td>\n",
       "    </tr>\n",
       "    <tr>\n",
       "      <th>1</th>\n",
       "      <td>news_gen</td>\n",
       "      <td>Die rund 1.400 eingesetzten Beamten haben demn...</td>\n",
       "      <td>The approximately 1,400 deployed officers have...</td>\n",
       "    </tr>\n",
       "    <tr>\n",
       "      <th>2</th>\n",
       "      <td>news_spec</td>\n",
       "      <td>Der Staatschef hat zugleich aber das Recht, vo...</td>\n",
       "      <td>The head of state also has the right to appoin...</td>\n",
       "    </tr>\n",
       "    <tr>\n",
       "      <th>3</th>\n",
       "      <td>pop_science</td>\n",
       "      <td>Dass der Klimawandel die Hitzewellen in Südasi...</td>\n",
       "      <td>There is no question that climate change is in...</td>\n",
       "    </tr>\n",
       "    <tr>\n",
       "      <th>4</th>\n",
       "      <td>science</td>\n",
       "      <td>Der DSA-110, der sich am Owens Valley Radio Ob...</td>\n",
       "      <td>The DSA-110, situated at the Owens Valley Radi...</td>\n",
       "    </tr>\n",
       "  </tbody>\n",
       "</table>\n",
       "</div>"
      ]
     },
     "execution_count": 40,
     "metadata": {},
     "output_type": "execute_result"
    }
   ],
   "execution_count": 40
  },
  {
   "metadata": {
    "ExecuteTime": {
     "end_time": "2025-02-01T10:35:34.460023Z",
     "start_time": "2025-02-01T10:35:34.446951Z"
    }
   },
   "cell_type": "code",
   "source": [
    "data_info = pd.DataFrame()\n",
    "data_info['complexity'] = data['complexity']\n",
    "data_info['text_german_length'] = data['text_german'].str.len()\n",
    "data_info['text_english_length'] = data['text_english'].str.len()\n",
    "data_info"
   ],
   "id": "f378daff85fa7954",
   "outputs": [
    {
     "data": {
      "text/plain": [
       "    complexity  text_german_length  text_english_length\n",
       "0         easy                 485                  415\n",
       "1     news_gen                 296                  280\n",
       "2    news_spec                 518                  484\n",
       "3  pop_science                 542                  521\n",
       "4      science                1003                  827"
      ],
      "text/html": [
       "<div>\n",
       "<style scoped>\n",
       "    .dataframe tbody tr th:only-of-type {\n",
       "        vertical-align: middle;\n",
       "    }\n",
       "\n",
       "    .dataframe tbody tr th {\n",
       "        vertical-align: top;\n",
       "    }\n",
       "\n",
       "    .dataframe thead th {\n",
       "        text-align: right;\n",
       "    }\n",
       "</style>\n",
       "<table border=\"1\" class=\"dataframe\">\n",
       "  <thead>\n",
       "    <tr style=\"text-align: right;\">\n",
       "      <th></th>\n",
       "      <th>complexity</th>\n",
       "      <th>text_german_length</th>\n",
       "      <th>text_english_length</th>\n",
       "    </tr>\n",
       "  </thead>\n",
       "  <tbody>\n",
       "    <tr>\n",
       "      <th>0</th>\n",
       "      <td>easy</td>\n",
       "      <td>485</td>\n",
       "      <td>415</td>\n",
       "    </tr>\n",
       "    <tr>\n",
       "      <th>1</th>\n",
       "      <td>news_gen</td>\n",
       "      <td>296</td>\n",
       "      <td>280</td>\n",
       "    </tr>\n",
       "    <tr>\n",
       "      <th>2</th>\n",
       "      <td>news_spec</td>\n",
       "      <td>518</td>\n",
       "      <td>484</td>\n",
       "    </tr>\n",
       "    <tr>\n",
       "      <th>3</th>\n",
       "      <td>pop_science</td>\n",
       "      <td>542</td>\n",
       "      <td>521</td>\n",
       "    </tr>\n",
       "    <tr>\n",
       "      <th>4</th>\n",
       "      <td>science</td>\n",
       "      <td>1003</td>\n",
       "      <td>827</td>\n",
       "    </tr>\n",
       "  </tbody>\n",
       "</table>\n",
       "</div>"
      ]
     },
     "execution_count": 41,
     "metadata": {},
     "output_type": "execute_result"
    }
   ],
   "execution_count": 41
  },
  {
   "metadata": {
    "ExecuteTime": {
     "end_time": "2025-02-01T10:35:34.539785Z",
     "start_time": "2025-02-01T10:35:34.536069Z"
    }
   },
   "cell_type": "code",
   "source": [
    "from enum import Enum\n",
    "\n",
    "\n",
    "class Language(Enum):\n",
    "    ENGLISH = 'English'\n",
    "    GERMAN = 'German'\n",
    "\n",
    "class Complexity(Enum):\n",
    "    EASY = 'easy'\n",
    "    NEWS_GEN = 'news_gen'\n",
    "    NEWS_SPEC = 'news_spec'\n",
    "    POP_SCIENCE = 'pop_science'\n",
    "    SCIENCE = 'science'"
   ],
   "id": "323c0bdb3ca88317",
   "outputs": [],
   "execution_count": 42
  },
  {
   "metadata": {},
   "cell_type": "markdown",
   "source": [
    "***\n",
    "## 2 Model Loading\n",
    "In the second step we import the AI-Models which are given in the specified task. For doing so we use the `llama-cpp-python` library (further documentation can be found [here](https://github.com/abetlen/llama-cpp-python)) and import the models directly from [huggingface](https://huggingface.co/).\n",
    "\n",
    "Quick overview and installation guide of llama.cpp:\n",
    "- https://www.datacamp.com/tutorial/llama-cpp-tutorial\n",
    "- https://christophergs.com/blog/running-open-source-llms-in-python"
   ],
   "id": "da93308612340266"
  },
  {
   "metadata": {
    "ExecuteTime": {
     "end_time": "2025-02-01T10:35:34.611768Z",
     "start_time": "2025-02-01T10:35:34.608140Z"
    }
   },
   "cell_type": "code",
   "source": [
    "# Configuration of the models\n",
    "MODELS = {\n",
    "    'gemma': {\n",
    "        'repo_id': 'lmstudio-ai/gemma-2b-it-GGUF',\n",
    "        'filename': 'gemma-2b-it-q8_0.gguf',\n",
    "    },\n",
    "    'llama32': {\n",
    "        'repo_id': 'hugging-quants/Llama-3.2-3B-Instruct-Q8_0-GGUF',\n",
    "        'filename': 'llama-3.2-3b-instruct-q8_0.gguf',\n",
    "    },\n",
    "    'llama31': {\n",
    "        'repo_id': 'lmstudio-community/Meta-Llama-3.1-8B-Instruct-GGUF',\n",
    "        'filename': 'Meta-Llama-3.1-8B-Instruct-Q5_K_M.gguf',\n",
    "    },\n",
    "    # 'aya23': {\n",
    "    #     'repo_id': 'bartowski/aya-23-35B-GGUF',\n",
    "    #     'filename': 'aya-23-35B-Q5_K_M.gguf',\n",
    "    # },\n",
    "}"
   ],
   "id": "d41d93f0a2545265",
   "outputs": [],
   "execution_count": 43
  },
  {
   "metadata": {
    "ExecuteTime": {
     "end_time": "2025-02-01T10:35:34.692087Z",
     "start_time": "2025-02-01T10:35:34.687284Z"
    }
   },
   "cell_type": "code",
   "source": [
    "def create_llama_model(repo_id, filename, n_ctx=None):\n",
    "    try:\n",
    "        if n_ctx is None:\n",
    "            # default of llama_cpp\n",
    "            n_ctx = 512\n",
    "        if repo_id is not None and filename is not None:\n",
    "            model = Llama.from_pretrained(\n",
    "                repo_id=repo_id,\n",
    "                filename=filename,\n",
    "                n_ctx=n_ctx,\n",
    "                # n_gpu_layers=n_gpu_layers,\n",
    "                n_threads=5,\n",
    "                verbose=False,\n",
    "            )\n",
    "            print(f\"Model {repo_id} erfolgreich geladen mit n_ctx={n_ctx}\")\n",
    "            return model\n",
    "        else:\n",
    "            return None\n",
    "    except Exception as e:\n",
    "        print(f\"Fehler beim Laden von {filename}: {e}\")\n",
    "        return None"
   ],
   "id": "3c03d17b6bc17b83",
   "outputs": [],
   "execution_count": 44
  },
  {
   "metadata": {},
   "cell_type": "markdown",
   "source": "***",
   "id": "464c36e55f18159"
  },
  {
   "metadata": {},
   "cell_type": "markdown",
   "source": [
    "## 3 Pipeline\n",
    "\n",
    "### 3.1 Model Interaction"
   ],
   "id": "8f91fc96f9d5591e"
  },
  {
   "metadata": {
    "ExecuteTime": {
     "end_time": "2025-02-01T10:35:34.722209Z",
     "start_time": "2025-02-01T10:35:34.717572Z"
    }
   },
   "cell_type": "code",
   "source": [
    "def translate(model, prompt, reference_translation):\n",
    "    # we estimate the needed max_tokens based on the tokenized prompt and reference_translation\n",
    "    token_length_ref = len(model.tokenize(reference_translation.encode('utf-8')))\n",
    "    token_length_prompt = len(model.tokenize(prompt.encode('utf-8')))\n",
    "    # the model should not need more tokens than this\n",
    "    estimated_max_tokens = (token_length_prompt + token_length_ref) * 1.5\n",
    "\n",
    "    response = model(prompt, max_tokens=estimated_max_tokens, echo=False)\n",
    "    # print(response['choices'][0]['text'])\n",
    "    return response['choices'][0]['text']"
   ],
   "id": "6420297102cf617f",
   "outputs": [],
   "execution_count": 45
  },
  {
   "metadata": {},
   "cell_type": "markdown",
   "source": [
    "### 3.2 Metrics Calculation\n",
    "[GitHub Repo to MetricX](https://github.com/google-research/metricx)"
   ],
   "id": "524f90bdcc56ab38"
  },
  {
   "metadata": {
    "ExecuteTime": {
     "end_time": "2025-02-01T10:35:34.754036Z",
     "start_time": "2025-02-01T10:35:34.745013Z"
    }
   },
   "cell_type": "code",
   "source": [
    "import subprocess\n",
    "import json\n",
    "import os\n",
    "\n",
    "\n",
    "def calculate_metricx_score(source, reference, hypothesis):\n",
    "    '''\n",
    "    Calculates the MetricX-score based on source, reference, and hypothesis using metricx24.\n",
    "    We are currently using the metricx-24-hybrid-large-v2p6-bfloat16 model but there are also other options\n",
    "        as can be seen here: https://github.com/google-research/metricx\n",
    "\n",
    "    Args:\n",
    "        source: The source text (String).\n",
    "        reference: The reference translation (String).\n",
    "        hypothesis: The hypothesis translation (String).\n",
    "\n",
    "    Returns:\n",
    "        The calculated score as a float or None in case of an error.\n",
    "    '''\n",
    "\n",
    "    data = [{'id': '1', 'source': source, 'reference': reference, 'hypothesis': hypothesis}]\n",
    "\n",
    "    # Create temporary JSONL files\n",
    "    input_file = './temp_input.jsonl'\n",
    "    output_file = './temp_output.jsonl'\n",
    "    model = 'google/metricx-24-hybrid-large-v2p6-bfloat16'\n",
    "\n",
    "    try:\n",
    "        with open(input_file, 'w', encoding='utf-8') as f:\n",
    "            for entry in data:\n",
    "                json.dump(entry, f)\n",
    "                f.write('\\n')\n",
    "\n",
    "        command = [\n",
    "            'python', '-m', 'metricx24.predict',\n",
    "            '--tokenizer', 'google/mt5-xl',\n",
    "            '--model_name_or_path', model,\n",
    "            '--max_input_length', '1536',\n",
    "            '--batch_size', '1',\n",
    "            '--input_file', input_file,\n",
    "            '--output_file', output_file\n",
    "        ]\n",
    "\n",
    "        process = subprocess.Popen(\n",
    "            command,\n",
    "            stdout=subprocess.PIPE,\n",
    "            stderr=subprocess.PIPE,\n",
    "            text=True,\n",
    "            bufsize=1,\n",
    "            universal_newlines=True\n",
    "        )\n",
    "\n",
    "        # Capture output and errors (optional, can be useful for debugging)\n",
    "        #for line in process.stdout:\n",
    "        #    print(line, end='')\n",
    "        #for line in process.stderr:\n",
    "        #    print(f'ERROR: {line}', end='')\n",
    "\n",
    "        process.wait()\n",
    "\n",
    "        if process.returncode != 0:\n",
    "            print(f'Error executing metricx24. Return code: {process.returncode}')\n",
    "            return None\n",
    "\n",
    "        # Read score from the output file\n",
    "        with open(output_file, 'r', encoding='utf-8') as f:\n",
    "            for line in f:\n",
    "                try:\n",
    "                    output_data = json.loads(line)\n",
    "                    score = float(output_data.get('prediction'))  # Ensure that 'score' exists\n",
    "                    return score\n",
    "                except (json.JSONDecodeError, ValueError, AttributeError):\n",
    "                    print('Error parsing the output file.')\n",
    "                    return None\n",
    "\n",
    "        return None  # If no valid line was found in the output file\n",
    "\n",
    "    finally:\n",
    "        # Remove temporary files\n",
    "        try:\n",
    "            os.remove(input_file)\n",
    "            os.remove(output_file)\n",
    "        except FileNotFoundError:\n",
    "            pass  #If the files don't exist for some reason, the error is caught\n",
    "\n",
    "\n"
   ],
   "id": "969f3b0640a2fdf0",
   "outputs": [],
   "execution_count": 46
  },
  {
   "metadata": {
    "ExecuteTime": {
     "end_time": "2025-02-01T10:35:34.780155Z",
     "start_time": "2025-02-01T10:35:34.774681Z"
    }
   },
   "cell_type": "code",
   "source": [
    "from rouge_score import rouge_scorer\n",
    "\n",
    "def evaluate_translation(source, reference, hypothesis):\n",
    "    # Note that BLEU and chrF Scores can only be between 0 and 100\n",
    "    #    but sacreblue returns floats as percentage values\n",
    "    # --> so the scores are between 0 and 100)\n",
    "    bleu_score = sacrebleu.corpus_bleu([hypothesis], [[reference]]).score\n",
    "    chrf_score = sacrebleu.corpus_chrf([hypothesis], [[reference]]).score\n",
    "\n",
    "    metricx_score = calculate_metricx_score(source, reference, hypothesis)\n",
    "    if metricx_score is None:\n",
    "        metricx_score = -1\n",
    "\n",
    "    rougel_scorer = rouge_scorer.RougeScorer(['rougeL'], use_stemmer=True)\n",
    "    rougel_score = rougel_scorer.score(reference, hypothesis)\n",
    "\n",
    "    return {'BLEU': bleu_score,\n",
    "            'chrF': chrf_score,\n",
    "            'rougeL': (rougel_score['rougeL'].fmeasure * 100),\n",
    "            'MetricX': metricx_score}\n"
   ],
   "id": "b2db81cb89d1a90e",
   "outputs": [],
   "execution_count": 47
  },
  {
   "metadata": {
    "ExecuteTime": {
     "end_time": "2025-02-01T10:35:34.790693Z",
     "start_time": "2025-02-01T10:35:34.786157Z"
    }
   },
   "cell_type": "code",
   "source": "#evaluate_translation(\"Felix hat es satt: Ständig ist Mama unterwegs. Doch warum das so ist, will ihm niemand verraten. Für Felix ist daher klar: Seine Mutter ist eine Geheimagentin. Als er an seinem zehnten Geburtstag einen rätselhaften Brief erhält, scheint sich seine Vermutung zu bestätigen. Zusammen mit seiner besten Freundin Lina macht er sich daran, das Geheimnis um Mamas Arbeit zu lüften. Ehe sie sich versehen, stecken die beiden mitten in ihrem ersten spannenden Fall als angehende Geheimagenten.\", \"Felix is fed up: Mom is always on the go. But nobody will tell him why that is. For Felix, it's clear: his mother is a secret agent. When he receives a mysterious letter on his tenth birthday, his suspicion seems to be confirmed. Together with his best friend Lina, he sets out to uncover the secret of mom's job. Before they know it, the two are in the middle of their first exciting case as budding secret agents.\", \"\\n\\n**English Translation:**\\n\\nFelix had sat: Mama was constantly on the go. But why this is the case, no one will tell him. Therefore, clear to Felix: his mother is a covert agent. When he receives a cryptic letter on his eleventh birthday, it seems his suspicion is confirmed. Together with his best friend Lina, he starts unraveling the mystery of his mother's job. When they finally manage to solve the case, they stick to their first exciting clue like detectives.\")",
   "id": "3cf725633e2ed7e8",
   "outputs": [],
   "execution_count": 48
  },
  {
   "metadata": {},
   "cell_type": "markdown",
   "source": "### 3.3 Logging to MLFLow",
   "id": "850ab5dc61d6bfd0"
  },
  {
   "metadata": {
    "ExecuteTime": {
     "end_time": "2025-02-01T10:35:34.811794Z",
     "start_time": "2025-02-01T10:35:34.805667Z"
    }
   },
   "cell_type": "code",
   "source": [
    "def log_to_mlflow(experiment_name, metrics, prompt_type, model_name, complexity, target_language, tmp_result,\n",
    "                  prompt_language):\n",
    "    experiment = mlflow.get_experiment_by_name(experiment_name)\n",
    "\n",
    "    if experiment:\n",
    "        if experiment.lifecycle_stage == 'deleted':\n",
    "            mlflow.tracking.MlflowClient().restore_experiment(experiment.experiment_id)\n",
    "            #mlflow.delete_experiment(experiment.experiment_id)\n",
    "    else:\n",
    "        mlflow.create_experiment(experiment_name)\n",
    "\n",
    "    mlflow.set_experiment(experiment_name)\n",
    "    with mlflow.start_run(run_name=f'{model_name}/{complexity}/{prompt_type}'):\n",
    "        mlflow.log_param('model', model_name)\n",
    "        mlflow.log_param('complexity', complexity)\n",
    "        mlflow.log_param('prompt_type', prompt_type)\n",
    "        mlflow.log_param('target_language', target_language)\n",
    "        mlflow.log_param('prompt_language', prompt_language)\n",
    "        for key, value in metrics.items():\n",
    "            mlflow.log_metric(key, value)\n",
    "\n",
    "        tmp_result.to_json('tmp_results.json', index=False)\n",
    "        mlflow.log_artifact('tmp_results.json')\n",
    "        mlflow.end_run()\n"
   ],
   "id": "ea6b2fc077799b49",
   "outputs": [],
   "execution_count": 49
  },
  {
   "metadata": {},
   "cell_type": "markdown",
   "source": "### 3.4 Pipeline Composition",
   "id": "525e76790b8b3239"
  },
  {
   "metadata": {
    "ExecuteTime": {
     "end_time": "2025-02-01T10:35:34.837223Z",
     "start_time": "2025-02-01T10:35:34.824898Z"
    }
   },
   "cell_type": "code",
   "source": [
    "import gc\n",
    "\n",
    "def run_pipeline(texts):\n",
    "    results = pd.DataFrame(\n",
    "        columns=['model', 'complexity', 'prompt_type', 'prompt', 'source_text', 'hypothesis', 'reference', 'metrics',\n",
    "                 'prompt_language'])\n",
    "    mlflow.set_tracking_uri(uri='http://127.0.0.1:5000')\n",
    "\n",
    "    for model_name, model_config in MODELS.items():\n",
    "        for _, row in texts.iterrows():\n",
    "            model = createModel(model_config, row)\n",
    "\n",
    "            # Übersetzung Deutsch -> Englisch\n",
    "            for prompt_type, template_data in PROMPT_TEMPLATES_GERMAN_ENGLISH.items():\n",
    "                complexity = row['complexity']\n",
    "                if pd.notna(row['text_german']):\n",
    "                    results = execute_mlflow_run(complexity, model, model_name, prompt_type, Language.ENGLISH, results,\n",
    "                                                 row['text_german'], row['text_english'], template_data)\n",
    "\n",
    "            # Übersetzung Englisch -> Deutsch\n",
    "            for prompt_type, template_data in PROMPT_TEMPLATES_ENGLISH_GERMAN.items():\n",
    "                complexity = row['complexity']\n",
    "                if pd.notna(row['text_english']):\n",
    "                    results = execute_mlflow_run(complexity, model, model_name, prompt_type, Language.GERMAN, results,\n",
    "                                                 row['text_english'], row['text_german'], template_data)\n",
    "\n",
    "            # we dont need the model anymore so we delete it\n",
    "            del model\n",
    "            gc.collect()\n",
    "    return results\n",
    "\n",
    "\n",
    "def createModel(model_config, row):\n",
    "    # at first we just use the dummyModel for tokenization\n",
    "    dummyModel = create_llama_model(model_config['repo_id'], model_config['filename'])\n",
    "    combined_text = f\"{row['text_german']} {row['text_english']}\"\n",
    "    text_tokens = len(dummyModel.tokenize(combined_text.encode('utf-8')))\n",
    "    # we want to tokenize the longest template\n",
    "    max_promp_template = max(\n",
    "        (t['template'] for d in (PROMPT_TEMPLATES_GERMAN_ENGLISH, PROMPT_TEMPLATES_ENGLISH_GERMAN) for t in d.values()),\n",
    "        key=len)\n",
    "    prompt_tokens = len(dummyModel.tokenize(max_promp_template.encode('utf-8')))\n",
    "\n",
    "    # now we delete the dummyModel and then create the final model based on the estimated_max_tokens\n",
    "    del dummyModel\n",
    "    gc.collect()\n",
    "    estimated_max_tokens = (text_tokens + prompt_tokens) * 2\n",
    "    n_ctx = int(estimated_max_tokens * 1.2)\n",
    "    print(f\"estimated_max_tokens: {estimated_max_tokens}; n_ctx: {n_ctx}\")\n",
    "    model = create_llama_model(model_config['repo_id'], model_config['filename'], n_ctx=n_ctx)\n",
    "    return model\n",
    "\n",
    "\n",
    "def execute_mlflow_run(complexity, model, model_name, prompt_type, target_language: Language, results, source_text,\n",
    "                       reference_text, template_data):\n",
    "    prompt = template_data['template'].format(text=source_text)\n",
    "    prompt_language = template_data['prompt_language']\n",
    "\n",
    "    start_time_translation = time.time()\n",
    "    hypothesis = translate(model, prompt, reference_text)\n",
    "    end_time_translation = time.time()\n",
    "    print('Prompt finished in (seconds): ', round(end_time_translation - start_time_translation, 2))\n",
    "    metrics = evaluate_translation(source=source_text, reference=reference_text, hypothesis=hypothesis)\n",
    "    print('Metric Calculation in (seconds): ', round(time.time() - end_time_translation, 2))\n",
    "\n",
    "    tmp_result = pd.DataFrame([{\n",
    "        'model': model_name,\n",
    "        'complexity': complexity,\n",
    "        'prompt_type': prompt_type,\n",
    "        'prompt': prompt,\n",
    "        'source_text': source_text,\n",
    "        'hypothesis': hypothesis,\n",
    "        'reference_text': reference_text,\n",
    "        'metrics': metrics,\n",
    "        'prompt_language': prompt_language.value  # Hier .value für den Stringwert\n",
    "    }])\n",
    "\n",
    "    # MLflow-Logging\n",
    "    experiment_name = f'{model_name}_{complexity}'\n",
    "\n",
    "    log_to_mlflow(experiment_name, metrics, prompt_type, model_name, complexity, target_language.value, tmp_result,\n",
    "                  prompt_language.value)\n",
    "\n",
    "    # Ergebnis speichern\n",
    "    results = pd.concat([\n",
    "        results,\n",
    "        tmp_result\n",
    "    ], ignore_index=True)\n",
    "    return results"
   ],
   "id": "961cb868381bd8a6",
   "outputs": [],
   "execution_count": 50
  },
  {
   "metadata": {},
   "cell_type": "markdown",
   "source": "### 3.5 Prompt Composition\n",
   "id": "c1d3b0fe8482b687"
  },
  {
   "metadata": {
    "ExecuteTime": {
     "end_time": "2025-02-01T10:35:34.856237Z",
     "start_time": "2025-02-01T10:35:34.850659Z"
    }
   },
   "cell_type": "code",
   "source": [
    "# TODO: Verschiedene Prompt Arten: zero-shot, few-shot und verschiedene Variationen reinbringen\n",
    "\n",
    "\n",
    "PROMPT_TEMPLATES_ENGLISH_GERMAN = {\n",
    "    #'zero_shot_to-german_english_1': {\n",
    "    #    'template': 'Please translate the following text from English to German: \\\"{text}\\\"',\n",
    "    #    'prompt_language': Language.ENGLISH\n",
    "    #},\n",
    "    #'zero_shot_to-german_german_1': {\n",
    "    #    'template': 'Bitte übersetze diesen Text von Englisch nach Deutsch: \\\"{text}\\\"',\n",
    "    #    'prompt_language': Language.GERMAN\n",
    "    #},\n",
    "    #'zero_shot_to-german_english_2': {\n",
    "    #    'template': 'Please translate the following text from English to German. Do not ask questions, just return the translation. This is the text: \\\"{text}\\\"',\n",
    "    #    'prompt_language': Language.ENGLISH\n",
    "    #},\n",
    "    #'zero_shot_to-german_german_2': {\n",
    "    #    'template': 'Bitte übersetze diesen Text von Englisch nach Deutsch. Stelle keine Gegenfragen, sondern gib einfach die Übersetzung aus. Das ist der Text: \\\"{text}\\\"',\n",
    "    #    'prompt_language': Language.GERMAN\n",
    "    #},\n",
    "    'zero_shot_style_to-german_english_1': {\n",
    "        'template': 'Please translate the following text from English to German. Do not ask questions and do not give further explanations, just return the translation. Keep the original tone of the text. This is the text to translate: \\\"{text}\\\"',\n",
    "        'prompt_language': Language.ENGLISH,\n",
    "        'prompt_type': 'zero_shot_style',\n",
    "        'complexeties':\n",
    "    },\n",
    "    'zero_shot_style_to-german_german_1': {\n",
    "        'template': 'Bitte übersetze diesen Text von Englisch nach Deutsch. Stelle keine Gegenfragen und nenne keine Begründungen, sondern gib einfach die Übersetzung aus. Behalte den ursprünglichen Ton des Textes bei. Das ist der zu übersetzende Text: \\\"{text}\\\"',\n",
    "        'prompt_language': Language.GERMAN\n",
    "    },\n",
    "    # ... weitere Einträge\n",
    "}\n",
    "\n",
    "PROMPT_TEMPLATES_GERMAN_ENGLISH = {\n",
    "    #'zero_shot_to-english_english_1': {\n",
    "    #    'template': 'Please translate the following text from German to English: \\\"{text}\\\"',\n",
    "    #    'prompt_language': Language.GERMAN\n",
    "    #},\n",
    "    #'zero_shot_to-english_german_1': {\n",
    "    #    'template': 'Bitte übersetze diesen Text von Deutsch nach Englisch: \\\"{text}\\\"',\n",
    "    #    'prompt_language': Language.GERMAN\n",
    "    #},\n",
    "    #'zero_shot_to-english_english_2': {\n",
    "    #    'template': 'Please translate the following text from German to English. Do not ask questions, just return the translation. This is the text: \\\"{text}\\\"',\n",
    "    #   'prompt_language': Language.ENGLISH\n",
    "    #},\n",
    "    #'zero_shot_to-english_german_2': {\n",
    "    #    'template': 'Bitte übersetze diesen Text von Deutsch nach Englisch. Stelle keine Gegenfragen, sondern gib einfach die Übersetzung aus. Das ist der Text: \\\"{text}\\\"',\n",
    "    #    'prompt_language': Language.GERMAN\n",
    "    #},\n",
    "    'zero_shot_style_to-english_english_1': {\n",
    "        'template': 'Please translate the following text from German to English. Do not ask questions and do not give further explanations, just return the translation. Keep the original tone of the text. This is the text to translate: \\\"{text}\\\"',\n",
    "        'prompt_language': Language.ENGLISH\n",
    "    },\n",
    "    'zero_shot_style_to-english_german_1': {\n",
    "        'template': 'Bitte übersetze diesen Text von Deutsch nach Englisch. Stelle keine Gegenfragen und nenne keine Begründungen, sondern gib einfach die Übersetzung aus. Behalte den ursprünglichen Ton des Textes bei. Das ist der zu übersetzende Text: \\\"{text}\\\"',\n",
    "        'prompt_language': Language.GERMAN\n",
    "    },\n",
    "    # ...\n",
    "}"
   ],
   "id": "fbda21553c9aa77b",
   "outputs": [],
   "execution_count": 51
  },
  {
   "metadata": {},
   "cell_type": "markdown",
   "source": [
    "***\n",
    "## 4 Execute Pipeline"
   ],
   "id": "770e5c8f7b34ed45"
  },
  {
   "metadata": {
    "ExecuteTime": {
     "end_time": "2025-02-01T12:12:22.986352Z",
     "start_time": "2025-02-01T10:35:34.868326Z"
    }
   },
   "cell_type": "code",
   "source": [
    "translation_results = run_pipeline(data)\n",
    "print('Fertig mit der Pipeline. Speichere Ergebnisse...')\n",
    "translation_results.to_csv('translation_results.csv', sep=';')\n",
    "print('Pipeline abgeschlossen. Ergebnisse gespeichert.')"
   ],
   "id": "54362f91437fda00",
   "outputs": [
    {
     "name": "stderr",
     "output_type": "stream",
     "text": [
      "llama_init_from_model: n_ctx_per_seq (512) < n_ctx_train (8192) -- the full capacity of the model will not be utilized\n"
     ]
    },
    {
     "name": "stdout",
     "output_type": "stream",
     "text": [
      "Model lmstudio-ai/gemma-2b-it-GGUF erfolgreich geladen mit n_ctx=512\n",
      "estimated_max_tokens: 516; n_ctx: 619\n"
     ]
    },
    {
     "name": "stderr",
     "output_type": "stream",
     "text": [
      "llama_init_from_model: n_ctx_per_seq (640) < n_ctx_train (8192) -- the full capacity of the model will not be utilized\n"
     ]
    },
    {
     "name": "stdout",
     "output_type": "stream",
     "text": [
      "Model lmstudio-ai/gemma-2b-it-GGUF erfolgreich geladen mit n_ctx=619\n",
      "Prompt finished in (seconds):  2.32\n",
      "Metric Calculation in (seconds):  30.37\n",
      "🏃 View run gemma/easy/zero_shot_style_to-english_english_1 at: http://127.0.0.1:5000/#/experiments/429765178055128713/runs/0fa3f8df0bdd455bb2bd7b3e56bfa7b6\n",
      "🧪 View experiment at: http://127.0.0.1:5000/#/experiments/429765178055128713\n",
      "Prompt finished in (seconds):  2.08\n",
      "Metric Calculation in (seconds):  24.54\n",
      "🏃 View run gemma/easy/zero_shot_style_to-english_german_1 at: http://127.0.0.1:5000/#/experiments/429765178055128713/runs/faab2b453ac6433aa85a4321bca465e5\n",
      "🧪 View experiment at: http://127.0.0.1:5000/#/experiments/429765178055128713\n",
      "Prompt finished in (seconds):  1.66\n",
      "Metric Calculation in (seconds):  24.32\n",
      "🏃 View run gemma/easy/zero_shot_style_to-german_english_1 at: http://127.0.0.1:5000/#/experiments/429765178055128713/runs/b2511817a19145848edc27315cc0cfd2\n",
      "🧪 View experiment at: http://127.0.0.1:5000/#/experiments/429765178055128713\n",
      "Prompt finished in (seconds):  2.2\n",
      "Metric Calculation in (seconds):  23.61\n",
      "🏃 View run gemma/easy/zero_shot_style_to-german_german_1 at: http://127.0.0.1:5000/#/experiments/429765178055128713/runs/24c431a0bb054766a966aeb916fcec14\n",
      "🧪 View experiment at: http://127.0.0.1:5000/#/experiments/429765178055128713\n"
     ]
    },
    {
     "name": "stderr",
     "output_type": "stream",
     "text": [
      "llama_init_from_model: n_ctx_per_seq (512) < n_ctx_train (8192) -- the full capacity of the model will not be utilized\n"
     ]
    },
    {
     "name": "stdout",
     "output_type": "stream",
     "text": [
      "Model lmstudio-ai/gemma-2b-it-GGUF erfolgreich geladen mit n_ctx=512\n",
      "estimated_max_tokens: 346; n_ctx: 415\n"
     ]
    },
    {
     "name": "stderr",
     "output_type": "stream",
     "text": [
      "llama_init_from_model: n_ctx_per_seq (416) < n_ctx_train (8192) -- the full capacity of the model will not be utilized\n"
     ]
    },
    {
     "name": "stdout",
     "output_type": "stream",
     "text": [
      "Model lmstudio-ai/gemma-2b-it-GGUF erfolgreich geladen mit n_ctx=415\n",
      "Prompt finished in (seconds):  6.01\n",
      "Metric Calculation in (seconds):  20.38\n",
      "🏃 View run gemma/news_gen/zero_shot_style_to-english_english_1 at: http://127.0.0.1:5000/#/experiments/391944840061747289/runs/42f698cb4d43403284ed2c935288a2bd\n",
      "🧪 View experiment at: http://127.0.0.1:5000/#/experiments/391944840061747289\n",
      "Prompt finished in (seconds):  7.69\n",
      "Metric Calculation in (seconds):  21.34\n",
      "🏃 View run gemma/news_gen/zero_shot_style_to-english_german_1 at: http://127.0.0.1:5000/#/experiments/391944840061747289/runs/869f05456b814d0d9dca538fc4ac8b93\n",
      "🧪 View experiment at: http://127.0.0.1:5000/#/experiments/391944840061747289\n",
      "Prompt finished in (seconds):  1.11\n",
      "Metric Calculation in (seconds):  18.81\n",
      "🏃 View run gemma/news_gen/zero_shot_style_to-german_english_1 at: http://127.0.0.1:5000/#/experiments/391944840061747289/runs/577d80da285940eeaaf01a904d982f1c\n",
      "🧪 View experiment at: http://127.0.0.1:5000/#/experiments/391944840061747289\n",
      "Prompt finished in (seconds):  8.17\n",
      "Metric Calculation in (seconds):  23.19\n",
      "🏃 View run gemma/news_gen/zero_shot_style_to-german_german_1 at: http://127.0.0.1:5000/#/experiments/391944840061747289/runs/ea2bc858b03e41428f5f15a31e9da572\n",
      "🧪 View experiment at: http://127.0.0.1:5000/#/experiments/391944840061747289\n"
     ]
    },
    {
     "name": "stderr",
     "output_type": "stream",
     "text": [
      "llama_init_from_model: n_ctx_per_seq (512) < n_ctx_train (8192) -- the full capacity of the model will not be utilized\n"
     ]
    },
    {
     "name": "stdout",
     "output_type": "stream",
     "text": [
      "Model lmstudio-ai/gemma-2b-it-GGUF erfolgreich geladen mit n_ctx=512\n",
      "estimated_max_tokens: 526; n_ctx: 631\n"
     ]
    },
    {
     "name": "stderr",
     "output_type": "stream",
     "text": [
      "llama_init_from_model: n_ctx_per_seq (640) < n_ctx_train (8192) -- the full capacity of the model will not be utilized\n"
     ]
    },
    {
     "name": "stdout",
     "output_type": "stream",
     "text": [
      "Model lmstudio-ai/gemma-2b-it-GGUF erfolgreich geladen mit n_ctx=631\n",
      "Prompt finished in (seconds):  2.0\n",
      "Metric Calculation in (seconds):  22.9\n",
      "🏃 View run gemma/news_spec/zero_shot_style_to-english_english_1 at: http://127.0.0.1:5000/#/experiments/713590614913207437/runs/91a7fa5d9e4d46389ddca8ded5e32d41\n",
      "🧪 View experiment at: http://127.0.0.1:5000/#/experiments/713590614913207437\n",
      "Prompt finished in (seconds):  11.46\n",
      "Metric Calculation in (seconds):  29.78\n",
      "🏃 View run gemma/news_spec/zero_shot_style_to-english_german_1 at: http://127.0.0.1:5000/#/experiments/713590614913207437/runs/d59296da393b40a3b2c8e0876ef5fc98\n",
      "🧪 View experiment at: http://127.0.0.1:5000/#/experiments/713590614913207437\n",
      "Prompt finished in (seconds):  1.61\n",
      "Metric Calculation in (seconds):  22.88\n",
      "🏃 View run gemma/news_spec/zero_shot_style_to-german_english_1 at: http://127.0.0.1:5000/#/experiments/713590614913207437/runs/35ff35647945406a9513feed2eac9a47\n",
      "🧪 View experiment at: http://127.0.0.1:5000/#/experiments/713590614913207437\n",
      "Prompt finished in (seconds):  13.01\n",
      "Metric Calculation in (seconds):  29.61\n",
      "🏃 View run gemma/news_spec/zero_shot_style_to-german_german_1 at: http://127.0.0.1:5000/#/experiments/713590614913207437/runs/a0831e54c5ec4cb8a603e61bd475632e\n",
      "🧪 View experiment at: http://127.0.0.1:5000/#/experiments/713590614913207437\n"
     ]
    },
    {
     "name": "stderr",
     "output_type": "stream",
     "text": [
      "llama_init_from_model: n_ctx_per_seq (512) < n_ctx_train (8192) -- the full capacity of the model will not be utilized\n"
     ]
    },
    {
     "name": "stdout",
     "output_type": "stream",
     "text": [
      "Model lmstudio-ai/gemma-2b-it-GGUF erfolgreich geladen mit n_ctx=512\n",
      "estimated_max_tokens: 540; n_ctx: 648\n"
     ]
    },
    {
     "name": "stderr",
     "output_type": "stream",
     "text": [
      "llama_init_from_model: n_ctx_per_seq (672) < n_ctx_train (8192) -- the full capacity of the model will not be utilized\n"
     ]
    },
    {
     "name": "stdout",
     "output_type": "stream",
     "text": [
      "Model lmstudio-ai/gemma-2b-it-GGUF erfolgreich geladen mit n_ctx=648\n",
      "Prompt finished in (seconds):  2.27\n",
      "Metric Calculation in (seconds):  24.63\n",
      "🏃 View run gemma/pop_science/zero_shot_style_to-english_english_1 at: http://127.0.0.1:5000/#/experiments/819534162661537410/runs/225e7ad29aff40a0a81aedeeaac42011\n",
      "🧪 View experiment at: http://127.0.0.1:5000/#/experiments/819534162661537410\n",
      "Prompt finished in (seconds):  10.64\n",
      "Metric Calculation in (seconds):  30.27\n",
      "🏃 View run gemma/pop_science/zero_shot_style_to-english_german_1 at: http://127.0.0.1:5000/#/experiments/819534162661537410/runs/dc75fa7532af45888939b3f7fe190900\n",
      "🧪 View experiment at: http://127.0.0.1:5000/#/experiments/819534162661537410\n",
      "Prompt finished in (seconds):  1.61\n",
      "Metric Calculation in (seconds):  24.21\n",
      "🏃 View run gemma/pop_science/zero_shot_style_to-german_english_1 at: http://127.0.0.1:5000/#/experiments/819534162661537410/runs/14edbe69f4b84df78383021ce6640142\n",
      "🧪 View experiment at: http://127.0.0.1:5000/#/experiments/819534162661537410\n",
      "Prompt finished in (seconds):  1.7\n",
      "Metric Calculation in (seconds):  23.35\n",
      "🏃 View run gemma/pop_science/zero_shot_style_to-german_german_1 at: http://127.0.0.1:5000/#/experiments/819534162661537410/runs/0a1f1b9a48b549ed988d464b3dcbe8d3\n",
      "🧪 View experiment at: http://127.0.0.1:5000/#/experiments/819534162661537410\n"
     ]
    },
    {
     "name": "stderr",
     "output_type": "stream",
     "text": [
      "llama_init_from_model: n_ctx_per_seq (512) < n_ctx_train (8192) -- the full capacity of the model will not be utilized\n"
     ]
    },
    {
     "name": "stdout",
     "output_type": "stream",
     "text": [
      "Model lmstudio-ai/gemma-2b-it-GGUF erfolgreich geladen mit n_ctx=512\n",
      "estimated_max_tokens: 1096; n_ctx: 1315\n"
     ]
    },
    {
     "name": "stderr",
     "output_type": "stream",
     "text": [
      "llama_init_from_model: n_ctx_per_seq (1344) < n_ctx_train (8192) -- the full capacity of the model will not be utilized\n"
     ]
    },
    {
     "name": "stdout",
     "output_type": "stream",
     "text": [
      "Model lmstudio-ai/gemma-2b-it-GGUF erfolgreich geladen mit n_ctx=1315\n",
      "Prompt finished in (seconds):  24.56\n",
      "Metric Calculation in (seconds):  54.27\n",
      "🏃 View run gemma/science/zero_shot_style_to-english_english_1 at: http://127.0.0.1:5000/#/experiments/895795565739563094/runs/e507835277204861a33a6cbafaf931a0\n",
      "🧪 View experiment at: http://127.0.0.1:5000/#/experiments/895795565739563094\n",
      "Prompt finished in (seconds):  25.66\n",
      "Metric Calculation in (seconds):  58.45\n",
      "🏃 View run gemma/science/zero_shot_style_to-english_german_1 at: http://127.0.0.1:5000/#/experiments/895795565739563094/runs/539a58bc48e7416481c4881524cd7b42\n",
      "🧪 View experiment at: http://127.0.0.1:5000/#/experiments/895795565739563094\n",
      "Prompt finished in (seconds):  2.91\n",
      "Metric Calculation in (seconds):  36.72\n",
      "🏃 View run gemma/science/zero_shot_style_to-german_english_1 at: http://127.0.0.1:5000/#/experiments/895795565739563094/runs/42968316d38642d0880d0eddf9306c63\n",
      "🧪 View experiment at: http://127.0.0.1:5000/#/experiments/895795565739563094\n",
      "Prompt finished in (seconds):  26.01\n",
      "Metric Calculation in (seconds):  54.48\n",
      "🏃 View run gemma/science/zero_shot_style_to-german_german_1 at: http://127.0.0.1:5000/#/experiments/895795565739563094/runs/7976c784b2534d34806de2e47f7f0386\n",
      "🧪 View experiment at: http://127.0.0.1:5000/#/experiments/895795565739563094\n"
     ]
    },
    {
     "name": "stderr",
     "output_type": "stream",
     "text": [
      "llama_init_from_model: n_ctx_per_seq (512) < n_ctx_train (131072) -- the full capacity of the model will not be utilized\n"
     ]
    },
    {
     "name": "stdout",
     "output_type": "stream",
     "text": [
      "Model hugging-quants/Llama-3.2-3B-Instruct-Q8_0-GGUF erfolgreich geladen mit n_ctx=512\n",
      "estimated_max_tokens: 596; n_ctx: 715\n"
     ]
    },
    {
     "name": "stderr",
     "output_type": "stream",
     "text": [
      "llama_init_from_model: n_ctx_per_seq (736) < n_ctx_train (131072) -- the full capacity of the model will not be utilized\n"
     ]
    },
    {
     "name": "stdout",
     "output_type": "stream",
     "text": [
      "Model hugging-quants/Llama-3.2-3B-Instruct-Q8_0-GGUF erfolgreich geladen mit n_ctx=715\n",
      "Prompt finished in (seconds):  56.12\n",
      "Metric Calculation in (seconds):  56.81\n",
      "🏃 View run llama32/easy/zero_shot_style_to-english_english_1 at: http://127.0.0.1:5000/#/experiments/170611153105097398/runs/e92b5083e21e4a8881bc8a3ada415151\n",
      "🧪 View experiment at: http://127.0.0.1:5000/#/experiments/170611153105097398\n",
      "Prompt finished in (seconds):  18.64\n",
      "Metric Calculation in (seconds):  31.14\n",
      "🏃 View run llama32/easy/zero_shot_style_to-english_german_1 at: http://127.0.0.1:5000/#/experiments/170611153105097398/runs/9bfde635327e495cbcad4f0e93c8646a\n",
      "🧪 View experiment at: http://127.0.0.1:5000/#/experiments/170611153105097398\n",
      "Prompt finished in (seconds):  24.44\n",
      "Metric Calculation in (seconds):  33.03\n",
      "🏃 View run llama32/easy/zero_shot_style_to-german_english_1 at: http://127.0.0.1:5000/#/experiments/170611153105097398/runs/a342602591b54de58e8618d3102e8b6e\n",
      "🧪 View experiment at: http://127.0.0.1:5000/#/experiments/170611153105097398\n",
      "Prompt finished in (seconds):  54.92\n",
      "Metric Calculation in (seconds):  52.67\n",
      "🏃 View run llama32/easy/zero_shot_style_to-german_german_1 at: http://127.0.0.1:5000/#/experiments/170611153105097398/runs/f90bc8d7ff984e6fa6237d72a57eb407\n",
      "🧪 View experiment at: http://127.0.0.1:5000/#/experiments/170611153105097398\n"
     ]
    },
    {
     "name": "stderr",
     "output_type": "stream",
     "text": [
      "llama_init_from_model: n_ctx_per_seq (512) < n_ctx_train (131072) -- the full capacity of the model will not be utilized\n"
     ]
    },
    {
     "name": "stdout",
     "output_type": "stream",
     "text": [
      "Model hugging-quants/Llama-3.2-3B-Instruct-Q8_0-GGUF erfolgreich geladen mit n_ctx=512\n",
      "estimated_max_tokens: 408; n_ctx: 489\n"
     ]
    },
    {
     "name": "stderr",
     "output_type": "stream",
     "text": [
      "llama_init_from_model: n_ctx_per_seq (512) < n_ctx_train (131072) -- the full capacity of the model will not be utilized\n"
     ]
    },
    {
     "name": "stdout",
     "output_type": "stream",
     "text": [
      "Model hugging-quants/Llama-3.2-3B-Instruct-Q8_0-GGUF erfolgreich geladen mit n_ctx=489\n",
      "Prompt finished in (seconds):  32.75\n",
      "Metric Calculation in (seconds):  33.79\n",
      "🏃 View run llama32/news_gen/zero_shot_style_to-english_english_1 at: http://127.0.0.1:5000/#/experiments/379656095678811037/runs/e8226f1799664defac50f97b4c5abaf7\n",
      "🧪 View experiment at: http://127.0.0.1:5000/#/experiments/379656095678811037\n",
      "Prompt finished in (seconds):  2.94\n",
      "Metric Calculation in (seconds):  19.13\n",
      "🏃 View run llama32/news_gen/zero_shot_style_to-english_german_1 at: http://127.0.0.1:5000/#/experiments/379656095678811037/runs/bf8097d682be4c38a0e9e6c22ae769b6\n",
      "🧪 View experiment at: http://127.0.0.1:5000/#/experiments/379656095678811037\n",
      "Prompt finished in (seconds):  12.48\n",
      "Metric Calculation in (seconds):  22.2\n",
      "🏃 View run llama32/news_gen/zero_shot_style_to-german_english_1 at: http://127.0.0.1:5000/#/experiments/379656095678811037/runs/5ea2553991ca40e1b28d36d354a9ec93\n",
      "🧪 View experiment at: http://127.0.0.1:5000/#/experiments/379656095678811037\n",
      "Prompt finished in (seconds):  36.84\n",
      "Metric Calculation in (seconds):  33.31\n",
      "🏃 View run llama32/news_gen/zero_shot_style_to-german_german_1 at: http://127.0.0.1:5000/#/experiments/379656095678811037/runs/5efa17c48da74c50a7b713deaf6a771c\n",
      "🧪 View experiment at: http://127.0.0.1:5000/#/experiments/379656095678811037\n"
     ]
    },
    {
     "name": "stderr",
     "output_type": "stream",
     "text": [
      "llama_init_from_model: n_ctx_per_seq (512) < n_ctx_train (131072) -- the full capacity of the model will not be utilized\n"
     ]
    },
    {
     "name": "stdout",
     "output_type": "stream",
     "text": [
      "Model hugging-quants/Llama-3.2-3B-Instruct-Q8_0-GGUF erfolgreich geladen mit n_ctx=512\n",
      "estimated_max_tokens: 610; n_ctx: 732\n"
     ]
    },
    {
     "name": "stderr",
     "output_type": "stream",
     "text": [
      "llama_init_from_model: n_ctx_per_seq (736) < n_ctx_train (131072) -- the full capacity of the model will not be utilized\n"
     ]
    },
    {
     "name": "stdout",
     "output_type": "stream",
     "text": [
      "Model hugging-quants/Llama-3.2-3B-Instruct-Q8_0-GGUF erfolgreich geladen mit n_ctx=732\n",
      "Prompt finished in (seconds):  13.9\n",
      "Metric Calculation in (seconds):  29.29\n",
      "🏃 View run llama32/news_spec/zero_shot_style_to-english_english_1 at: http://127.0.0.1:5000/#/experiments/194158564450517751/runs/01dc60a9d85e4d9993efa5575323caf6\n",
      "🧪 View experiment at: http://127.0.0.1:5000/#/experiments/194158564450517751\n",
      "Prompt finished in (seconds):  3.38\n",
      "Metric Calculation in (seconds):  23.24\n",
      "🏃 View run llama32/news_spec/zero_shot_style_to-english_german_1 at: http://127.0.0.1:5000/#/experiments/194158564450517751/runs/33c30cfde9f945df8d33db560c60193a\n",
      "🧪 View experiment at: http://127.0.0.1:5000/#/experiments/194158564450517751\n",
      "Prompt finished in (seconds):  21.21\n",
      "Metric Calculation in (seconds):  30.61\n",
      "🏃 View run llama32/news_spec/zero_shot_style_to-german_english_1 at: http://127.0.0.1:5000/#/experiments/194158564450517751/runs/fcda53b291aa4e51820aee85c430cdcd\n",
      "🧪 View experiment at: http://127.0.0.1:5000/#/experiments/194158564450517751\n",
      "Prompt finished in (seconds):  21.16\n",
      "Metric Calculation in (seconds):  30.71\n",
      "🏃 View run llama32/news_spec/zero_shot_style_to-german_german_1 at: http://127.0.0.1:5000/#/experiments/194158564450517751/runs/5da697cc56f54129aad790dd9283f0d4\n",
      "🧪 View experiment at: http://127.0.0.1:5000/#/experiments/194158564450517751\n"
     ]
    },
    {
     "name": "stderr",
     "output_type": "stream",
     "text": [
      "llama_init_from_model: n_ctx_per_seq (512) < n_ctx_train (131072) -- the full capacity of the model will not be utilized\n"
     ]
    },
    {
     "name": "stdout",
     "output_type": "stream",
     "text": [
      "Model hugging-quants/Llama-3.2-3B-Instruct-Q8_0-GGUF erfolgreich geladen mit n_ctx=512\n",
      "estimated_max_tokens: 626; n_ctx: 751\n"
     ]
    },
    {
     "name": "stderr",
     "output_type": "stream",
     "text": [
      "llama_init_from_model: n_ctx_per_seq (768) < n_ctx_train (131072) -- the full capacity of the model will not be utilized\n"
     ]
    },
    {
     "name": "stdout",
     "output_type": "stream",
     "text": [
      "Model hugging-quants/Llama-3.2-3B-Instruct-Q8_0-GGUF erfolgreich geladen mit n_ctx=751\n",
      "Prompt finished in (seconds):  17.74\n",
      "Metric Calculation in (seconds):  32.45\n",
      "🏃 View run llama32/pop_science/zero_shot_style_to-english_english_1 at: http://127.0.0.1:5000/#/experiments/553009959054917340/runs/4494700ee99441ae8e1ae84d5c74e8a2\n",
      "🧪 View experiment at: http://127.0.0.1:5000/#/experiments/553009959054917340\n",
      "Prompt finished in (seconds):  3.74\n",
      "Metric Calculation in (seconds):  23.65\n",
      "🏃 View run llama32/pop_science/zero_shot_style_to-english_german_1 at: http://127.0.0.1:5000/#/experiments/553009959054917340/runs/e8ff4237a62a457fb37e28f3ca7cb74f\n",
      "🧪 View experiment at: http://127.0.0.1:5000/#/experiments/553009959054917340\n",
      "Prompt finished in (seconds):  23.43\n",
      "Metric Calculation in (seconds):  31.03\n",
      "🏃 View run llama32/pop_science/zero_shot_style_to-german_english_1 at: http://127.0.0.1:5000/#/experiments/553009959054917340/runs/f1218c6a8ffa45ddb9aa354e18bcc60c\n",
      "🧪 View experiment at: http://127.0.0.1:5000/#/experiments/553009959054917340\n",
      "Prompt finished in (seconds):  57.07\n",
      "Metric Calculation in (seconds):  48.32\n",
      "🏃 View run llama32/pop_science/zero_shot_style_to-german_german_1 at: http://127.0.0.1:5000/#/experiments/553009959054917340/runs/2cc0783eab0e4c5797f2b5be427cf5c4\n",
      "🧪 View experiment at: http://127.0.0.1:5000/#/experiments/553009959054917340\n"
     ]
    },
    {
     "name": "stderr",
     "output_type": "stream",
     "text": [
      "llama_init_from_model: n_ctx_per_seq (512) < n_ctx_train (131072) -- the full capacity of the model will not be utilized\n"
     ]
    },
    {
     "name": "stdout",
     "output_type": "stream",
     "text": [
      "Model hugging-quants/Llama-3.2-3B-Instruct-Q8_0-GGUF erfolgreich geladen mit n_ctx=512\n",
      "estimated_max_tokens: 1164; n_ctx: 1396\n"
     ]
    },
    {
     "name": "stderr",
     "output_type": "stream",
     "text": [
      "llama_init_from_model: n_ctx_per_seq (1408) < n_ctx_train (131072) -- the full capacity of the model will not be utilized\n"
     ]
    },
    {
     "name": "stdout",
     "output_type": "stream",
     "text": [
      "Model hugging-quants/Llama-3.2-3B-Instruct-Q8_0-GGUF erfolgreich geladen mit n_ctx=1396\n",
      "Prompt finished in (seconds):  114.25\n",
      "Metric Calculation in (seconds):  150.0\n",
      "🏃 View run llama32/science/zero_shot_style_to-english_english_1 at: http://127.0.0.1:5000/#/experiments/248431796146488211/runs/140a2e48eb1143b49114c7bb70056cb7\n",
      "🧪 View experiment at: http://127.0.0.1:5000/#/experiments/248431796146488211\n",
      "Prompt finished in (seconds):  109.12\n",
      "Metric Calculation in (seconds):  122.62\n",
      "🏃 View run llama32/science/zero_shot_style_to-english_german_1 at: http://127.0.0.1:5000/#/experiments/248431796146488211/runs/76644faa6aaf4cfe950a64e807832e2c\n",
      "🧪 View experiment at: http://127.0.0.1:5000/#/experiments/248431796146488211\n",
      "Prompt finished in (seconds):  41.68\n",
      "Metric Calculation in (seconds):  56.97\n",
      "🏃 View run llama32/science/zero_shot_style_to-german_english_1 at: http://127.0.0.1:5000/#/experiments/248431796146488211/runs/45ba785f49f74748ab60e194f16ff747\n",
      "🧪 View experiment at: http://127.0.0.1:5000/#/experiments/248431796146488211\n",
      "Prompt finished in (seconds):  106.08\n",
      "Metric Calculation in (seconds):  126.97\n",
      "🏃 View run llama32/science/zero_shot_style_to-german_german_1 at: http://127.0.0.1:5000/#/experiments/248431796146488211/runs/f798fbed0cd2498ca95267963dbbf241\n",
      "🧪 View experiment at: http://127.0.0.1:5000/#/experiments/248431796146488211\n"
     ]
    },
    {
     "name": "stderr",
     "output_type": "stream",
     "text": [
      "llama_init_from_model: n_ctx_per_seq (512) < n_ctx_train (131072) -- the full capacity of the model will not be utilized\n"
     ]
    },
    {
     "name": "stdout",
     "output_type": "stream",
     "text": [
      "Model lmstudio-community/Meta-Llama-3.1-8B-Instruct-GGUF erfolgreich geladen mit n_ctx=512\n",
      "estimated_max_tokens: 596; n_ctx: 715\n"
     ]
    },
    {
     "name": "stderr",
     "output_type": "stream",
     "text": [
      "llama_init_from_model: n_ctx_per_seq (736) < n_ctx_train (131072) -- the full capacity of the model will not be utilized\n"
     ]
    },
    {
     "name": "stdout",
     "output_type": "stream",
     "text": [
      "Model lmstudio-community/Meta-Llama-3.1-8B-Instruct-GGUF erfolgreich geladen mit n_ctx=715\n",
      "Prompt finished in (seconds):  84.41\n",
      "Metric Calculation in (seconds):  59.38\n",
      "🏃 View run llama31/easy/zero_shot_style_to-english_english_1 at: http://127.0.0.1:5000/#/experiments/496790586212187793/runs/2edf7db1d86e44fb8fc44f950964097e\n",
      "🧪 View experiment at: http://127.0.0.1:5000/#/experiments/496790586212187793\n",
      "Prompt finished in (seconds):  91.7\n",
      "Metric Calculation in (seconds):  51.36\n",
      "🏃 View run llama31/easy/zero_shot_style_to-english_german_1 at: http://127.0.0.1:5000/#/experiments/496790586212187793/runs/4280014ec7b14281970ff8c5a559e4c0\n",
      "🧪 View experiment at: http://127.0.0.1:5000/#/experiments/496790586212187793\n",
      "Prompt finished in (seconds):  81.5\n",
      "Metric Calculation in (seconds):  46.45\n",
      "🏃 View run llama31/easy/zero_shot_style_to-german_english_1 at: http://127.0.0.1:5000/#/experiments/496790586212187793/runs/05dabcb90e9c430cbf29a43c4eb10411\n",
      "🧪 View experiment at: http://127.0.0.1:5000/#/experiments/496790586212187793\n",
      "Prompt finished in (seconds):  89.07\n",
      "Metric Calculation in (seconds):  49.54\n",
      "🏃 View run llama31/easy/zero_shot_style_to-german_german_1 at: http://127.0.0.1:5000/#/experiments/496790586212187793/runs/e730c2bd25044507a404bb12d63e9ad0\n",
      "🧪 View experiment at: http://127.0.0.1:5000/#/experiments/496790586212187793\n"
     ]
    },
    {
     "name": "stderr",
     "output_type": "stream",
     "text": [
      "llama_init_from_model: n_ctx_per_seq (512) < n_ctx_train (131072) -- the full capacity of the model will not be utilized\n"
     ]
    },
    {
     "name": "stdout",
     "output_type": "stream",
     "text": [
      "Model lmstudio-community/Meta-Llama-3.1-8B-Instruct-GGUF erfolgreich geladen mit n_ctx=512\n",
      "estimated_max_tokens: 408; n_ctx: 489\n"
     ]
    },
    {
     "name": "stderr",
     "output_type": "stream",
     "text": [
      "llama_init_from_model: n_ctx_per_seq (512) < n_ctx_train (131072) -- the full capacity of the model will not be utilized\n"
     ]
    },
    {
     "name": "stdout",
     "output_type": "stream",
     "text": [
      "Model lmstudio-community/Meta-Llama-3.1-8B-Instruct-GGUF erfolgreich geladen mit n_ctx=489\n",
      "Prompt finished in (seconds):  55.87\n",
      "Metric Calculation in (seconds):  33.39\n",
      "🏃 View run llama31/news_gen/zero_shot_style_to-english_english_1 at: http://127.0.0.1:5000/#/experiments/378317835055917962/runs/ccccd2d9a57f4574ba47a07eb4cfac6e\n",
      "🧪 View experiment at: http://127.0.0.1:5000/#/experiments/378317835055917962\n",
      "Prompt finished in (seconds):  62.37\n",
      "Metric Calculation in (seconds):  32.58\n",
      "🏃 View run llama31/news_gen/zero_shot_style_to-english_german_1 at: http://127.0.0.1:5000/#/experiments/378317835055917962/runs/f0390d6185254ca388bdcd84cfa26cb7\n",
      "🧪 View experiment at: http://127.0.0.1:5000/#/experiments/378317835055917962\n",
      "Prompt finished in (seconds):  53.42\n",
      "Metric Calculation in (seconds):  35.1\n",
      "🏃 View run llama31/news_gen/zero_shot_style_to-german_english_1 at: http://127.0.0.1:5000/#/experiments/378317835055917962/runs/66c96a59bba64779b2154257329820e4\n",
      "🧪 View experiment at: http://127.0.0.1:5000/#/experiments/378317835055917962\n",
      "Prompt finished in (seconds):  60.4\n",
      "Metric Calculation in (seconds):  30.79\n",
      "🏃 View run llama31/news_gen/zero_shot_style_to-german_german_1 at: http://127.0.0.1:5000/#/experiments/378317835055917962/runs/5a8281411c7641129d2f54b35a1eb39b\n",
      "🧪 View experiment at: http://127.0.0.1:5000/#/experiments/378317835055917962\n"
     ]
    },
    {
     "name": "stderr",
     "output_type": "stream",
     "text": [
      "llama_init_from_model: n_ctx_per_seq (512) < n_ctx_train (131072) -- the full capacity of the model will not be utilized\n"
     ]
    },
    {
     "name": "stdout",
     "output_type": "stream",
     "text": [
      "Model lmstudio-community/Meta-Llama-3.1-8B-Instruct-GGUF erfolgreich geladen mit n_ctx=512\n",
      "estimated_max_tokens: 610; n_ctx: 732\n"
     ]
    },
    {
     "name": "stderr",
     "output_type": "stream",
     "text": [
      "llama_init_from_model: n_ctx_per_seq (736) < n_ctx_train (131072) -- the full capacity of the model will not be utilized\n"
     ]
    },
    {
     "name": "stdout",
     "output_type": "stream",
     "text": [
      "Model lmstudio-community/Meta-Llama-3.1-8B-Instruct-GGUF erfolgreich geladen mit n_ctx=732\n",
      "Prompt finished in (seconds):  86.81\n",
      "Metric Calculation in (seconds):  50.86\n",
      "🏃 View run llama31/news_spec/zero_shot_style_to-english_english_1 at: http://127.0.0.1:5000/#/experiments/278262578605400461/runs/b173184e911d4f078dfa2e5299dad028\n",
      "🧪 View experiment at: http://127.0.0.1:5000/#/experiments/278262578605400461\n",
      "Prompt finished in (seconds):  93.76\n",
      "Metric Calculation in (seconds):  57.5\n",
      "🏃 View run llama31/news_spec/zero_shot_style_to-english_german_1 at: http://127.0.0.1:5000/#/experiments/278262578605400461/runs/ada534674e2b42b5a5c20a2feecef0cd\n",
      "🧪 View experiment at: http://127.0.0.1:5000/#/experiments/278262578605400461\n",
      "Prompt finished in (seconds):  83.69\n",
      "Metric Calculation in (seconds):  47.38\n",
      "🏃 View run llama31/news_spec/zero_shot_style_to-german_english_1 at: http://127.0.0.1:5000/#/experiments/278262578605400461/runs/67fca6f091a0493e981811f34da63839\n",
      "🧪 View experiment at: http://127.0.0.1:5000/#/experiments/278262578605400461\n",
      "Prompt finished in (seconds):  91.01\n",
      "Metric Calculation in (seconds):  46.7\n",
      "🏃 View run llama31/news_spec/zero_shot_style_to-german_german_1 at: http://127.0.0.1:5000/#/experiments/278262578605400461/runs/3ff4c8cd90a943c3aad01da07faac29c\n",
      "🧪 View experiment at: http://127.0.0.1:5000/#/experiments/278262578605400461\n"
     ]
    },
    {
     "name": "stderr",
     "output_type": "stream",
     "text": [
      "llama_init_from_model: n_ctx_per_seq (512) < n_ctx_train (131072) -- the full capacity of the model will not be utilized\n"
     ]
    },
    {
     "name": "stdout",
     "output_type": "stream",
     "text": [
      "Model lmstudio-community/Meta-Llama-3.1-8B-Instruct-GGUF erfolgreich geladen mit n_ctx=512\n",
      "estimated_max_tokens: 626; n_ctx: 751\n"
     ]
    },
    {
     "name": "stderr",
     "output_type": "stream",
     "text": [
      "llama_init_from_model: n_ctx_per_seq (768) < n_ctx_train (131072) -- the full capacity of the model will not be utilized\n"
     ]
    },
    {
     "name": "stdout",
     "output_type": "stream",
     "text": [
      "Model lmstudio-community/Meta-Llama-3.1-8B-Instruct-GGUF erfolgreich geladen mit n_ctx=751\n",
      "Prompt finished in (seconds):  88.53\n",
      "Metric Calculation in (seconds):  62.14\n",
      "🏃 View run llama31/pop_science/zero_shot_style_to-english_english_1 at: http://127.0.0.1:5000/#/experiments/358136329887025901/runs/6bc0cec13faa41789b9bf49039e7c62a\n",
      "🧪 View experiment at: http://127.0.0.1:5000/#/experiments/358136329887025901\n",
      "Prompt finished in (seconds):  95.96\n",
      "Metric Calculation in (seconds):  55.99\n",
      "🏃 View run llama31/pop_science/zero_shot_style_to-english_german_1 at: http://127.0.0.1:5000/#/experiments/358136329887025901/runs/317effe294644aeeb400b173e48b30a6\n",
      "🧪 View experiment at: http://127.0.0.1:5000/#/experiments/358136329887025901\n",
      "Prompt finished in (seconds):  85.49\n",
      "Metric Calculation in (seconds):  47.3\n",
      "🏃 View run llama31/pop_science/zero_shot_style_to-german_english_1 at: http://127.0.0.1:5000/#/experiments/358136329887025901/runs/61cf9fa9f2ef40eb84eeced6809585cd\n",
      "🧪 View experiment at: http://127.0.0.1:5000/#/experiments/358136329887025901\n",
      "Prompt finished in (seconds):  92.41\n",
      "Metric Calculation in (seconds):  48.42\n",
      "🏃 View run llama31/pop_science/zero_shot_style_to-german_german_1 at: http://127.0.0.1:5000/#/experiments/358136329887025901/runs/d5b5786f6ef546a1858a9af8a21b0ccd\n",
      "🧪 View experiment at: http://127.0.0.1:5000/#/experiments/358136329887025901\n"
     ]
    },
    {
     "name": "stderr",
     "output_type": "stream",
     "text": [
      "llama_init_from_model: n_ctx_per_seq (512) < n_ctx_train (131072) -- the full capacity of the model will not be utilized\n"
     ]
    },
    {
     "name": "stdout",
     "output_type": "stream",
     "text": [
      "Model lmstudio-community/Meta-Llama-3.1-8B-Instruct-GGUF erfolgreich geladen mit n_ctx=512\n",
      "estimated_max_tokens: 1164; n_ctx: 1396\n"
     ]
    },
    {
     "name": "stderr",
     "output_type": "stream",
     "text": [
      "llama_init_from_model: n_ctx_per_seq (1408) < n_ctx_train (131072) -- the full capacity of the model will not be utilized\n"
     ]
    },
    {
     "name": "stdout",
     "output_type": "stream",
     "text": [
      "Model lmstudio-community/Meta-Llama-3.1-8B-Instruct-GGUF erfolgreich geladen mit n_ctx=1396\n",
      "Prompt finished in (seconds):  175.31\n",
      "Metric Calculation in (seconds):  54.11\n",
      "🏃 View run llama31/science/zero_shot_style_to-english_english_1 at: http://127.0.0.1:5000/#/experiments/958464439758456234/runs/7f1ce09c80d941bc9018e6ee070a4c8a\n",
      "🧪 View experiment at: http://127.0.0.1:5000/#/experiments/958464439758456234\n",
      "Prompt finished in (seconds):  182.64\n",
      "Metric Calculation in (seconds):  144.84\n",
      "🏃 View run llama31/science/zero_shot_style_to-english_german_1 at: http://127.0.0.1:5000/#/experiments/958464439758456234/runs/7b8f356d2d6d48b4ac49e70bffbc5fbf\n",
      "🧪 View experiment at: http://127.0.0.1:5000/#/experiments/958464439758456234\n",
      "Prompt finished in (seconds):  166.72\n",
      "Metric Calculation in (seconds):  126.74\n",
      "🏃 View run llama31/science/zero_shot_style_to-german_english_1 at: http://127.0.0.1:5000/#/experiments/958464439758456234/runs/1987b9432aec458d8ddeca08695e72cf\n",
      "🧪 View experiment at: http://127.0.0.1:5000/#/experiments/958464439758456234\n",
      "Prompt finished in (seconds):  172.17\n",
      "Metric Calculation in (seconds):  140.51\n",
      "🏃 View run llama31/science/zero_shot_style_to-german_german_1 at: http://127.0.0.1:5000/#/experiments/958464439758456234/runs/deb3f9c8fa134a0b90a3b7897e48952d\n",
      "🧪 View experiment at: http://127.0.0.1:5000/#/experiments/958464439758456234\n",
      "Fertig mit der Pipeline. Speichere Ergebnisse...\n",
      "Pipeline abgeschlossen. Ergebnisse gespeichert.\n"
     ]
    }
   ],
   "execution_count": 52
  }
 ],
 "metadata": {
  "kernelspec": {
   "display_name": "Python 3",
   "language": "python",
   "name": "python3"
  },
  "language_info": {
   "codemirror_mode": {
    "name": "ipython",
    "version": 2
   },
   "file_extension": ".py",
   "mimetype": "text/x-python",
   "name": "python",
   "nbconvert_exporter": "python",
   "pygments_lexer": "ipython2",
   "version": "2.7.6"
  }
 },
 "nbformat": 4,
 "nbformat_minor": 5
}
