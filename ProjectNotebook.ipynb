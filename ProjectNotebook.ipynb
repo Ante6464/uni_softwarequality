{
 "cells": [
  {
   "metadata": {},
   "cell_type": "markdown",
   "source": "# Jupyter Notebook for Project \"Comparison of LLM Prompting Techniques\"",
   "id": "872549f55a437d8a"
  },
  {
   "metadata": {
    "ExecuteTime": {
     "end_time": "2025-02-02T16:43:32.170782Z",
     "start_time": "2025-02-02T16:43:29.243582Z"
    }
   },
   "cell_type": "code",
   "source": [
    "import pandas as pd\n",
    "import mlflow\n",
    "import mlflow.pyfunc\n",
    "import sacrebleu\n",
    "from llama_cpp import Llama\n",
    "import time\n"
   ],
   "id": "d7cb373e19f3872c",
   "outputs": [],
   "execution_count": 1
  },
  {
   "metadata": {},
   "cell_type": "markdown",
   "source": [
    "## 1 Data Loading\n",
    "In the first step we import the given translations as pandas Dataframes and print a quick overview of the dataframe."
   ],
   "id": "84eebb77e3f61e83"
  },
  {
   "metadata": {
    "ExecuteTime": {
     "end_time": "2025-02-02T16:43:32.190386Z",
     "start_time": "2025-02-02T16:43:32.177785Z"
    }
   },
   "cell_type": "code",
   "source": [
    "data = pd.read_pickle('machine_translation.pkl')\n",
    "data"
   ],
   "id": "31214ca44be7863b",
   "outputs": [
    {
     "data": {
      "text/plain": [
       "    complexity                                        text_german  \\\n",
       "0         easy  Felix hat es satt: Ständig ist Mama unterwegs....   \n",
       "1     news_gen  Die rund 1.400 eingesetzten Beamten haben demn...   \n",
       "2    news_spec  Der Staatschef hat zugleich aber das Recht, vo...   \n",
       "3  pop_science  Dass der Klimawandel die Hitzewellen in Südasi...   \n",
       "4      science  Der DSA-110, der sich am Owens Valley Radio Ob...   \n",
       "\n",
       "                                        text_english  \n",
       "0  Felix is fed up: Mom is always on the go. But ...  \n",
       "1  The approximately 1,400 deployed officers have...  \n",
       "2  The head of state also has the right to appoin...  \n",
       "3  There is no question that climate change is in...  \n",
       "4  The DSA-110, situated at the Owens Valley Radi...  "
      ],
      "text/html": [
       "<div>\n",
       "<style scoped>\n",
       "    .dataframe tbody tr th:only-of-type {\n",
       "        vertical-align: middle;\n",
       "    }\n",
       "\n",
       "    .dataframe tbody tr th {\n",
       "        vertical-align: top;\n",
       "    }\n",
       "\n",
       "    .dataframe thead th {\n",
       "        text-align: right;\n",
       "    }\n",
       "</style>\n",
       "<table border=\"1\" class=\"dataframe\">\n",
       "  <thead>\n",
       "    <tr style=\"text-align: right;\">\n",
       "      <th></th>\n",
       "      <th>complexity</th>\n",
       "      <th>text_german</th>\n",
       "      <th>text_english</th>\n",
       "    </tr>\n",
       "  </thead>\n",
       "  <tbody>\n",
       "    <tr>\n",
       "      <th>0</th>\n",
       "      <td>easy</td>\n",
       "      <td>Felix hat es satt: Ständig ist Mama unterwegs....</td>\n",
       "      <td>Felix is fed up: Mom is always on the go. But ...</td>\n",
       "    </tr>\n",
       "    <tr>\n",
       "      <th>1</th>\n",
       "      <td>news_gen</td>\n",
       "      <td>Die rund 1.400 eingesetzten Beamten haben demn...</td>\n",
       "      <td>The approximately 1,400 deployed officers have...</td>\n",
       "    </tr>\n",
       "    <tr>\n",
       "      <th>2</th>\n",
       "      <td>news_spec</td>\n",
       "      <td>Der Staatschef hat zugleich aber das Recht, vo...</td>\n",
       "      <td>The head of state also has the right to appoin...</td>\n",
       "    </tr>\n",
       "    <tr>\n",
       "      <th>3</th>\n",
       "      <td>pop_science</td>\n",
       "      <td>Dass der Klimawandel die Hitzewellen in Südasi...</td>\n",
       "      <td>There is no question that climate change is in...</td>\n",
       "    </tr>\n",
       "    <tr>\n",
       "      <th>4</th>\n",
       "      <td>science</td>\n",
       "      <td>Der DSA-110, der sich am Owens Valley Radio Ob...</td>\n",
       "      <td>The DSA-110, situated at the Owens Valley Radi...</td>\n",
       "    </tr>\n",
       "  </tbody>\n",
       "</table>\n",
       "</div>"
      ]
     },
     "execution_count": 2,
     "metadata": {},
     "output_type": "execute_result"
    }
   ],
   "execution_count": 2
  },
  {
   "metadata": {
    "ExecuteTime": {
     "end_time": "2025-02-02T16:43:32.454124Z",
     "start_time": "2025-02-02T16:43:32.444990Z"
    }
   },
   "cell_type": "code",
   "source": [
    "data_info = pd.DataFrame()\n",
    "data_info['complexity'] = data['complexity']\n",
    "data_info['text_german_length'] = data['text_german'].str.len()\n",
    "data_info['text_english_length'] = data['text_english'].str.len()\n",
    "data_info"
   ],
   "id": "f378daff85fa7954",
   "outputs": [
    {
     "data": {
      "text/plain": [
       "    complexity  text_german_length  text_english_length\n",
       "0         easy                 485                  415\n",
       "1     news_gen                 296                  280\n",
       "2    news_spec                 518                  484\n",
       "3  pop_science                 542                  521\n",
       "4      science                1003                  827"
      ],
      "text/html": [
       "<div>\n",
       "<style scoped>\n",
       "    .dataframe tbody tr th:only-of-type {\n",
       "        vertical-align: middle;\n",
       "    }\n",
       "\n",
       "    .dataframe tbody tr th {\n",
       "        vertical-align: top;\n",
       "    }\n",
       "\n",
       "    .dataframe thead th {\n",
       "        text-align: right;\n",
       "    }\n",
       "</style>\n",
       "<table border=\"1\" class=\"dataframe\">\n",
       "  <thead>\n",
       "    <tr style=\"text-align: right;\">\n",
       "      <th></th>\n",
       "      <th>complexity</th>\n",
       "      <th>text_german_length</th>\n",
       "      <th>text_english_length</th>\n",
       "    </tr>\n",
       "  </thead>\n",
       "  <tbody>\n",
       "    <tr>\n",
       "      <th>0</th>\n",
       "      <td>easy</td>\n",
       "      <td>485</td>\n",
       "      <td>415</td>\n",
       "    </tr>\n",
       "    <tr>\n",
       "      <th>1</th>\n",
       "      <td>news_gen</td>\n",
       "      <td>296</td>\n",
       "      <td>280</td>\n",
       "    </tr>\n",
       "    <tr>\n",
       "      <th>2</th>\n",
       "      <td>news_spec</td>\n",
       "      <td>518</td>\n",
       "      <td>484</td>\n",
       "    </tr>\n",
       "    <tr>\n",
       "      <th>3</th>\n",
       "      <td>pop_science</td>\n",
       "      <td>542</td>\n",
       "      <td>521</td>\n",
       "    </tr>\n",
       "    <tr>\n",
       "      <th>4</th>\n",
       "      <td>science</td>\n",
       "      <td>1003</td>\n",
       "      <td>827</td>\n",
       "    </tr>\n",
       "  </tbody>\n",
       "</table>\n",
       "</div>"
      ]
     },
     "execution_count": 3,
     "metadata": {},
     "output_type": "execute_result"
    }
   ],
   "execution_count": 3
  },
  {
   "metadata": {
    "ExecuteTime": {
     "end_time": "2025-02-02T16:43:32.511573Z",
     "start_time": "2025-02-02T16:43:32.507738Z"
    }
   },
   "cell_type": "code",
   "source": [
    "from enum import Enum\n",
    "\n",
    "\n",
    "class Language(Enum):\n",
    "    ENGLISH = 'English'\n",
    "    GERMAN = 'German'\n",
    "\n",
    "\n",
    "class Complexity(Enum):\n",
    "    EASY = 'easy'\n",
    "    NEWS_GEN = 'news_gen'\n",
    "    NEWS_SPEC = 'news_spec'\n",
    "    POP_SCIENCE = 'pop_science'\n",
    "    SCIENCE = 'science'\n",
    "\n",
    "\n",
    "ALL_COMPLEXITIES = list(Complexity)"
   ],
   "id": "323c0bdb3ca88317",
   "outputs": [],
   "execution_count": 4
  },
  {
   "metadata": {},
   "cell_type": "markdown",
   "source": [
    "***\n",
    "## 2 Model Loading\n",
    "In the second step we import the AI-Models which are given in the specified task. For doing so we use the `llama-cpp-python` library (further documentation can be found [here](https://github.com/abetlen/llama-cpp-python)) and import the models directly from [huggingface](https://huggingface.co/).\n",
    "\n",
    "Quick overview and installation guide of llama.cpp:\n",
    "- https://www.datacamp.com/tutorial/llama-cpp-tutorial\n",
    "- https://christophergs.com/blog/running-open-source-llms-in-python"
   ],
   "id": "da93308612340266"
  },
  {
   "metadata": {
    "ExecuteTime": {
     "end_time": "2025-02-02T16:43:32.600933Z",
     "start_time": "2025-02-02T16:43:32.597596Z"
    }
   },
   "cell_type": "code",
   "source": [
    "# Configuration of the models\n",
    "MODELS = {\n",
    "    'gemma': {\n",
    "        'repo_id': 'lmstudio-ai/gemma-2b-it-GGUF',\n",
    "        'filename': 'gemma-2b-it-q8_0.gguf',\n",
    "    },\n",
    "    #'llama32': {\n",
    "    #    'repo_id': 'hugging-quants/Llama-3.2-3B-Instruct-Q8_0-GGUF',\n",
    "    #    'filename': 'llama-3.2-3b-instruct-q8_0.gguf',\n",
    "    #},\n",
    "    #'llama31': {\n",
    "    #    'repo_id': 'lmstudio-community/Meta-Llama-3.1-8B-Instruct-GGUF',\n",
    "    #    'filename': 'Meta-Llama-3.1-8B-Instruct-Q5_K_M.gguf',\n",
    "    #},\n",
    "    #'aya23': {\n",
    "    #    'repo_id': 'bartowski/aya-23-35B-GGUF',\n",
    "    #    'filename': 'aya-23-35B-Q5_K_M.gguf',\n",
    "    #},\n",
    "}"
   ],
   "id": "d41d93f0a2545265",
   "outputs": [],
   "execution_count": 5
  },
  {
   "metadata": {
    "ExecuteTime": {
     "end_time": "2025-02-02T16:43:32.636265Z",
     "start_time": "2025-02-02T16:43:32.632127Z"
    }
   },
   "cell_type": "code",
   "source": [
    "def create_llama_model(repo_id, filename, n_ctx=None):\n",
    "    try:\n",
    "        if n_ctx is None:\n",
    "            # default of llama_cpp\n",
    "            n_ctx = 512\n",
    "        if repo_id is not None and filename is not None:\n",
    "            model = Llama.from_pretrained(\n",
    "                repo_id=repo_id,\n",
    "                filename=filename,\n",
    "                n_ctx=n_ctx,\n",
    "                # n_gpu_layers=n_gpu_layers,\n",
    "                n_threads=8,\n",
    "                verbose=False,\n",
    "            )\n",
    "            print(f\"Model {repo_id} erfolgreich geladen mit n_ctx={n_ctx}\")\n",
    "            return model\n",
    "        else:\n",
    "            return None\n",
    "    except Exception as e:\n",
    "        print(f\"Fehler beim Laden von {filename}: {e}\")\n",
    "        return None"
   ],
   "id": "3c03d17b6bc17b83",
   "outputs": [],
   "execution_count": 6
  },
  {
   "metadata": {},
   "cell_type": "markdown",
   "source": "***",
   "id": "464c36e55f18159"
  },
  {
   "metadata": {},
   "cell_type": "markdown",
   "source": [
    "## 3 Pipeline\n",
    "\n",
    "### 3.1 Model Interaction"
   ],
   "id": "8f91fc96f9d5591e"
  },
  {
   "metadata": {
    "ExecuteTime": {
     "end_time": "2025-02-02T16:43:32.698537Z",
     "start_time": "2025-02-02T16:43:32.694775Z"
    }
   },
   "cell_type": "code",
   "source": [
    "def translate(model, prompt, reference_translation):\n",
    "    # we estimate the needed max_tokens based on the tokenized prompt and reference_translation\n",
    "    token_length_ref = len(model.tokenize(reference_translation.encode('utf-8')))\n",
    "    token_length_prompt = len(model.tokenize(prompt.encode('utf-8')))\n",
    "    # the model should not need more tokens than this\n",
    "    estimated_max_tokens = (token_length_prompt + token_length_ref) * 1.5\n",
    "\n",
    "    response = model(prompt, max_tokens=estimated_max_tokens, echo=False)\n",
    "    # print(response['choices'][0]['text'])\n",
    "    return response['choices'][0]['text']"
   ],
   "id": "6420297102cf617f",
   "outputs": [],
   "execution_count": 7
  },
  {
   "metadata": {},
   "cell_type": "markdown",
   "source": [
    "### 3.2 Metrics Calculation\n",
    "[GitHub Repo to MetricX](https://github.com/google-research/metricx)"
   ],
   "id": "524f90bdcc56ab38"
  },
  {
   "metadata": {
    "ExecuteTime": {
     "end_time": "2025-02-02T16:43:32.754924Z",
     "start_time": "2025-02-02T16:43:32.747955Z"
    }
   },
   "cell_type": "code",
   "source": [
    "import subprocess\n",
    "import json\n",
    "import os\n",
    "\n",
    "\n",
    "def calculate_metricx_score(source, reference, hypothesis):\n",
    "    '''\n",
    "    Calculates the MetricX-score based on source, reference, and hypothesis using metricx24.\n",
    "    We are currently using the metricx-24-hybrid-large-v2p6-bfloat16 model but there are also other options\n",
    "        as can be seen here: https://github.com/google-research/metricx\n",
    "\n",
    "    Args:\n",
    "        source: The source text (String).\n",
    "        reference: The reference translation (String).\n",
    "        hypothesis: The hypothesis translation (String).\n",
    "\n",
    "    Returns:\n",
    "        The calculated score as a float or None in case of an error.\n",
    "    '''\n",
    "\n",
    "    data = [{'id': '1', 'source': source, 'reference': reference, 'hypothesis': hypothesis}]\n",
    "\n",
    "    # Create temporary JSONL files\n",
    "    input_file = './temp_input.jsonl'\n",
    "    output_file = './temp_output.jsonl'\n",
    "    model = 'google/metricx-24-hybrid-large-v2p6-bfloat16'\n",
    "\n",
    "    try:\n",
    "        with open(input_file, 'w', encoding='utf-8') as f:\n",
    "            for entry in data:\n",
    "                json.dump(entry, f)\n",
    "                f.write('\\n')\n",
    "\n",
    "        command = [\n",
    "            'python', '-m', 'metricx24.predict',\n",
    "            '--tokenizer', 'google/mt5-xl',\n",
    "            '--model_name_or_path', model,\n",
    "            '--max_input_length', '1536',\n",
    "            '--batch_size', '1',\n",
    "            '--input_file', input_file,\n",
    "            '--output_file', output_file\n",
    "        ]\n",
    "\n",
    "        process = subprocess.Popen(\n",
    "            command,\n",
    "            stdout=subprocess.PIPE,\n",
    "            stderr=subprocess.PIPE,\n",
    "            text=True,\n",
    "            bufsize=1,\n",
    "            universal_newlines=True\n",
    "        )\n",
    "\n",
    "        # Capture output and errors (optional, can be useful for debugging)\n",
    "        #for line in process.stdout:\n",
    "        #    print(line, end='')\n",
    "        #for line in process.stderr:\n",
    "        #    print(f'ERROR: {line}', end='')\n",
    "\n",
    "        process.wait()\n",
    "\n",
    "        if process.returncode != 0:\n",
    "            print(f'Error executing metricx24. Return code: {process.returncode}')\n",
    "            return None\n",
    "\n",
    "        # Read score from the output file\n",
    "        with open(output_file, 'r', encoding='utf-8') as f:\n",
    "            for line in f:\n",
    "                try:\n",
    "                    output_data = json.loads(line)\n",
    "                    score = float(output_data.get('prediction'))  # Ensure that 'score' exists\n",
    "                    return score\n",
    "                except (json.JSONDecodeError, ValueError, AttributeError):\n",
    "                    print('Error parsing the output file.')\n",
    "                    return None\n",
    "\n",
    "        return None  # If no valid line was found in the output file\n",
    "\n",
    "    finally:\n",
    "        # Remove temporary files\n",
    "        try:\n",
    "            os.remove(input_file)\n",
    "            os.remove(output_file)\n",
    "        except FileNotFoundError:\n",
    "            pass  #If the files don't exist for some reason, the error is caught\n",
    "\n",
    "\n"
   ],
   "id": "969f3b0640a2fdf0",
   "outputs": [],
   "execution_count": 8
  },
  {
   "metadata": {
    "ExecuteTime": {
     "end_time": "2025-02-02T16:43:33.768275Z",
     "start_time": "2025-02-02T16:43:32.781051Z"
    }
   },
   "cell_type": "code",
   "source": [
    "from rouge_score import rouge_scorer\n",
    "\n",
    "\n",
    "def evaluate_translation(source, reference, hypothesis):\n",
    "    # Note that BLEU and chrF Scores can only be between 0 and 100\n",
    "    #    but sacreblue returns floats as percentage values\n",
    "    # --> so the scores are between 0 and 100)\n",
    "    bleu_score = sacrebleu.corpus_bleu([hypothesis], [[reference]]).score\n",
    "    chrf_score = sacrebleu.corpus_chrf([hypothesis], [[reference]]).score\n",
    "\n",
    "    metricx_score = calculate_metricx_score(source, reference, hypothesis)\n",
    "    if metricx_score is None:\n",
    "        metricx_score = -1\n",
    "\n",
    "    rougel_scorer = rouge_scorer.RougeScorer(['rougeL'], use_stemmer=True)\n",
    "    rougel_score = rougel_scorer.score(reference, hypothesis)\n",
    "\n",
    "    return {'BLEU': bleu_score,\n",
    "            'chrF': chrf_score,\n",
    "            'rougeL': (rougel_score['rougeL'].fmeasure * 100),\n",
    "            'MetricX': metricx_score}\n"
   ],
   "id": "b2db81cb89d1a90e",
   "outputs": [],
   "execution_count": 9
  },
  {
   "metadata": {
    "ExecuteTime": {
     "end_time": "2025-02-02T16:43:33.776061Z",
     "start_time": "2025-02-02T16:43:33.772279Z"
    }
   },
   "cell_type": "code",
   "source": "#evaluate_translation(\"Felix hat es satt: Ständig ist Mama unterwegs. Doch warum das so ist, will ihm niemand verraten. Für Felix ist daher klar: Seine Mutter ist eine Geheimagentin. Als er an seinem zehnten Geburtstag einen rätselhaften Brief erhält, scheint sich seine Vermutung zu bestätigen. Zusammen mit seiner besten Freundin Lina macht er sich daran, das Geheimnis um Mamas Arbeit zu lüften. Ehe sie sich versehen, stecken die beiden mitten in ihrem ersten spannenden Fall als angehende Geheimagenten.\", \"Felix is fed up: Mom is always on the go. But nobody will tell him why that is. For Felix, it's clear: his mother is a secret agent. When he receives a mysterious letter on his tenth birthday, his suspicion seems to be confirmed. Together with his best friend Lina, he sets out to uncover the secret of mom's job. Before they know it, the two are in the middle of their first exciting case as budding secret agents.\", \"\\n\\n**English Translation:**\\n\\nFelix had sat: Mama was constantly on the go. But why this is the case, no one will tell him. Therefore, clear to Felix: his mother is a covert agent. When he receives a cryptic letter on his eleventh birthday, it seems his suspicion is confirmed. Together with his best friend Lina, he starts unraveling the mystery of his mother's job. When they finally manage to solve the case, they stick to their first exciting clue like detectives.\")",
   "id": "3cf725633e2ed7e8",
   "outputs": [],
   "execution_count": 10
  },
  {
   "metadata": {},
   "cell_type": "markdown",
   "source": "### 3.3 Logging to MLFLow",
   "id": "850ab5dc61d6bfd0"
  },
  {
   "metadata": {
    "ExecuteTime": {
     "end_time": "2025-02-02T16:43:33.789457Z",
     "start_time": "2025-02-02T16:43:33.784413Z"
    }
   },
   "cell_type": "code",
   "source": [
    "def log_to_mlflow(experiment_name, template_name, metrics, prompt_type, model_name, complexity, target_language, tmp_result,\n",
    "                  prompt_language):\n",
    "    experiment = mlflow.get_experiment_by_name(experiment_name)\n",
    "\n",
    "    if experiment:\n",
    "        if experiment.lifecycle_stage == 'deleted':\n",
    "            mlflow.tracking.MlflowClient().restore_experiment(experiment.experiment_id)\n",
    "            #mlflow.delete_experiment(experiment.experiment_id)\n",
    "    else:\n",
    "        mlflow.create_experiment(experiment_name)\n",
    "\n",
    "    mlflow.set_experiment(experiment_name)\n",
    "    with mlflow.start_run(run_name=f'{model_name}/{complexity}/{template_name}'):\n",
    "        mlflow.log_param('model', model_name)\n",
    "        mlflow.log_param('complexity', complexity)\n",
    "        mlflow.log_param('prompt_type', prompt_type)\n",
    "        mlflow.log_param('target_language', target_language)\n",
    "        mlflow.log_param('prompt_language', prompt_language)\n",
    "        for key, value in metrics.items():\n",
    "            mlflow.log_metric(key, value)\n",
    "\n",
    "        tmp_result.to_json('tmp_results.json', index=False)\n",
    "        mlflow.log_artifact('tmp_results.json')\n",
    "        mlflow.end_run()\n"
   ],
   "id": "ea6b2fc077799b49",
   "outputs": [],
   "execution_count": 11
  },
  {
   "metadata": {},
   "cell_type": "markdown",
   "source": "### 3.4 Pipeline Composition",
   "id": "525e76790b8b3239"
  },
  {
   "metadata": {
    "ExecuteTime": {
     "end_time": "2025-02-02T16:43:33.807830Z",
     "start_time": "2025-02-02T16:43:33.797477Z"
    }
   },
   "cell_type": "code",
   "source": [
    "import gc\n",
    "\n",
    "\n",
    "def run_pipeline(texts):\n",
    "    results = pd.DataFrame(\n",
    "        columns=['model', 'complexity', 'prompt_type', 'prompt', 'source_text', 'hypothesis', 'reference', 'metrics',\n",
    "                 'prompt_language'])\n",
    "    mlflow.set_tracking_uri(uri='http://127.0.0.1:5000')\n",
    "\n",
    "    for model_name, model_config in MODELS.items():\n",
    "        for _, row in texts.iterrows():\n",
    "            model = createModel(model_config, row)\n",
    "            complexity_enum = next(c for c in Complexity if c.value == row['complexity'])\n",
    "\n",
    "            # Übersetzung Deutsch -> Englisch\n",
    "            for template_name, template_data in PROMPT_TEMPLATES_GERMAN_ENGLISH.items():\n",
    "                if pd.notna(row['text_german']) and complexity_enum in template_data['complexities']:\n",
    "                    results = execute_mlflow_run(template_name, complexity_enum.value, model, model_name, Language.ENGLISH, results,\n",
    "                                                 row['text_german'], row['text_english'], template_data)\n",
    "\n",
    "            # Übersetzung Englisch -> Deutsch\n",
    "            for template_name, template_data in PROMPT_TEMPLATES_ENGLISH_GERMAN.items():\n",
    "                if pd.notna(row['text_english']) and complexity_enum in template_data['complexities']:\n",
    "                    results = execute_mlflow_run(template_name, complexity_enum.value, model, model_name, Language.GERMAN, results,\n",
    "                                                 row['text_english'], row['text_german'], template_data)\n",
    "\n",
    "            # we dont need the model anymore so we delete it\n",
    "            del model\n",
    "            gc.collect()\n",
    "    return results\n",
    "\n",
    "\n",
    "def createModel(model_config, row):\n",
    "    # at first we just use the dummyModel for tokenization\n",
    "    dummyModel = create_llama_model(model_config['repo_id'], model_config['filename'])\n",
    "    combined_text = f\"{row['text_german']} {row['text_english']}\"\n",
    "    text_tokens = len(dummyModel.tokenize(combined_text.encode('utf-8')))\n",
    "    # we want to tokenize the longest template\n",
    "    max_promp_template = max(\n",
    "        (t['template'] for d in (PROMPT_TEMPLATES_GERMAN_ENGLISH, PROMPT_TEMPLATES_ENGLISH_GERMAN) for t in d.values()),\n",
    "        key=len)\n",
    "    prompt_tokens = len(dummyModel.tokenize(max_promp_template.encode('utf-8')))\n",
    "\n",
    "    # now we delete the dummyModel and then create the final model based on the estimated_max_tokens\n",
    "    del dummyModel\n",
    "    gc.collect()\n",
    "    estimated_max_tokens = (text_tokens + prompt_tokens) * 1.5\n",
    "    n_ctx = int(estimated_max_tokens * 1.1)\n",
    "    print(f\"estimated_max_tokens: {estimated_max_tokens}; n_ctx: {n_ctx}\")\n",
    "    model = create_llama_model(model_config['repo_id'], model_config['filename'], n_ctx=n_ctx)\n",
    "    return model\n",
    "\n",
    "\n",
    "def execute_mlflow_run(template_name, complexity, model, model_name, target_language: Language, results, source_text,\n",
    "                       reference_text, template_data):\n",
    "    prompt = template_data['template'].format(text=source_text)\n",
    "    prompt_language = template_data['prompt_language']\n",
    "    prompt_type = template_data['prompt_type']\n",
    "\n",
    "    start_time_translation = time.time()\n",
    "    hypothesis = translate(model, prompt, reference_text)\n",
    "    end_time_translation = time.time()\n",
    "    print('Prompt finished in (seconds): ', round(end_time_translation - start_time_translation, 2))\n",
    "    metrics = evaluate_translation(source=source_text, reference=reference_text, hypothesis=hypothesis)\n",
    "    print('Metric Calculation in (seconds): ', round(time.time() - end_time_translation, 2))\n",
    "\n",
    "    tmp_result = pd.DataFrame([{\n",
    "        'model': model_name,\n",
    "        'complexity': complexity,\n",
    "        'prompt_type': prompt_type,\n",
    "        'prompt': prompt,\n",
    "        'source_text': source_text,\n",
    "        'hypothesis': hypothesis,\n",
    "        'reference_text': reference_text,\n",
    "        'metrics': metrics,\n",
    "        'prompt_language': prompt_language.value  # Hier .value für den Stringwert\n",
    "    }])\n",
    "\n",
    "    # MLflow-Logging\n",
    "    experiment_name = f'{model_name}_{complexity}'\n",
    "\n",
    "    log_to_mlflow(experiment_name, template_name, metrics, prompt_type, model_name, complexity, target_language.value, tmp_result,\n",
    "                  prompt_language.value)\n",
    "\n",
    "    # Ergebnis speichern\n",
    "    results = pd.concat([\n",
    "        results,\n",
    "        tmp_result\n",
    "    ], ignore_index=True)\n",
    "    return results"
   ],
   "id": "961cb868381bd8a6",
   "outputs": [],
   "execution_count": 12
  },
  {
   "metadata": {},
   "cell_type": "markdown",
   "source": "### 3.5 Prompt Composition\n",
   "id": "c1d3b0fe8482b687"
  },
  {
   "metadata": {
    "ExecuteTime": {
     "end_time": "2025-02-02T16:43:33.820291Z",
     "start_time": "2025-02-02T16:43:33.815613Z"
    }
   },
   "cell_type": "code",
   "source": [
    "# Beispiel für ausgewählte complexities: 'complexities': [Complexity.EASY, Complexity.NEWS_GEN]\n",
    "\n",
    "PROMPT_TEMPLATES_ENGLISH_GERMAN = {\n",
    "    'zero_shot_reread_to-de_en_1': {\n",
    "         'template': 'Please translate the following text from English to German. Do not ask questions and do not give further explanations, just return the translation. This is the text to translate: \\\"{text}\\\". Now read the instruction again: Please translate the following text from English to German. Do not ask questions and do not give further explanations, just return the translation. Keep the original tone of the text.',\n",
    "         'prompt_language': Language.ENGLISH,\n",
    "         'prompt_type': 'zero_shot_reread',\n",
    "         'complexities': ALL_COMPLEXITIES\n",
    "    },\n",
    "    'zero_shot_reread_to-de_de_1': {\n",
    "        'template': 'Bitte übersetze diesen Text von Englisch nach Deutsch. Stelle keine Gegenfragen und nenne keine Begründungen, sondern gib einfach die Übersetzung aus. Das ist der zu übersetzende Text: \\\"{text}\\\". Lies dir die Anweisung jetzt nochmal durch: Bitte übersetze diesen Text von Egnlisch nach Deutsch. Stelle keine Gegenfragen und nenne keine Begründungen, sondern gib einfach die Übersetzung aus. Behalte den ursprünglichen Ton des Textes bei.',\n",
    "        'prompt_language': Language.GERMAN,\n",
    "        'prompt_type': 'zero_shot_reread',\n",
    "        'complexities': ALL_COMPLEXITIES\n",
    "    },\n",
    "    'zero_shot_rar_to-de_en_1': {\n",
    "         'template': 'Please translate the following text from English to German. Do not ask questions and do not give further explanations, just return the translation. This is the text to translate: \\\"{text}\\\". Rephrase and expand the instruction, and respond.',\n",
    "         'prompt_language': Language.ENGLISH,\n",
    "         'prompt_type': 'zero_shot_rar',\n",
    "         'complexities': ALL_COMPLEXITIES\n",
    "    },\n",
    "    'zero_shot_rar_to-de_de_1': {\n",
    "        'template': 'Bitte übersetze diesen Text von Englisch nach Deutsch. Stelle keine Gegenfragen und nenne keine Begründungen, sondern gib einfach die Übersetzung aus. Das ist der zu übersetzende Text: \\\"{text}\\\". Formuliere die Anweisung um, erweitere sie und gib dann eine Antwort.',\n",
    "        'prompt_language': Language.GERMAN,\n",
    "        'prompt_type': 'zero_shot_rar',\n",
    "        'complexities': ALL_COMPLEXITIES\n",
    "    },\n",
    "    'zero_shot_cot_to-de_en_1': {\n",
    "         'template': 'Please translate the following text from English to German. Do not ask questions and do not give further explanations, just return the translation. This is the text to translate: \\\"{text}\\\". Let’s work this out in a step by step way to be sure we have the right answer.',\n",
    "         'prompt_language': Language.ENGLISH,\n",
    "         'prompt_type': 'zero_shot_cot',\n",
    "         'complexities': ALL_COMPLEXITIES\n",
    "    },\n",
    "    'zero_shot_cot_to-de_de_1': {\n",
    "        'template': 'Bitte übersetze diesen Text von Englisch nach Deutsch. Stelle keine Gegenfragen und nenne keine Begründungen, sondern gib einfach die Übersetzung aus. Das ist der zu übersetzende Text: \\\"{text}\\\". Gehen wir es Schritt für Schritt an, um ganz sicher zu sein, dass wir die richtige Antwort finden.',\n",
    "        'prompt_language': Language.GERMAN,\n",
    "        'prompt_type': 'zero_shot_cot',\n",
    "        'complexities': ALL_COMPLEXITIES\n",
    "    },\n",
    "    # ... weitere Einträge\n",
    "}\n",
    "\n",
    "PROMPT_TEMPLATES_GERMAN_ENGLISH = {\n",
    "    'zero_shot_reread_to-en_en_1': {\n",
    "        'template': 'Please translate the following text from German to English. Do not ask questions and do not give further explanations, just return the translation. This is the text to translate: \\\"{text}\\\". Now read the instruction again: Please translate the following text from German to English. Do not ask questions and do not give further explanations, just return the translation. Keep the original tone of the text.',\n",
    "        'prompt_language': Language.ENGLISH,\n",
    "        'prompt_type': 'zero_shot_reread',\n",
    "         'complexities': ALL_COMPLEXITIES\n",
    "    },\n",
    "    'zero_shot_reread_to-en_de_1': {\n",
    "        'template': 'Bitte übersetze diesen Text von Deutsch nach Englisch. Stelle keine Gegenfragen und nenne keine Begründungen, sondern gib einfach die Übersetzung aus. Das ist der zu übersetzende Text: \\\"{text}\\\". Lies dir die Anweisung jetzt nochmal durch: Bitte übersetze diesen Text von Deutsch nach Englisch. Stelle keine Gegenfragen und nenne keine Begründungen, sondern gib einfach die Übersetzung aus. Behalte den ursprünglichen Ton des Textes bei.',\n",
    "        'prompt_language': Language.GERMAN,\n",
    "        'prompt_type': 'zero_shot_reread',\n",
    "        'complexities': ALL_COMPLEXITIES\n",
    "    },\n",
    "    'zero_shot_rar_to-en_en_1': {\n",
    "        'template': 'Please translate the following text from German to English. Do not ask questions and do not give further explanations, just return the translation. This is the text to translate: \\\"{text}\\\". Rephrase and expand the instruction, and respond.',\n",
    "        'prompt_language': Language.ENGLISH,\n",
    "        'prompt_type': 'zero_shot_rar',\n",
    "         'complexities': ALL_COMPLEXITIES\n",
    "    },\n",
    "    'zero_shot_rar_to-en_de_1': {\n",
    "        'template': 'Bitte übersetze diesen Text von Deutsch nach Englisch. Stelle keine Gegenfragen und nenne keine Begründungen, sondern gib einfach die Übersetzung aus. Das ist der zu übersetzende Text: \\\"{text}\\\". Formuliere die Anweisung um, erweitere sie und gib dann eine Antwort.',\n",
    "        'prompt_language': Language.GERMAN,\n",
    "        'prompt_type': 'zero_shot_rar',\n",
    "        'complexities': ALL_COMPLEXITIES\n",
    "    },\n",
    "    'zero_shot_cot_to-en_en_1': {\n",
    "        'template': 'Please translate the following text from German to English. Do not ask questions and do not give further explanations, just return the translation. This is the text to translate: \\\"{text}\\\". Let’s work this out in a step by step way to be sure we have the right answer.',\n",
    "        'prompt_language': Language.ENGLISH,\n",
    "        'prompt_type': 'zero_shot_cot',\n",
    "         'complexities': ALL_COMPLEXITIES\n",
    "    },\n",
    "    'zero_shot_cot_to-en_de_1': {\n",
    "        'template': 'Bitte übersetze diesen Text von Deutsch nach Englisch. Stelle keine Gegenfragen und nenne keine Begründungen, sondern gib einfach die Übersetzung aus. Das ist der zu übersetzende Text: \\\"{text}\\\". Gehen wir es Schritt für Schritt an, um ganz sicher zu sein, dass wir die richtige Antwort finden.',\n",
    "        'prompt_language': Language.GERMAN,\n",
    "        'prompt_type': 'zero_shot_cot',\n",
    "        'complexities': ALL_COMPLEXITIES\n",
    "    },\n",
    "    # ...\n",
    "}"
   ],
   "id": "fbda21553c9aa77b",
   "outputs": [],
   "execution_count": 13
  },
  {
   "metadata": {},
   "cell_type": "markdown",
   "source": [
    "***\n",
    "## 4 Execute Pipeline"
   ],
   "id": "770e5c8f7b34ed45"
  },
  {
   "metadata": {
    "ExecuteTime": {
     "end_time": "2025-02-02T16:57:11.768640Z",
     "start_time": "2025-02-02T16:43:33.837927Z"
    }
   },
   "cell_type": "code",
   "source": [
    "translation_results = run_pipeline(data)\n",
    "print('Fertig mit der Pipeline. Speichere Ergebnisse...')\n",
    "translation_results.to_csv('translation_results.csv', sep=';')\n",
    "print('Pipeline abgeschlossen. Ergebnisse gespeichert.')"
   ],
   "id": "54362f91437fda00",
   "outputs": [
    {
     "data": {
      "text/plain": [
       "gemma-2b-it-q8_0.gguf:   0%|          | 0.00/2.67G [00:00<?, ?B/s]"
      ],
      "application/vnd.jupyter.widget-view+json": {
       "version_major": 2,
       "version_minor": 0,
       "model_id": "8f328e626e1c4898b422e86b35375d29"
      }
     },
     "metadata": {},
     "output_type": "display_data"
    },
    {
     "name": "stderr",
     "output_type": "stream",
     "text": [
      "llama_init_from_model: n_ctx_per_seq (512) < n_ctx_train (8192) -- the full capacity of the model will not be utilized\n"
     ]
    },
    {
     "name": "stdout",
     "output_type": "stream",
     "text": [
      "Model lmstudio-ai/gemma-2b-it-GGUF erfolgreich geladen mit n_ctx=512\n",
      "estimated_max_tokens: 460.5; n_ctx: 506\n"
     ]
    },
    {
     "name": "stderr",
     "output_type": "stream",
     "text": [
      "llama_init_from_model: n_ctx_per_seq (512) < n_ctx_train (8192) -- the full capacity of the model will not be utilized\n"
     ]
    },
    {
     "name": "stdout",
     "output_type": "stream",
     "text": [
      "Model lmstudio-ai/gemma-2b-it-GGUF erfolgreich geladen mit n_ctx=506\n",
      "Prompt finished in (seconds):  2.37\n",
      "Metric Calculation in (seconds):  23.92\n",
      "🏃 View run gemma/easy/zero_shot_style_reread_to-en_en_1 at: http://127.0.0.1:5000/#/experiments/429765178055128713/runs/8eca3e500cbc4f7f95bffb3c4c91f990\n",
      "🧪 View experiment at: http://127.0.0.1:5000/#/experiments/429765178055128713\n",
      "Prompt finished in (seconds):  2.41\n",
      "Metric Calculation in (seconds):  24.27\n",
      "🏃 View run gemma/easy/zero_shot_style_reread_to-en_de_1 at: http://127.0.0.1:5000/#/experiments/429765178055128713/runs/068ba7b58927467389489ef7fefed5b5\n",
      "🧪 View experiment at: http://127.0.0.1:5000/#/experiments/429765178055128713\n",
      "Prompt finished in (seconds):  3.49\n",
      "Metric Calculation in (seconds):  23.97\n",
      "🏃 View run gemma/easy/zero_shot_style_reread_to-de_en_1 at: http://127.0.0.1:5000/#/experiments/429765178055128713/runs/740b01539df84713b791939f79575627\n",
      "🧪 View experiment at: http://127.0.0.1:5000/#/experiments/429765178055128713\n",
      "Prompt finished in (seconds):  2.31\n",
      "Metric Calculation in (seconds):  23.1\n",
      "🏃 View run gemma/easy/zero_shot_style_reread_to-de_de_1 at: http://127.0.0.1:5000/#/experiments/429765178055128713/runs/39d6871018f44340852160f1ddd18db2\n",
      "🧪 View experiment at: http://127.0.0.1:5000/#/experiments/429765178055128713\n"
     ]
    },
    {
     "name": "stderr",
     "output_type": "stream",
     "text": [
      "llama_init_from_model: n_ctx_per_seq (512) < n_ctx_train (8192) -- the full capacity of the model will not be utilized\n"
     ]
    },
    {
     "name": "stdout",
     "output_type": "stream",
     "text": [
      "Model lmstudio-ai/gemma-2b-it-GGUF erfolgreich geladen mit n_ctx=512\n",
      "estimated_max_tokens: 333.0; n_ctx: 366\n"
     ]
    },
    {
     "name": "stderr",
     "output_type": "stream",
     "text": [
      "llama_init_from_model: n_ctx_per_seq (384) < n_ctx_train (8192) -- the full capacity of the model will not be utilized\n"
     ]
    },
    {
     "name": "stdout",
     "output_type": "stream",
     "text": [
      "Model lmstudio-ai/gemma-2b-it-GGUF erfolgreich geladen mit n_ctx=366\n",
      "Prompt finished in (seconds):  1.96\n",
      "Metric Calculation in (seconds):  18.47\n",
      "🏃 View run gemma/news_gen/zero_shot_style_reread_to-en_en_1 at: http://127.0.0.1:5000/#/experiments/391944840061747289/runs/a55e9e5acf17465f95058bc007ce84d8\n",
      "🧪 View experiment at: http://127.0.0.1:5000/#/experiments/391944840061747289\n",
      "Prompt finished in (seconds):  1.9\n",
      "Metric Calculation in (seconds):  18.6\n",
      "🏃 View run gemma/news_gen/zero_shot_style_reread_to-en_de_1 at: http://127.0.0.1:5000/#/experiments/391944840061747289/runs/d3b2c3c7346c40ada3699041210b5fa9\n",
      "🧪 View experiment at: http://127.0.0.1:5000/#/experiments/391944840061747289\n",
      "Prompt finished in (seconds):  2.23\n",
      "Metric Calculation in (seconds):  18.1\n",
      "🏃 View run gemma/news_gen/zero_shot_style_reread_to-de_en_1 at: http://127.0.0.1:5000/#/experiments/391944840061747289/runs/136a26d13a574d37ba1dfcf5c35121c3\n",
      "🧪 View experiment at: http://127.0.0.1:5000/#/experiments/391944840061747289\n",
      "Prompt finished in (seconds):  1.77\n",
      "Metric Calculation in (seconds):  18.13\n",
      "🏃 View run gemma/news_gen/zero_shot_style_reread_to-de_de_1 at: http://127.0.0.1:5000/#/experiments/391944840061747289/runs/6cac9db5fe9b458c835b7b24c56dce14\n",
      "🧪 View experiment at: http://127.0.0.1:5000/#/experiments/391944840061747289\n"
     ]
    },
    {
     "name": "stderr",
     "output_type": "stream",
     "text": [
      "llama_init_from_model: n_ctx_per_seq (512) < n_ctx_train (8192) -- the full capacity of the model will not be utilized\n"
     ]
    },
    {
     "name": "stdout",
     "output_type": "stream",
     "text": [
      "Model lmstudio-ai/gemma-2b-it-GGUF erfolgreich geladen mit n_ctx=512\n",
      "estimated_max_tokens: 468.0; n_ctx: 514\n"
     ]
    },
    {
     "name": "stderr",
     "output_type": "stream",
     "text": [
      "llama_init_from_model: n_ctx_per_seq (544) < n_ctx_train (8192) -- the full capacity of the model will not be utilized\n"
     ]
    },
    {
     "name": "stdout",
     "output_type": "stream",
     "text": [
      "Model lmstudio-ai/gemma-2b-it-GGUF erfolgreich geladen mit n_ctx=514\n",
      "Prompt finished in (seconds):  2.47\n",
      "Metric Calculation in (seconds):  22.48\n",
      "🏃 View run gemma/news_spec/zero_shot_style_reread_to-en_en_1 at: http://127.0.0.1:5000/#/experiments/713590614913207437/runs/f80f21e57c29433f8e54e4f2d4fe67c7\n",
      "🧪 View experiment at: http://127.0.0.1:5000/#/experiments/713590614913207437\n",
      "Prompt finished in (seconds):  2.42\n",
      "Metric Calculation in (seconds):  22.49\n",
      "🏃 View run gemma/news_spec/zero_shot_style_reread_to-en_de_1 at: http://127.0.0.1:5000/#/experiments/713590614913207437/runs/3bea43010d654bc0ae901a93d197462d\n",
      "🧪 View experiment at: http://127.0.0.1:5000/#/experiments/713590614913207437\n",
      "Prompt finished in (seconds):  2.15\n",
      "Metric Calculation in (seconds):  22.49\n",
      "🏃 View run gemma/news_spec/zero_shot_style_reread_to-de_en_1 at: http://127.0.0.1:5000/#/experiments/713590614913207437/runs/6e0d30a8b91f4d8e875e3cd087f81532\n",
      "🧪 View experiment at: http://127.0.0.1:5000/#/experiments/713590614913207437\n",
      "Prompt finished in (seconds):  2.63\n",
      "Metric Calculation in (seconds):  22.37\n",
      "🏃 View run gemma/news_spec/zero_shot_style_reread_to-de_de_1 at: http://127.0.0.1:5000/#/experiments/713590614913207437/runs/e356aa8008ec404ca7025d6deafe3b81\n",
      "🧪 View experiment at: http://127.0.0.1:5000/#/experiments/713590614913207437\n"
     ]
    },
    {
     "name": "stderr",
     "output_type": "stream",
     "text": [
      "llama_init_from_model: n_ctx_per_seq (512) < n_ctx_train (8192) -- the full capacity of the model will not be utilized\n"
     ]
    },
    {
     "name": "stdout",
     "output_type": "stream",
     "text": [
      "Model lmstudio-ai/gemma-2b-it-GGUF erfolgreich geladen mit n_ctx=512\n",
      "estimated_max_tokens: 478.5; n_ctx: 526\n"
     ]
    },
    {
     "name": "stderr",
     "output_type": "stream",
     "text": [
      "llama_init_from_model: n_ctx_per_seq (544) < n_ctx_train (8192) -- the full capacity of the model will not be utilized\n"
     ]
    },
    {
     "name": "stdout",
     "output_type": "stream",
     "text": [
      "Model lmstudio-ai/gemma-2b-it-GGUF erfolgreich geladen mit n_ctx=526\n",
      "Prompt finished in (seconds):  2.39\n",
      "Metric Calculation in (seconds):  22.84\n",
      "🏃 View run gemma/pop_science/zero_shot_style_reread_to-en_en_1 at: http://127.0.0.1:5000/#/experiments/819534162661537410/runs/5734d8f8110d4472862a6c73be752ba0\n",
      "🧪 View experiment at: http://127.0.0.1:5000/#/experiments/819534162661537410\n",
      "Prompt finished in (seconds):  2.4\n",
      "Metric Calculation in (seconds):  22.98\n",
      "🏃 View run gemma/pop_science/zero_shot_style_reread_to-en_de_1 at: http://127.0.0.1:5000/#/experiments/819534162661537410/runs/407824f6ab6b4863adfb45d16ca9150b\n",
      "🧪 View experiment at: http://127.0.0.1:5000/#/experiments/819534162661537410\n",
      "Prompt finished in (seconds):  2.06\n",
      "Metric Calculation in (seconds):  23.46\n",
      "🏃 View run gemma/pop_science/zero_shot_style_reread_to-de_en_1 at: http://127.0.0.1:5000/#/experiments/819534162661537410/runs/b5fb41039c594af0ba6e2cc7a4d8a970\n",
      "🧪 View experiment at: http://127.0.0.1:5000/#/experiments/819534162661537410\n",
      "Prompt finished in (seconds):  2.32\n",
      "Metric Calculation in (seconds):  22.81\n",
      "🏃 View run gemma/pop_science/zero_shot_style_reread_to-de_de_1 at: http://127.0.0.1:5000/#/experiments/819534162661537410/runs/00f38b87a09540fb8d39d7c1f76879ff\n",
      "🧪 View experiment at: http://127.0.0.1:5000/#/experiments/819534162661537410\n"
     ]
    },
    {
     "name": "stderr",
     "output_type": "stream",
     "text": [
      "llama_init_from_model: n_ctx_per_seq (512) < n_ctx_train (8192) -- the full capacity of the model will not be utilized\n"
     ]
    },
    {
     "name": "stdout",
     "output_type": "stream",
     "text": [
      "Model lmstudio-ai/gemma-2b-it-GGUF erfolgreich geladen mit n_ctx=512\n",
      "estimated_max_tokens: 895.5; n_ctx: 985\n"
     ]
    },
    {
     "name": "stderr",
     "output_type": "stream",
     "text": [
      "llama_init_from_model: n_ctx_per_seq (992) < n_ctx_train (8192) -- the full capacity of the model will not be utilized\n"
     ]
    },
    {
     "name": "stdout",
     "output_type": "stream",
     "text": [
      "Model lmstudio-ai/gemma-2b-it-GGUF erfolgreich geladen mit n_ctx=985\n",
      "Prompt finished in (seconds):  4.37\n",
      "Metric Calculation in (seconds):  35.59\n",
      "🏃 View run gemma/science/zero_shot_style_reread_to-en_en_1 at: http://127.0.0.1:5000/#/experiments/895795565739563094/runs/59fa14aec1da49319c6e3d2879b399f8\n",
      "🧪 View experiment at: http://127.0.0.1:5000/#/experiments/895795565739563094\n",
      "Prompt finished in (seconds):  4.84\n",
      "Metric Calculation in (seconds):  35.98\n",
      "🏃 View run gemma/science/zero_shot_style_reread_to-en_de_1 at: http://127.0.0.1:5000/#/experiments/895795565739563094/runs/c9cdd046b2a84eb89ae434f954799646\n",
      "🧪 View experiment at: http://127.0.0.1:5000/#/experiments/895795565739563094\n",
      "Prompt finished in (seconds):  3.4\n",
      "Metric Calculation in (seconds):  36.01\n",
      "🏃 View run gemma/science/zero_shot_style_reread_to-de_en_1 at: http://127.0.0.1:5000/#/experiments/895795565739563094/runs/36469927d7a9457d8837afe370086edc\n",
      "🧪 View experiment at: http://127.0.0.1:5000/#/experiments/895795565739563094\n",
      "Prompt finished in (seconds):  3.6\n",
      "Metric Calculation in (seconds):  37.15\n",
      "🏃 View run gemma/science/zero_shot_style_reread_to-de_de_1 at: http://127.0.0.1:5000/#/experiments/895795565739563094/runs/0000b2bc6ad1467f9429100d05ae1015\n",
      "🧪 View experiment at: http://127.0.0.1:5000/#/experiments/895795565739563094\n",
      "Fertig mit der Pipeline. Speichere Ergebnisse...\n",
      "Pipeline abgeschlossen. Ergebnisse gespeichert.\n"
     ]
    }
   ],
   "execution_count": 14
  }
 ],
 "metadata": {
  "kernelspec": {
   "display_name": "Python 3",
   "language": "python",
   "name": "python3"
  },
  "language_info": {
   "codemirror_mode": {
    "name": "ipython",
    "version": 2
   },
   "file_extension": ".py",
   "mimetype": "text/x-python",
   "name": "python",
   "nbconvert_exporter": "python",
   "pygments_lexer": "ipython2",
   "version": "2.7.6"
  }
 },
 "nbformat": 4,
 "nbformat_minor": 5
}
