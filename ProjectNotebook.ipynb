{
 "cells": [
  {
   "metadata": {},
   "cell_type": "markdown",
   "source": "# Jupyter Notebook for Project \"Comparison of LLM Prompting Techniques\"",
   "id": "7817965d4d5e53b4"
  },
  {
   "metadata": {
    "ExecuteTime": {
     "end_time": "2025-02-10T20:00:07.220015Z",
     "start_time": "2025-02-10T20:00:07.215989Z"
    }
   },
   "cell_type": "code",
   "source": [
    "import pandas as pd\n",
    "import mlflow\n",
    "import mlflow.pyfunc\n",
    "import sacrebleu\n",
    "from llama_cpp import Llama\n",
    "import time"
   ],
   "id": "e3ba848b0dea6c4d",
   "outputs": [],
   "execution_count": 15
  },
  {
   "metadata": {},
   "cell_type": "markdown",
   "source": [
    "## 1 Data Loading\n",
    "In the first step we import the given translations as pandas Dataframes and print a quick overview of the dataframe."
   ],
   "id": "55f837b4b3d7b0c0"
  },
  {
   "metadata": {
    "ExecuteTime": {
     "end_time": "2025-02-10T20:00:07.251058Z",
     "start_time": "2025-02-10T20:00:07.243282Z"
    }
   },
   "cell_type": "code",
   "source": [
    "data = pd.read_pickle('machine_translation.pkl')\n",
    "data"
   ],
   "id": "d0b66660e0495955",
   "outputs": [
    {
     "data": {
      "text/plain": [
       "    complexity                                        text_german  \\\n",
       "0         easy  Felix hat es satt: Ständig ist Mama unterwegs....   \n",
       "1     news_gen  Die rund 1.400 eingesetzten Beamten haben demn...   \n",
       "2    news_spec  Der Staatschef hat zugleich aber das Recht, vo...   \n",
       "3  pop_science  Dass der Klimawandel die Hitzewellen in Südasi...   \n",
       "4      science  Der DSA-110, der sich am Owens Valley Radio Ob...   \n",
       "\n",
       "                                        text_english  \n",
       "0  Felix is fed up: Mom is always on the go. But ...  \n",
       "1  The approximately 1,400 deployed officers have...  \n",
       "2  The head of state also has the right to appoin...  \n",
       "3  There is no question that climate change is in...  \n",
       "4  The DSA-110, situated at the Owens Valley Radi...  "
      ],
      "text/html": [
       "<div>\n",
       "<style scoped>\n",
       "    .dataframe tbody tr th:only-of-type {\n",
       "        vertical-align: middle;\n",
       "    }\n",
       "\n",
       "    .dataframe tbody tr th {\n",
       "        vertical-align: top;\n",
       "    }\n",
       "\n",
       "    .dataframe thead th {\n",
       "        text-align: right;\n",
       "    }\n",
       "</style>\n",
       "<table border=\"1\" class=\"dataframe\">\n",
       "  <thead>\n",
       "    <tr style=\"text-align: right;\">\n",
       "      <th></th>\n",
       "      <th>complexity</th>\n",
       "      <th>text_german</th>\n",
       "      <th>text_english</th>\n",
       "    </tr>\n",
       "  </thead>\n",
       "  <tbody>\n",
       "    <tr>\n",
       "      <th>0</th>\n",
       "      <td>easy</td>\n",
       "      <td>Felix hat es satt: Ständig ist Mama unterwegs....</td>\n",
       "      <td>Felix is fed up: Mom is always on the go. But ...</td>\n",
       "    </tr>\n",
       "    <tr>\n",
       "      <th>1</th>\n",
       "      <td>news_gen</td>\n",
       "      <td>Die rund 1.400 eingesetzten Beamten haben demn...</td>\n",
       "      <td>The approximately 1,400 deployed officers have...</td>\n",
       "    </tr>\n",
       "    <tr>\n",
       "      <th>2</th>\n",
       "      <td>news_spec</td>\n",
       "      <td>Der Staatschef hat zugleich aber das Recht, vo...</td>\n",
       "      <td>The head of state also has the right to appoin...</td>\n",
       "    </tr>\n",
       "    <tr>\n",
       "      <th>3</th>\n",
       "      <td>pop_science</td>\n",
       "      <td>Dass der Klimawandel die Hitzewellen in Südasi...</td>\n",
       "      <td>There is no question that climate change is in...</td>\n",
       "    </tr>\n",
       "    <tr>\n",
       "      <th>4</th>\n",
       "      <td>science</td>\n",
       "      <td>Der DSA-110, der sich am Owens Valley Radio Ob...</td>\n",
       "      <td>The DSA-110, situated at the Owens Valley Radi...</td>\n",
       "    </tr>\n",
       "  </tbody>\n",
       "</table>\n",
       "</div>"
      ]
     },
     "execution_count": 16,
     "metadata": {},
     "output_type": "execute_result"
    }
   ],
   "execution_count": 16
  },
  {
   "metadata": {
    "ExecuteTime": {
     "end_time": "2025-02-10T20:00:07.300823Z",
     "start_time": "2025-02-10T20:00:07.291380Z"
    }
   },
   "cell_type": "code",
   "source": [
    "data_info = pd.DataFrame()\n",
    "data_info['complexity'] = data['complexity']\n",
    "data_info['text_german_length'] = data['text_german'].str.len()\n",
    "data_info['text_english_length'] = data['text_english'].str.len()\n",
    "data_info"
   ],
   "id": "4578af3a4c1ceab2",
   "outputs": [
    {
     "data": {
      "text/plain": [
       "    complexity  text_german_length  text_english_length\n",
       "0         easy                 485                  415\n",
       "1     news_gen                 296                  280\n",
       "2    news_spec                 518                  484\n",
       "3  pop_science                 542                  521\n",
       "4      science                1003                  827"
      ],
      "text/html": [
       "<div>\n",
       "<style scoped>\n",
       "    .dataframe tbody tr th:only-of-type {\n",
       "        vertical-align: middle;\n",
       "    }\n",
       "\n",
       "    .dataframe tbody tr th {\n",
       "        vertical-align: top;\n",
       "    }\n",
       "\n",
       "    .dataframe thead th {\n",
       "        text-align: right;\n",
       "    }\n",
       "</style>\n",
       "<table border=\"1\" class=\"dataframe\">\n",
       "  <thead>\n",
       "    <tr style=\"text-align: right;\">\n",
       "      <th></th>\n",
       "      <th>complexity</th>\n",
       "      <th>text_german_length</th>\n",
       "      <th>text_english_length</th>\n",
       "    </tr>\n",
       "  </thead>\n",
       "  <tbody>\n",
       "    <tr>\n",
       "      <th>0</th>\n",
       "      <td>easy</td>\n",
       "      <td>485</td>\n",
       "      <td>415</td>\n",
       "    </tr>\n",
       "    <tr>\n",
       "      <th>1</th>\n",
       "      <td>news_gen</td>\n",
       "      <td>296</td>\n",
       "      <td>280</td>\n",
       "    </tr>\n",
       "    <tr>\n",
       "      <th>2</th>\n",
       "      <td>news_spec</td>\n",
       "      <td>518</td>\n",
       "      <td>484</td>\n",
       "    </tr>\n",
       "    <tr>\n",
       "      <th>3</th>\n",
       "      <td>pop_science</td>\n",
       "      <td>542</td>\n",
       "      <td>521</td>\n",
       "    </tr>\n",
       "    <tr>\n",
       "      <th>4</th>\n",
       "      <td>science</td>\n",
       "      <td>1003</td>\n",
       "      <td>827</td>\n",
       "    </tr>\n",
       "  </tbody>\n",
       "</table>\n",
       "</div>"
      ]
     },
     "execution_count": 17,
     "metadata": {},
     "output_type": "execute_result"
    }
   ],
   "execution_count": 17
  },
  {
   "metadata": {
    "ExecuteTime": {
     "end_time": "2025-02-10T20:00:07.348444Z",
     "start_time": "2025-02-10T20:00:07.344398Z"
    }
   },
   "cell_type": "code",
   "source": [
    "from enum import Enum\n",
    "\n",
    "\n",
    "class Language(Enum):\n",
    "    ENGLISH = 'English'\n",
    "    GERMAN = 'German'\n",
    "\n",
    "\n",
    "class Complexity(Enum):\n",
    "    EASY = 'easy'\n",
    "    NEWS_GEN = 'news_gen'\n",
    "    NEWS_SPEC = 'news_spec'\n",
    "    POP_SCIENCE = 'pop_science'\n",
    "    SCIENCE = 'science'\n",
    "\n",
    "\n",
    "ALL_COMPLEXITIES = list(Complexity)\n",
    "\n",
    "# this constant value is later used to calculate the estimated tokens and context size\n",
    "# -> it gets later multiplied by the token length of the prompt template + source text + reference text\n",
    "#       and should be > 1 but not too big\n",
    "# we identified 1.5 as a good heuristic\n",
    "ESTIMATED_TOKENS_BUFFER = 1.5"
   ],
   "id": "cec3e9fa6e97272f",
   "outputs": [],
   "execution_count": 18
  },
  {
   "metadata": {},
   "cell_type": "markdown",
   "source": [
    "***\n",
    "## 2 Model Loading\n",
    "In the second step we import the AI-Models which are given in the specified task. For doing so we use the `llama-cpp-python` library (further documentation can be found [here](https://github.com/abetlen/llama-cpp-python)) and import the models directly from [huggingface](https://huggingface.co/).\n",
    "\n",
    "Quick overview and installation guide of llama.cpp:\n",
    "- https://www.datacamp.com/tutorial/llama-cpp-tutorial\n",
    "- https://christophergs.com/blog/running-open-source-llms-in-python"
   ],
   "id": "bcb0a44c2b878f7f"
  },
  {
   "metadata": {
    "ExecuteTime": {
     "end_time": "2025-02-10T20:00:07.458445Z",
     "start_time": "2025-02-10T20:00:07.454948Z"
    }
   },
   "cell_type": "code",
   "source": [
    "# Configuration of the models\n",
    "MODELS = {\n",
    "    'gemma': {\n",
    "        'repo_id': 'lmstudio-ai/gemma-2b-it-GGUF',\n",
    "        'filename': 'gemma-2b-it-q8_0.gguf',\n",
    "    },\n",
    "    'llama32': {\n",
    "        'repo_id': 'hugging-quants/Llama-3.2-3B-Instruct-Q8_0-GGUF',\n",
    "        'filename': 'llama-3.2-3b-instruct-q8_0.gguf',\n",
    "    },\n",
    "    'llama31': {\n",
    "        'repo_id': 'lmstudio-community/Meta-Llama-3.1-8B-Instruct-GGUF',\n",
    "        'filename': 'Meta-Llama-3.1-8B-Instruct-Q5_K_M.gguf',\n",
    "    },\n",
    "    'aya23': {\n",
    "        'repo_id': 'bartowski/aya-23-35B-GGUF',\n",
    "        'filename': 'aya-23-35B-Q5_K_M.gguf',\n",
    "    },\n",
    "}"
   ],
   "id": "b523e2b238ca1806",
   "outputs": [],
   "execution_count": 19
  },
  {
   "metadata": {
    "ExecuteTime": {
     "end_time": "2025-02-10T20:00:07.522372Z",
     "start_time": "2025-02-10T20:00:07.517319Z"
    }
   },
   "cell_type": "code",
   "source": [
    "def create_llama_model(repo_id, filename, n_ctx=None):\n",
    "    \"\"\"\n",
    "    Loads and creates the Llama model from the specified repository and file.\n",
    "\n",
    "    Args:\n",
    "        repo_id: repository ID of the model.\n",
    "        filename: filename of the model.\n",
    "        n_ctx: context window size for the model. Defaults to 512 if None.\n",
    "\n",
    "    Returns:\n",
    "        The loaded Llama model, or None if an error occurs.\n",
    "    \"\"\"\n",
    "    try:\n",
    "        if n_ctx is None:\n",
    "            # default of llama_cpp\n",
    "            n_ctx = 512\n",
    "        if repo_id is not None and filename is not None:\n",
    "            model = Llama.from_pretrained(\n",
    "                repo_id=repo_id,\n",
    "                filename=filename,\n",
    "                n_ctx=n_ctx,\n",
    "                # these parameters can be set individually based on the running system\n",
    "                #n_gpu_layers=n_gpu_layers,\n",
    "                #n_threads=8,\n",
    "                verbose=False,\n",
    "            )\n",
    "            print(f\"Model {repo_id} successfully loaded with n_ctx={n_ctx}\")\n",
    "            return model\n",
    "        else:\n",
    "            return None\n",
    "    except Exception as e:\n",
    "        print(f\"Error occurred when loading the model from file: {filename}: {e}\")\n",
    "        return None"
   ],
   "id": "d77089c8b718fea5",
   "outputs": [],
   "execution_count": 20
  },
  {
   "metadata": {},
   "cell_type": "markdown",
   "source": "***",
   "id": "50eef963fb4c35d8"
  },
  {
   "metadata": {},
   "cell_type": "markdown",
   "source": [
    "## 3 Pipeline\n",
    "\n",
    "### 3.1 Model Interaction"
   ],
   "id": "6abec46ebf71a32b"
  },
  {
   "metadata": {
    "ExecuteTime": {
     "end_time": "2025-02-10T20:00:07.589202Z",
     "start_time": "2025-02-10T20:00:07.584777Z"
    }
   },
   "cell_type": "code",
   "source": [
    "def translate(model, prompt, reference_translation):\n",
    "    \"\"\"\n",
    "    Translates the given prompt using the provided model.\n",
    "    estimates the needed max_tokens based on the lengths of the prompt and the reference translation.\n",
    "\n",
    "    Args:\n",
    "        model: translation model to be used.\n",
    "        prompt: text to be translated.\n",
    "        reference_translation: reference translation used to estimate max_tokens.\n",
    "\n",
    "    Returns:\n",
    "        The translated text.\n",
    "    \"\"\"\n",
    "    # we estimate the needed max_tokens based on the tokenized prompt and reference_translation\n",
    "    token_length_ref = len(model.tokenize(reference_translation.encode('utf-8')))\n",
    "    token_length_prompt = len(model.tokenize(prompt.encode('utf-8')))\n",
    "    # the model should not need more tokens than this\n",
    "    estimated_max_tokens = (token_length_prompt + token_length_ref) * ESTIMATED_TOKENS_BUFFER\n",
    "\n",
    "    response = model(prompt, max_tokens=estimated_max_tokens, echo=False)\n",
    "    return response['choices'][0]['text']"
   ],
   "id": "1ce54c91795c7a3d",
   "outputs": [],
   "execution_count": 21
  },
  {
   "metadata": {},
   "cell_type": "markdown",
   "source": [
    "### 3.2 Metrics Calculation\n",
    "[GitHub Repo to MetricX](https://github.com/google-research/metricx)"
   ],
   "id": "9e72246e3b127e4f"
  },
  {
   "metadata": {
    "ExecuteTime": {
     "end_time": "2025-02-10T20:00:07.653283Z",
     "start_time": "2025-02-10T20:00:07.646837Z"
    }
   },
   "cell_type": "code",
   "source": [
    "from rouge_score import rouge_scorer\n",
    "\n",
    "\n",
    "def evaluate_translation(source, reference, hypothesis):\n",
    "    \"\"\"\n",
    "    Evaluates the quality of a translation (hypothesis) against a reference translation,\n",
    "    calculating BLEU, chrF, MetricX, and RougeL scores.\n",
    "\n",
    "    Args:\n",
    "        source: source text.\n",
    "        reference: reference translation.\n",
    "        hypothesis: hypothesis.\n",
    "\n",
    "    Returns:\n",
    "        A dictionary containing the BLEU, chrF, RougeL, and MetricX scores.  BLEU, chrF, and RougeL\n",
    "        are scaled to be between 0 and 100. MetricX will be -1 if it cannot be calculated.\n",
    "    \"\"\"\n",
    "\n",
    "    # Note that BLEU and chrF Scores can only be between 0 and 1\n",
    "    #   but sacreblue returns floats between 0 and 100\n",
    "    bleu_score = sacrebleu.corpus_bleu([hypothesis], [[reference]]).score\n",
    "    chrf_score = sacrebleu.corpus_chrf([hypothesis], [[reference]]).score\n",
    "\n",
    "    metricx_score = calculate_metricx_score(source, reference, hypothesis)\n",
    "    if metricx_score is None:\n",
    "        metricx_score = -1\n",
    "\n",
    "    rougel_scorer = rouge_scorer.RougeScorer(['rougeL'], use_stemmer=True)\n",
    "    rougel_score = rougel_scorer.score(reference, hypothesis)\n",
    "\n",
    "    return {'BLEU': bleu_score,\n",
    "            'chrF': chrf_score,\n",
    "            # we also edited the rougeL score to lie between 0 and 100 (to be similar to BLEU and chrF)\n",
    "            'rougeL': (rougel_score['rougeL'].fmeasure * 100),\n",
    "            'MetricX': metricx_score}\n"
   ],
   "id": "5d0726d94411242c",
   "outputs": [],
   "execution_count": 23
  },
  {
   "metadata": {
    "ExecuteTime": {
     "end_time": "2025-02-10T20:00:07.618696Z",
     "start_time": "2025-02-10T20:00:07.611575Z"
    }
   },
   "cell_type": "code",
   "outputs": [],
   "execution_count": 22,
   "source": [
    "import subprocess\n",
    "import json\n",
    "import os\n",
    "\n",
    "\n",
    "def calculate_metricx_score(source, reference, hypothesis):\n",
    "    '''\n",
    "    Calculates the MetricX-score based on source, reference, and hypothesis using metricx24.\n",
    "    We are currently using the metricx-24-hybrid-large-v2p6-bfloat16 model but there are also other options\n",
    "        as can be seen here: https://github.com/google-research/metricx\n",
    "\n",
    "    Args:\n",
    "        source: The source text (String).\n",
    "        reference: The reference translation (String).\n",
    "        hypothesis: The hypothesis translation (String).\n",
    "\n",
    "    Returns:\n",
    "        The calculated score as a float or None in case of an error.\n",
    "    '''\n",
    "\n",
    "\n",
    "    # Create temporary JSONL files\n",
    "    input_file = './temp_input.jsonl'\n",
    "    output_file = './temp_output.jsonl'\n",
    "    # this is the model that is used for evaluation\n",
    "    model = 'google/metricx-24-hybrid-large-v2p6-bfloat16'\n",
    "\n",
    "    tmp_data = [{'id': '1', 'source': source, 'reference': reference, 'hypothesis': hypothesis}]\n",
    "    try:\n",
    "        with open(input_file, 'w', encoding='utf-8') as f:\n",
    "            for entry in tmp_data:\n",
    "                json.dump(entry, f)\n",
    "                f.write('\\n')\n",
    "\n",
    "        command = [\n",
    "            'python', '-m', 'metricx24.predict',\n",
    "            '--tokenizer', 'google/mt5-xl',\n",
    "            '--model_name_or_path', model,\n",
    "            '--max_input_length', '1536',\n",
    "            '--batch_size', '1',\n",
    "            '--input_file', input_file,\n",
    "            '--output_file', output_file\n",
    "        ]\n",
    "\n",
    "        process = subprocess.Popen(\n",
    "            command,\n",
    "            stdout=subprocess.PIPE,\n",
    "            stderr=subprocess.PIPE,\n",
    "            text=True,\n",
    "            bufsize=1,\n",
    "            universal_newlines=True\n",
    "        )\n",
    "\n",
    "        # Capture output and errors (optional, can be useful for debugging)\n",
    "        #for line in process.stdout:\n",
    "        #    print(line, end='')\n",
    "        #for line in process.stderr:\n",
    "        #    print(f'ERROR: {line}', end='')\n",
    "\n",
    "        # wait for the metric calculation process to terminate\n",
    "        process.wait()\n",
    "\n",
    "        if process.returncode != 0:\n",
    "            print(f'Error executing metricx24. Return code: {process.returncode}')\n",
    "            return None\n",
    "\n",
    "        # Read score from the output file\n",
    "        with open(output_file, 'r', encoding='utf-8') as f:\n",
    "            for line in f:\n",
    "                try:\n",
    "                    output_data = json.loads(line)\n",
    "                    score = float(output_data.get('prediction'))\n",
    "                    return score\n",
    "                except (json.JSONDecodeError, ValueError, AttributeError):\n",
    "                    print('Error parsing the output file.')\n",
    "                    return None\n",
    "\n",
    "        return None  # If no valid line was found in the output file\n",
    "\n",
    "    finally:\n",
    "        # Remove temporary files\n",
    "        try:\n",
    "            os.remove(input_file)\n",
    "            os.remove(output_file)\n",
    "        except FileNotFoundError:\n",
    "            pass  #If the files don't exist for some reason, the error is caught\n",
    "\n",
    "\n"
   ],
   "id": "29a087ab8c8c4970"
  },
  {
   "metadata": {
    "ExecuteTime": {
     "end_time": "2025-02-10T20:00:07.679025Z",
     "start_time": "2025-02-10T20:00:07.673478Z"
    }
   },
   "cell_type": "code",
   "source": "#evaluate_translation(\"Felix hat es satt: Ständig ist Mama unterwegs. Doch warum das so ist, will ihm niemand verraten. Für Felix ist daher klar: Seine Mutter ist eine Geheimagentin. Als er an seinem zehnten Geburtstag einen rätselhaften Brief erhält, scheint sich seine Vermutung zu bestätigen. Zusammen mit seiner besten Freundin Lina macht er sich daran, das Geheimnis um Mamas Arbeit zu lüften. Ehe sie sich versehen, stecken die beiden mitten in ihrem ersten spannenden Fall als angehende Geheimagenten.\", \"Felix is fed up: Mom is always on the go. But nobody will tell him why that is. For Felix, it's clear: his mother is a secret agent. When he receives a mysterious letter on his tenth birthday, his suspicion seems to be confirmed. Together with his best friend Lina, he sets out to uncover the secret of mom's job. Before they know it, the two are in the middle of their first exciting case as budding secret agents.\", \"\\n\\n**English Translation:**\\n\\nFelix had sat: Mama was constantly on the go. But why this is the case, no one will tell him. Therefore, clear to Felix: his mother is a covert agent. When he receives a cryptic letter on his eleventh birthday, it seems his suspicion is confirmed. Together with his best friend Lina, he starts unraveling the mystery of his mother's job. When they finally manage to solve the case, they stick to their first exciting clue like detectives.\")",
   "id": "422c9a7f41c321ed",
   "outputs": [],
   "execution_count": 24
  },
  {
   "metadata": {},
   "cell_type": "markdown",
   "source": "### 3.3 Logging to MLFLow",
   "id": "154ad4fd908110a0"
  },
  {
   "metadata": {
    "ExecuteTime": {
     "end_time": "2025-02-10T20:00:07.722735Z",
     "start_time": "2025-02-10T20:00:07.717359Z"
    }
   },
   "cell_type": "code",
   "source": [
    "def log_to_mlflow(experiment_name, template_name, metrics, prompt_type, model_name, complexity, target_language, tmp_result,\n",
    "                  prompt_language):\n",
    "    \"\"\"\n",
    "    Logs results of a run to MLflow.\n",
    "    creates the respective experiment if it does not already exist\n",
    "\n",
    "    Args:\n",
    "        experiment_name: name of the MLflow experiment.\n",
    "        template_name: name of the prompt template used.\n",
    "        metrics: dictionary of metrics to log.\n",
    "        prompt_type: prompting technique that was used.\n",
    "        model_name: name of the model.\n",
    "        complexity: complexity level of the source text.\n",
    "        target_language: target language of the translation.\n",
    "        tmp_result: Pandas DataFrame containing temporary results.\n",
    "        prompt_language: language of the prompt.\n",
    "    \"\"\"\n",
    "    experiment = mlflow.get_experiment_by_name(experiment_name)\n",
    "\n",
    "    if experiment:\n",
    "        if experiment.lifecycle_stage == 'deleted':\n",
    "            mlflow.tracking.MlflowClient().restore_experiment(experiment.experiment_id)\n",
    "    else:\n",
    "        mlflow.create_experiment(experiment_name)\n",
    "\n",
    "    mlflow.set_experiment(experiment_name)\n",
    "    with mlflow.start_run(run_name=f'{model_name}/{complexity}/{template_name}'):\n",
    "        mlflow.log_param('model', model_name)\n",
    "        mlflow.log_param('complexity', complexity)\n",
    "        mlflow.log_param('prompt_type', prompt_type)\n",
    "        mlflow.log_param('target_language', target_language)\n",
    "        mlflow.log_param('prompt_language', prompt_language)\n",
    "        for key, value in metrics.items():\n",
    "            mlflow.log_metric(key, value)\n",
    "\n",
    "        tmp_result.to_json('tmp_results.json', index=False)\n",
    "        mlflow.log_artifact('tmp_results.json')\n",
    "        mlflow.end_run()\n"
   ],
   "id": "a1cf3e58d221a648",
   "outputs": [],
   "execution_count": 25
  },
  {
   "metadata": {},
   "cell_type": "markdown",
   "source": "### 3.4 Pipeline Composition",
   "id": "bc742452c43246a6"
  },
  {
   "metadata": {
    "ExecuteTime": {
     "end_time": "2025-02-10T20:00:07.751475Z",
     "start_time": "2025-02-10T20:00:07.736608Z"
    }
   },
   "cell_type": "code",
   "source": [
    "import gc\n",
    "\n",
    "\n",
    "def run_pipeline(texts):\n",
    "    \"\"\"\n",
    "    Runs the translation pipeline for a given set of texts, iterating through the different MODELS (from above),\n",
    "    complexities, and PROMPT_TEMPLATES. Also logs the results to MLflow and returns them as a DataFrame.\n",
    "\n",
    "    Args:\n",
    "        texts: Pandas DataFrame containing the source and reference texts, as well as the\n",
    "            complexity level for each text.\n",
    "\n",
    "    Returns:\n",
    "        Pandas DataFrame containing the results of all translation runs.\n",
    "    \"\"\"\n",
    "    # this is the result Dataframe where all runs are stored\n",
    "    results = pd.DataFrame(\n",
    "        columns=['model', 'complexity', 'prompt_type', 'prompt', 'source_text', 'hypothesis', 'reference', 'metrics',\n",
    "                 'prompt_language'])\n",
    "\n",
    "    # this is just for mlflow and can be changed individually\n",
    "    mlflow.set_tracking_uri(uri='http://127.0.0.1:5000')\n",
    "\n",
    "    for model_name, model_config in MODELS.items():\n",
    "        for _, row in texts.iterrows():\n",
    "            model = createModel(model_config, row)\n",
    "            complexity_enum = next(c for c in Complexity if c.value == row['complexity'])\n",
    "\n",
    "            # translations German -> English\n",
    "            for template_name, template_data in PROMPT_TEMPLATES_GERMAN_ENGLISH.items():\n",
    "                if pd.notna(row['text_german']) and complexity_enum in template_data['complexities']:\n",
    "                    results = execute_mlflow_run(template_name, complexity_enum.value, model, model_name, Language.ENGLISH, results,\n",
    "                                                 row['text_german'], row['text_english'], template_data)\n",
    "\n",
    "            # translations English -> German\n",
    "            for template_name, template_data in PROMPT_TEMPLATES_ENGLISH_GERMAN.items():\n",
    "                if pd.notna(row['text_english']) and complexity_enum in template_data['complexities']:\n",
    "                    results = execute_mlflow_run(template_name, complexity_enum.value, model, model_name, Language.GERMAN, results,\n",
    "                                                 row['text_english'], row['text_german'], template_data)\n",
    "\n",
    "            # we dont need the model anymore so we delete it\n",
    "            del model\n",
    "            gc.collect()\n",
    "    return results\n",
    "\n",
    "\n",
    "def createModel(model_config, row):\n",
    "    \"\"\"\n",
    "    Creates the desired model with a context window (n_ctx) that is estimated\n",
    "    based on the token length of the prompt, source and reference text.\n",
    "\n",
    "    Args:\n",
    "        model_config: configuration for the language model.\n",
    "        row: row from the input DataFrame containing the source and reference texts (needed for token estimation).\n",
    "\n",
    "    Returns:\n",
    "        The created language model.\n",
    "    \"\"\"\n",
    "    # at first we just use the dummyModel for the tokenization of text\n",
    "    dummyModel = create_llama_model(model_config['repo_id'], model_config['filename'])\n",
    "\n",
    "    # then we determine the minimal tokens needed for a translation (prompt + source text + reference text)\n",
    "    combined_text = f\"{row['text_german']} {row['text_english']}\"\n",
    "    text_tokens = len(dummyModel.tokenize(combined_text.encode('utf-8')))\n",
    "    # we want to tokenize the longest template/ prompt\n",
    "    max_promp_template = max(\n",
    "        (t['template'] for d in (PROMPT_TEMPLATES_GERMAN_ENGLISH, PROMPT_TEMPLATES_ENGLISH_GERMAN) for t in d.values()),\n",
    "        key=len)\n",
    "    prompt_tokens = len(dummyModel.tokenize(max_promp_template.encode('utf-8')))\n",
    "\n",
    "    # now we delete the dummyModel to free up memory\n",
    "    del dummyModel\n",
    "    gc.collect()\n",
    "\n",
    "    # and then create the final model based on the estimated_max_tokens\n",
    "    estimated_max_tokens = (text_tokens + prompt_tokens) * ESTIMATED_TOKENS_BUFFER\n",
    "    n_ctx = int(estimated_max_tokens * 1.1)\n",
    "    print(f\"estimated_max_tokens: {estimated_max_tokens}; n_ctx: {n_ctx}\")\n",
    "    model = create_llama_model(model_config['repo_id'], model_config['filename'], n_ctx=n_ctx)\n",
    "    return model\n",
    "\n",
    "\n",
    "def execute_mlflow_run(template_name, complexity, model, model_name, target_language: Language, results, source_text,\n",
    "                       reference_text, template_data):\n",
    "    \"\"\"\n",
    "    Executes a single translation run, including prompt creation, translation, evaluation, and logging to MLflow.\n",
    "\n",
    "    Args:\n",
    "        template_name: name of the prompt template used.\n",
    "        complexity: complexity level of the prompt.\n",
    "        model: language model used for translation.\n",
    "        model_name: name of the model.\n",
    "        target_language: target language of the translation.\n",
    "        results: Pandas DataFrame to store the results.\n",
    "        source_text: source text to be translated.\n",
    "        reference_text: reference translation.\n",
    "        template_data: data associated with the prompt template.\n",
    "\n",
    "    Returns:\n",
    "        the updated results DataFrame.\n",
    "    \"\"\"\n",
    "    # this is the actual composition of the prompt where '{text}' gets replaced with the source text\n",
    "    prompt = template_data['template'].format(text=source_text)\n",
    "\n",
    "\n",
    "    start_time_translation = time.time()\n",
    "    hypothesis = translate(model, prompt, reference_text)\n",
    "    end_time_translation = time.time()\n",
    "    print('Prompt finished in (seconds): ', round(end_time_translation - start_time_translation, 2))\n",
    "\n",
    "    metrics = evaluate_translation(source=source_text, reference=reference_text, hypothesis=hypothesis)\n",
    "    print('Metric Calculation finished in (seconds): ', round(time.time() - end_time_translation, 2))\n",
    "\n",
    "    prompt_language = template_data['prompt_language']\n",
    "    prompt_type = template_data['prompt_type']\n",
    "    tmp_result = pd.DataFrame([{\n",
    "        'model': model_name,\n",
    "        'complexity': complexity,\n",
    "        'prompt_type': prompt_type,\n",
    "        'prompt': prompt,\n",
    "        'source_text': source_text,\n",
    "        'hypothesis': hypothesis,\n",
    "        'reference_text': reference_text,\n",
    "        'metrics': metrics,\n",
    "        'prompt_language': prompt_language.value  # .value for the string value\n",
    "    }])\n",
    "\n",
    "    experiment_name = f'{model_name}_{complexity}'\n",
    "\n",
    "    log_to_mlflow(experiment_name, template_name, metrics, prompt_type, model_name, complexity, target_language.value, tmp_result,\n",
    "                  prompt_language.value)\n",
    "\n",
    "    # add tmp_results Dataframe to overall results\n",
    "    results = pd.concat([\n",
    "        results,\n",
    "        tmp_result\n",
    "    ], ignore_index=True)\n",
    "    return results"
   ],
   "id": "602ba01d2e9660f7",
   "outputs": [],
   "execution_count": 26
  },
  {
   "metadata": {},
   "cell_type": "markdown",
   "source": "### 3.5 Prompt Composition\n",
   "id": "8ab14fdc0cb769b6"
  },
  {
   "metadata": {
    "ExecuteTime": {
     "end_time": "2025-02-10T20:00:07.771226Z",
     "start_time": "2025-02-10T20:00:07.764563Z"
    }
   },
   "cell_type": "code",
   "source": [
    "PROMPT_TEMPLATES_ENGLISH_GERMAN = {\n",
    "    'few_shot_style_persona_to-de_en_2': {\n",
    "         'template': 'Act like a professional interpreter. When you receive a text, adapt to the tone of the text and translate the English text directly into German without any notes or questions. Examples: English = \"Apple\" -> German = \"Apfel\", English = \"Car\" -> German = \"Auto\", English = \"House\" -> German = \"Haus\", English = \"Water\" -> German = \"Wasser\", English = \"Sky\" -> German = \"Himmel\". You will now be given this text: [\"{text}\"].',\n",
    "         'prompt_language': Language.ENGLISH,\n",
    "         'prompt_type': 'few_shot_style_persona',\n",
    "         'complexities': ALL_COMPLEXITIES\n",
    "    },\n",
    "    'few_shot_style_persona_to-de_de_2': {\n",
    "        'template': 'Verhalte dich wie ein professioneller Dolmetscher. Wenn du einen Text bekommst, passt du dich dem Ton des Textes an und übersetzt den englischen Text direkt ins Deutsche ohne Anmerkungen oder Rückfragen. Beispiele: Englisch = \"Apple\" -> German = \"Apfel\", Englisch = \"Car\" -> German = \"Auto\", Englisch = \"House\" -> German = \"Haus\", Englisch = \"Water\" -> German = \"Wasser\", Englisch = \"Sky\" -> German = \"Himmel\". Dir wird nun dieser Text gegeben: [\"{text}\"].',\n",
    "        'prompt_language': Language.GERMAN,\n",
    "        'prompt_type': 'few_shot_style_persona',\n",
    "        'complexities': ALL_COMPLEXITIES\n",
    "    },\n",
    "}\n",
    "\n",
    "PROMPT_TEMPLATES_GERMAN_ENGLISH = {\n",
    "    'few_shot_style_persona_to-en_en_2': {\n",
    "        'template': 'Act like a professional interpreter. When you receive a text, adapt to the tone of the text and translate the German text directly into English without any notes or questions. Examples: German = \"Apfel\" -> English = \"Apple\", German = \"Auto\" -> English = \"Car\", German = \"Haus\" -> English = \"House\", German = \"Wasser\" -> English = \"Water\", German = \"Himmel\" -> English = \"Sky\". You will now be given this text: [\"{text}\"].',\n",
    "        'prompt_language': Language.ENGLISH,\n",
    "        'prompt_type': 'few_shot_style_persona',\n",
    "         'complexities': ALL_COMPLEXITIES\n",
    "    },\n",
    "    'few_shot_style_persona_to-en_de_2': {\n",
    "        'template': 'Verhalte dich wie ein professioneller Dolmetscher. Wenn du einen Text bekommst, passt du dich dem Ton des Textes an und übersetzt den deutschen Text direkt ins Englische ohne Anmerkungen oder Rückfragen. Beispiele: Deutsch = \"Apfel\" -> Englisch = \"Apple\", Deutsch = \"Auto\" -> Englisch = \"Car\", Deutsch = \"Haus\" -> Englisch = \"House\", Deutsch = \"Wasser\" -> Englisch = \"Water\", Deutsch = \"Himmel\" -> Englisch = \"Sky\". Dir wird nun dieser Text gegeben: [\"{text}\"].',\n",
    "        'prompt_language': Language.GERMAN,\n",
    "        'prompt_type': 'few_shot_style_persona',\n",
    "        'complexities': ALL_COMPLEXITIES\n",
    "    },\n",
    "}"
   ],
   "id": "571cfff1360e09ef",
   "outputs": [],
   "execution_count": 27
  },
  {
   "metadata": {},
   "cell_type": "markdown",
   "source": [
    "***\n",
    "## 4 Execute Pipeline"
   ],
   "id": "b226050c15cbe2d5"
  },
  {
   "metadata": {
    "ExecuteTime": {
     "end_time": "2025-02-10T21:50:01.148617Z",
     "start_time": "2025-02-10T20:00:07.786849Z"
    }
   },
   "cell_type": "code",
   "source": [
    "translation_results = run_pipeline(data)\n",
    "translation_results.to_csv('translation_results.csv', sep=';')\n",
    "print('Pipeline abgeschlossen. Ergebnisse gespeichert.')"
   ],
   "id": "c7f5f9399827a4e8",
   "outputs": [
    {
     "name": "stderr",
     "output_type": "stream",
     "text": [
      "llama_init_from_model: n_ctx_per_seq (512) < n_ctx_train (8192) -- the full capacity of the model will not be utilized\n"
     ]
    },
    {
     "name": "stdout",
     "output_type": "stream",
     "text": [
      "Model lmstudio-ai/gemma-2b-it-GGUF erfolgreich geladen mit n_ctx=512\n",
      "estimated_max_tokens: 481.5; n_ctx: 529\n"
     ]
    },
    {
     "name": "stderr",
     "output_type": "stream",
     "text": [
      "llama_init_from_model: n_ctx_per_seq (544) < n_ctx_train (8192) -- the full capacity of the model will not be utilized\n"
     ]
    },
    {
     "name": "stdout",
     "output_type": "stream",
     "text": [
      "Model lmstudio-ai/gemma-2b-it-GGUF erfolgreich geladen mit n_ctx=529\n",
      "Prompt finished in (seconds):  15.94\n",
      "Metric Calculation in (seconds):  32.27\n",
      "🏃 View run gemma/easy/few_shot_style_persona_to-en_en_2 at: http://127.0.0.1:5000/#/experiments/429765178055128713/runs/0b8eaa3286a64791ab268c41c8519c18\n",
      "🧪 View experiment at: http://127.0.0.1:5000/#/experiments/429765178055128713\n",
      "Prompt finished in (seconds):  28.18\n",
      "Metric Calculation in (seconds):  47.67\n",
      "🏃 View run gemma/easy/few_shot_style_persona_to-en_de_2 at: http://127.0.0.1:5000/#/experiments/429765178055128713/runs/a02819a4d5d94ed483ac0a80524c0082\n",
      "🧪 View experiment at: http://127.0.0.1:5000/#/experiments/429765178055128713\n",
      "Prompt finished in (seconds):  17.61\n",
      "Metric Calculation in (seconds):  32.85\n",
      "🏃 View run gemma/easy/few_shot_style_persona_to-de_en_2 at: http://127.0.0.1:5000/#/experiments/429765178055128713/runs/8da3296fa3ef429f8782e6da2e04d8e1\n",
      "🧪 View experiment at: http://127.0.0.1:5000/#/experiments/429765178055128713\n",
      "Prompt finished in (seconds):  14.74\n",
      "Metric Calculation in (seconds):  34.35\n",
      "🏃 View run gemma/easy/few_shot_style_persona_to-de_de_2 at: http://127.0.0.1:5000/#/experiments/429765178055128713/runs/ac532331d91e415faf2350ec4d6a6132\n",
      "🧪 View experiment at: http://127.0.0.1:5000/#/experiments/429765178055128713\n"
     ]
    },
    {
     "name": "stderr",
     "output_type": "stream",
     "text": [
      "llama_init_from_model: n_ctx_per_seq (512) < n_ctx_train (8192) -- the full capacity of the model will not be utilized\n"
     ]
    },
    {
     "name": "stdout",
     "output_type": "stream",
     "text": [
      "Model lmstudio-ai/gemma-2b-it-GGUF erfolgreich geladen mit n_ctx=512\n",
      "estimated_max_tokens: 354.0; n_ctx: 389\n"
     ]
    },
    {
     "name": "stderr",
     "output_type": "stream",
     "text": [
      "llama_init_from_model: n_ctx_per_seq (416) < n_ctx_train (8192) -- the full capacity of the model will not be utilized\n"
     ]
    },
    {
     "name": "stdout",
     "output_type": "stream",
     "text": [
      "Model lmstudio-ai/gemma-2b-it-GGUF erfolgreich geladen mit n_ctx=389\n",
      "Prompt finished in (seconds):  9.91\n",
      "Metric Calculation in (seconds):  22.97\n",
      "🏃 View run gemma/news_gen/few_shot_style_persona_to-en_en_2 at: http://127.0.0.1:5000/#/experiments/391944840061747289/runs/b730b2a2c15549ad9fab1809c0cb3a22\n",
      "🧪 View experiment at: http://127.0.0.1:5000/#/experiments/391944840061747289\n",
      "Prompt finished in (seconds):  12.97\n",
      "Metric Calculation in (seconds):  26.82\n",
      "🏃 View run gemma/news_gen/few_shot_style_persona_to-en_de_2 at: http://127.0.0.1:5000/#/experiments/391944840061747289/runs/5fe9bcf96de0480f9f2a55da741608ab\n",
      "🧪 View experiment at: http://127.0.0.1:5000/#/experiments/391944840061747289\n",
      "Prompt finished in (seconds):  9.21\n",
      "Metric Calculation in (seconds):  23.03\n",
      "🏃 View run gemma/news_gen/few_shot_style_persona_to-de_en_2 at: http://127.0.0.1:5000/#/experiments/391944840061747289/runs/12696af455804652882e2828545c6532\n",
      "🧪 View experiment at: http://127.0.0.1:5000/#/experiments/391944840061747289\n",
      "Prompt finished in (seconds):  9.37\n",
      "Metric Calculation in (seconds):  24.36\n",
      "🏃 View run gemma/news_gen/few_shot_style_persona_to-de_de_2 at: http://127.0.0.1:5000/#/experiments/391944840061747289/runs/c055f18851964a76a211a21037a26aeb\n",
      "🧪 View experiment at: http://127.0.0.1:5000/#/experiments/391944840061747289\n"
     ]
    },
    {
     "name": "stderr",
     "output_type": "stream",
     "text": [
      "llama_init_from_model: n_ctx_per_seq (512) < n_ctx_train (8192) -- the full capacity of the model will not be utilized\n"
     ]
    },
    {
     "name": "stdout",
     "output_type": "stream",
     "text": [
      "Model lmstudio-ai/gemma-2b-it-GGUF erfolgreich geladen mit n_ctx=512\n",
      "estimated_max_tokens: 489.0; n_ctx: 537\n"
     ]
    },
    {
     "name": "stderr",
     "output_type": "stream",
     "text": [
      "llama_init_from_model: n_ctx_per_seq (544) < n_ctx_train (8192) -- the full capacity of the model will not be utilized\n"
     ]
    },
    {
     "name": "stdout",
     "output_type": "stream",
     "text": [
      "Model lmstudio-ai/gemma-2b-it-GGUF erfolgreich geladen mit n_ctx=537\n",
      "Prompt finished in (seconds):  13.5\n",
      "Metric Calculation in (seconds):  31.28\n",
      "🏃 View run gemma/news_spec/few_shot_style_persona_to-en_en_2 at: http://127.0.0.1:5000/#/experiments/713590614913207437/runs/cfd3f138d92d468dacaf9f6867448f8c\n",
      "🧪 View experiment at: http://127.0.0.1:5000/#/experiments/713590614913207437\n",
      "Prompt finished in (seconds):  14.69\n",
      "Metric Calculation in (seconds):  31.45\n",
      "🏃 View run gemma/news_spec/few_shot_style_persona_to-en_de_2 at: http://127.0.0.1:5000/#/experiments/713590614913207437/runs/2dff08beb7cd4ce2ab1403d8b3ce2ed1\n",
      "🧪 View experiment at: http://127.0.0.1:5000/#/experiments/713590614913207437\n",
      "Prompt finished in (seconds):  16.15\n",
      "Metric Calculation in (seconds):  51.41\n",
      "🏃 View run gemma/news_spec/few_shot_style_persona_to-de_en_2 at: http://127.0.0.1:5000/#/experiments/713590614913207437/runs/377b880f3350450997aea0d460760914\n",
      "🧪 View experiment at: http://127.0.0.1:5000/#/experiments/713590614913207437\n",
      "Prompt finished in (seconds):  16.79\n",
      "Metric Calculation in (seconds):  78.13\n",
      "🏃 View run gemma/news_spec/few_shot_style_persona_to-de_de_2 at: http://127.0.0.1:5000/#/experiments/713590614913207437/runs/b0499a1b72a04ea59475041e1f316b8b\n",
      "🧪 View experiment at: http://127.0.0.1:5000/#/experiments/713590614913207437\n"
     ]
    },
    {
     "name": "stderr",
     "output_type": "stream",
     "text": [
      "llama_init_from_model: n_ctx_per_seq (512) < n_ctx_train (8192) -- the full capacity of the model will not be utilized\n"
     ]
    },
    {
     "name": "stdout",
     "output_type": "stream",
     "text": [
      "Model lmstudio-ai/gemma-2b-it-GGUF erfolgreich geladen mit n_ctx=512\n",
      "estimated_max_tokens: 499.5; n_ctx: 549\n"
     ]
    },
    {
     "name": "stderr",
     "output_type": "stream",
     "text": [
      "llama_init_from_model: n_ctx_per_seq (576) < n_ctx_train (8192) -- the full capacity of the model will not be utilized\n"
     ]
    },
    {
     "name": "stdout",
     "output_type": "stream",
     "text": [
      "Model lmstudio-ai/gemma-2b-it-GGUF erfolgreich geladen mit n_ctx=549\n",
      "Prompt finished in (seconds):  15.99\n",
      "Metric Calculation in (seconds):  55.86\n",
      "🏃 View run gemma/pop_science/few_shot_style_persona_to-en_en_2 at: http://127.0.0.1:5000/#/experiments/819534162661537410/runs/007249e360af4290a9fa944fe3e8f238\n",
      "🧪 View experiment at: http://127.0.0.1:5000/#/experiments/819534162661537410\n",
      "Prompt finished in (seconds):  15.16\n",
      "Metric Calculation in (seconds):  31.96\n",
      "🏃 View run gemma/pop_science/few_shot_style_persona_to-en_de_2 at: http://127.0.0.1:5000/#/experiments/819534162661537410/runs/fd0a27bed744488692e80346829cf74d\n",
      "🧪 View experiment at: http://127.0.0.1:5000/#/experiments/819534162661537410\n",
      "Prompt finished in (seconds):  17.75\n",
      "Metric Calculation in (seconds):  35.51\n",
      "🏃 View run gemma/pop_science/few_shot_style_persona_to-de_en_2 at: http://127.0.0.1:5000/#/experiments/819534162661537410/runs/ead2ded70c984affbef586bf44f7eed0\n",
      "🧪 View experiment at: http://127.0.0.1:5000/#/experiments/819534162661537410\n",
      "Prompt finished in (seconds):  15.73\n",
      "Metric Calculation in (seconds):  33.36\n",
      "🏃 View run gemma/pop_science/few_shot_style_persona_to-de_de_2 at: http://127.0.0.1:5000/#/experiments/819534162661537410/runs/99f4ff61515a40b9b405f726f408d31a\n",
      "🧪 View experiment at: http://127.0.0.1:5000/#/experiments/819534162661537410\n"
     ]
    },
    {
     "name": "stderr",
     "output_type": "stream",
     "text": [
      "llama_init_from_model: n_ctx_per_seq (512) < n_ctx_train (8192) -- the full capacity of the model will not be utilized\n"
     ]
    },
    {
     "name": "stdout",
     "output_type": "stream",
     "text": [
      "Model lmstudio-ai/gemma-2b-it-GGUF erfolgreich geladen mit n_ctx=512\n",
      "estimated_max_tokens: 916.5; n_ctx: 1008\n"
     ]
    },
    {
     "name": "stderr",
     "output_type": "stream",
     "text": [
      "llama_init_from_model: n_ctx_per_seq (1024) < n_ctx_train (8192) -- the full capacity of the model will not be utilized\n"
     ]
    },
    {
     "name": "stdout",
     "output_type": "stream",
     "text": [
      "Model lmstudio-ai/gemma-2b-it-GGUF erfolgreich geladen mit n_ctx=1008\n",
      "Prompt finished in (seconds):  31.56\n",
      "Metric Calculation in (seconds):  64.37\n",
      "🏃 View run gemma/science/few_shot_style_persona_to-en_en_2 at: http://127.0.0.1:5000/#/experiments/895795565739563094/runs/e90abb9cce034c18b49ad0b3c1b54f31\n",
      "🧪 View experiment at: http://127.0.0.1:5000/#/experiments/895795565739563094\n",
      "Prompt finished in (seconds):  30.65\n",
      "Metric Calculation in (seconds):  63.01\n",
      "🏃 View run gemma/science/few_shot_style_persona_to-en_de_2 at: http://127.0.0.1:5000/#/experiments/895795565739563094/runs/dd08555b215e43a393a81a9b7c950aa7\n",
      "🧪 View experiment at: http://127.0.0.1:5000/#/experiments/895795565739563094\n",
      "Prompt finished in (seconds):  4.51\n",
      "Metric Calculation in (seconds):  42.41\n",
      "🏃 View run gemma/science/few_shot_style_persona_to-de_en_2 at: http://127.0.0.1:5000/#/experiments/895795565739563094/runs/754523fa70474fb7a7e76b52497cb003\n",
      "🧪 View experiment at: http://127.0.0.1:5000/#/experiments/895795565739563094\n",
      "Prompt finished in (seconds):  31.69\n",
      "Metric Calculation in (seconds):  62.6\n",
      "🏃 View run gemma/science/few_shot_style_persona_to-de_de_2 at: http://127.0.0.1:5000/#/experiments/895795565739563094/runs/93509fe0bbc746639d1b9f5f5aad4b6d\n",
      "🧪 View experiment at: http://127.0.0.1:5000/#/experiments/895795565739563094\n"
     ]
    },
    {
     "name": "stderr",
     "output_type": "stream",
     "text": [
      "llama_init_from_model: n_ctx_per_seq (512) < n_ctx_train (131072) -- the full capacity of the model will not be utilized\n"
     ]
    },
    {
     "name": "stdout",
     "output_type": "stream",
     "text": [
      "Model hugging-quants/Llama-3.2-3B-Instruct-Q8_0-GGUF erfolgreich geladen mit n_ctx=512\n",
      "estimated_max_tokens: 547.5; n_ctx: 602\n"
     ]
    },
    {
     "name": "stderr",
     "output_type": "stream",
     "text": [
      "llama_init_from_model: n_ctx_per_seq (608) < n_ctx_train (131072) -- the full capacity of the model will not be utilized\n"
     ]
    },
    {
     "name": "stdout",
     "output_type": "stream",
     "text": [
      "Model hugging-quants/Llama-3.2-3B-Instruct-Q8_0-GGUF erfolgreich geladen mit n_ctx=602\n",
      "Prompt finished in (seconds):  24.62\n",
      "Metric Calculation in (seconds):  36.31\n",
      "🏃 View run llama32/easy/few_shot_style_persona_to-en_en_2 at: http://127.0.0.1:5000/#/experiments/170611153105097398/runs/3dcd8eb620e644a0849a063f84e5bd36\n",
      "🧪 View experiment at: http://127.0.0.1:5000/#/experiments/170611153105097398\n",
      "Prompt finished in (seconds):  50.71\n",
      "Metric Calculation in (seconds):  48.96\n",
      "🏃 View run llama32/easy/few_shot_style_persona_to-en_de_2 at: http://127.0.0.1:5000/#/experiments/170611153105097398/runs/67df6f8491344c678c2873766534fbf2\n",
      "🧪 View experiment at: http://127.0.0.1:5000/#/experiments/170611153105097398\n",
      "Prompt finished in (seconds):  23.63\n",
      "Metric Calculation in (seconds):  35.04\n",
      "🏃 View run llama32/easy/few_shot_style_persona_to-de_en_2 at: http://127.0.0.1:5000/#/experiments/170611153105097398/runs/98ea765e5ecc4b52bd058ef936ee08f2\n",
      "🧪 View experiment at: http://127.0.0.1:5000/#/experiments/170611153105097398\n",
      "Prompt finished in (seconds):  25.09\n",
      "Metric Calculation in (seconds):  45.93\n",
      "🏃 View run llama32/easy/few_shot_style_persona_to-de_de_2 at: http://127.0.0.1:5000/#/experiments/170611153105097398/runs/15722e3758ab490eb30a0a2dc3cd9330\n",
      "🧪 View experiment at: http://127.0.0.1:5000/#/experiments/170611153105097398\n"
     ]
    },
    {
     "name": "stderr",
     "output_type": "stream",
     "text": [
      "llama_init_from_model: n_ctx_per_seq (512) < n_ctx_train (131072) -- the full capacity of the model will not be utilized\n"
     ]
    },
    {
     "name": "stdout",
     "output_type": "stream",
     "text": [
      "Model hugging-quants/Llama-3.2-3B-Instruct-Q8_0-GGUF erfolgreich geladen mit n_ctx=512\n",
      "estimated_max_tokens: 406.5; n_ctx: 447\n"
     ]
    },
    {
     "name": "stderr",
     "output_type": "stream",
     "text": [
      "llama_init_from_model: n_ctx_per_seq (448) < n_ctx_train (131072) -- the full capacity of the model will not be utilized\n"
     ]
    },
    {
     "name": "stdout",
     "output_type": "stream",
     "text": [
      "Model hugging-quants/Llama-3.2-3B-Instruct-Q8_0-GGUF erfolgreich geladen mit n_ctx=447\n",
      "Prompt finished in (seconds):  17.95\n",
      "Metric Calculation in (seconds):  26.53\n",
      "🏃 View run llama32/news_gen/few_shot_style_persona_to-en_en_2 at: http://127.0.0.1:5000/#/experiments/379656095678811037/runs/d41f1d24f31e4e87930c1169e68b850a\n",
      "🧪 View experiment at: http://127.0.0.1:5000/#/experiments/379656095678811037\n",
      "Prompt finished in (seconds):  14.05\n",
      "Metric Calculation in (seconds):  23.62\n",
      "🏃 View run llama32/news_gen/few_shot_style_persona_to-en_de_2 at: http://127.0.0.1:5000/#/experiments/379656095678811037/runs/b4f7d36c3f0544de978fbd329e7e99bb\n",
      "🧪 View experiment at: http://127.0.0.1:5000/#/experiments/379656095678811037\n",
      "Prompt finished in (seconds):  20.64\n",
      "Metric Calculation in (seconds):  27.76\n",
      "🏃 View run llama32/news_gen/few_shot_style_persona_to-de_en_2 at: http://127.0.0.1:5000/#/experiments/379656095678811037/runs/203a924636064d12bc0513a20197599a\n",
      "🧪 View experiment at: http://127.0.0.1:5000/#/experiments/379656095678811037\n",
      "Prompt finished in (seconds):  29.97\n",
      "Metric Calculation in (seconds):  30.71\n",
      "🏃 View run llama32/news_gen/few_shot_style_persona_to-de_de_2 at: http://127.0.0.1:5000/#/experiments/379656095678811037/runs/7bea37bfc95644aaba620009fecf0ba1\n",
      "🧪 View experiment at: http://127.0.0.1:5000/#/experiments/379656095678811037\n"
     ]
    },
    {
     "name": "stderr",
     "output_type": "stream",
     "text": [
      "llama_init_from_model: n_ctx_per_seq (512) < n_ctx_train (131072) -- the full capacity of the model will not be utilized\n"
     ]
    },
    {
     "name": "stdout",
     "output_type": "stream",
     "text": [
      "Model hugging-quants/Llama-3.2-3B-Instruct-Q8_0-GGUF erfolgreich geladen mit n_ctx=512\n",
      "estimated_max_tokens: 558.0; n_ctx: 613\n"
     ]
    },
    {
     "name": "stderr",
     "output_type": "stream",
     "text": [
      "llama_init_from_model: n_ctx_per_seq (640) < n_ctx_train (131072) -- the full capacity of the model will not be utilized\n"
     ]
    },
    {
     "name": "stdout",
     "output_type": "stream",
     "text": [
      "Model hugging-quants/Llama-3.2-3B-Instruct-Q8_0-GGUF erfolgreich geladen mit n_ctx=613\n",
      "Prompt finished in (seconds):  18.99\n",
      "Metric Calculation in (seconds):  32.61\n",
      "🏃 View run llama32/news_spec/few_shot_style_persona_to-en_en_2 at: http://127.0.0.1:5000/#/experiments/194158564450517751/runs/4b22b8658e1946ec92898228e3485195\n",
      "🧪 View experiment at: http://127.0.0.1:5000/#/experiments/194158564450517751\n",
      "Prompt finished in (seconds):  52.52\n",
      "Metric Calculation in (seconds):  49.22\n",
      "🏃 View run llama32/news_spec/few_shot_style_persona_to-en_de_2 at: http://127.0.0.1:5000/#/experiments/194158564450517751/runs/389cefdf937b492ebd980093e691f7d5\n",
      "🧪 View experiment at: http://127.0.0.1:5000/#/experiments/194158564450517751\n",
      "Prompt finished in (seconds):  40.05\n",
      "Metric Calculation in (seconds):  40.48\n",
      "🏃 View run llama32/news_spec/few_shot_style_persona_to-de_en_2 at: http://127.0.0.1:5000/#/experiments/194158564450517751/runs/240d5f991b1f4554a00d60b8dc4c77d2\n",
      "🧪 View experiment at: http://127.0.0.1:5000/#/experiments/194158564450517751\n",
      "Prompt finished in (seconds):  58.57\n",
      "Metric Calculation in (seconds):  51.48\n",
      "🏃 View run llama32/news_spec/few_shot_style_persona_to-de_de_2 at: http://127.0.0.1:5000/#/experiments/194158564450517751/runs/d205bb0ee05f4906bc1ef0a54046627f\n",
      "🧪 View experiment at: http://127.0.0.1:5000/#/experiments/194158564450517751\n"
     ]
    },
    {
     "name": "stderr",
     "output_type": "stream",
     "text": [
      "llama_init_from_model: n_ctx_per_seq (512) < n_ctx_train (131072) -- the full capacity of the model will not be utilized\n"
     ]
    },
    {
     "name": "stdout",
     "output_type": "stream",
     "text": [
      "Model hugging-quants/Llama-3.2-3B-Instruct-Q8_0-GGUF erfolgreich geladen mit n_ctx=512\n",
      "estimated_max_tokens: 570.0; n_ctx: 627\n"
     ]
    },
    {
     "name": "stderr",
     "output_type": "stream",
     "text": [
      "llama_init_from_model: n_ctx_per_seq (640) < n_ctx_train (131072) -- the full capacity of the model will not be utilized\n"
     ]
    },
    {
     "name": "stdout",
     "output_type": "stream",
     "text": [
      "Model hugging-quants/Llama-3.2-3B-Instruct-Q8_0-GGUF erfolgreich geladen mit n_ctx=627\n",
      "Prompt finished in (seconds):  64.35\n",
      "Metric Calculation in (seconds):  53.06\n",
      "🏃 View run llama32/pop_science/few_shot_style_persona_to-en_en_2 at: http://127.0.0.1:5000/#/experiments/553009959054917340/runs/081be6ea0d5d4fb19ee235b8c44eba0f\n",
      "🧪 View experiment at: http://127.0.0.1:5000/#/experiments/553009959054917340\n",
      "Prompt finished in (seconds):  52.95\n",
      "Metric Calculation in (seconds):  47.79\n",
      "🏃 View run llama32/pop_science/few_shot_style_persona_to-en_de_2 at: http://127.0.0.1:5000/#/experiments/553009959054917340/runs/eb279752ca794036847bb0c2babf5c15\n",
      "🧪 View experiment at: http://127.0.0.1:5000/#/experiments/553009959054917340\n",
      "Prompt finished in (seconds):  60.94\n",
      "Metric Calculation in (seconds):  52.89\n",
      "🏃 View run llama32/pop_science/few_shot_style_persona_to-de_en_2 at: http://127.0.0.1:5000/#/experiments/553009959054917340/runs/c0d8d25321d44b829ea82f24316838a5\n",
      "🧪 View experiment at: http://127.0.0.1:5000/#/experiments/553009959054917340\n",
      "Prompt finished in (seconds):  58.62\n",
      "Metric Calculation in (seconds):  47.01\n",
      "🏃 View run llama32/pop_science/few_shot_style_persona_to-de_de_2 at: http://127.0.0.1:5000/#/experiments/553009959054917340/runs/5c7716e9f6e24bea87db533814ec5a8f\n",
      "🧪 View experiment at: http://127.0.0.1:5000/#/experiments/553009959054917340\n"
     ]
    },
    {
     "name": "stderr",
     "output_type": "stream",
     "text": [
      "llama_init_from_model: n_ctx_per_seq (512) < n_ctx_train (131072) -- the full capacity of the model will not be utilized\n"
     ]
    },
    {
     "name": "stdout",
     "output_type": "stream",
     "text": [
      "Model hugging-quants/Llama-3.2-3B-Instruct-Q8_0-GGUF erfolgreich geladen mit n_ctx=512\n",
      "estimated_max_tokens: 973.5; n_ctx: 1070\n"
     ]
    },
    {
     "name": "stderr",
     "output_type": "stream",
     "text": [
      "llama_init_from_model: n_ctx_per_seq (1088) < n_ctx_train (131072) -- the full capacity of the model will not be utilized\n"
     ]
    },
    {
     "name": "stdout",
     "output_type": "stream",
     "text": [
      "Model hugging-quants/Llama-3.2-3B-Instruct-Q8_0-GGUF erfolgreich geladen mit n_ctx=1070\n",
      "Prompt finished in (seconds):  70.27\n",
      "Metric Calculation in (seconds):  105.71\n",
      "🏃 View run llama32/science/few_shot_style_persona_to-en_en_2 at: http://127.0.0.1:5000/#/experiments/248431796146488211/runs/ee3b4982d5284f5f82dd62ebcef27def\n",
      "🧪 View experiment at: http://127.0.0.1:5000/#/experiments/248431796146488211\n",
      "Prompt finished in (seconds):  86.08\n",
      "Metric Calculation in (seconds):  116.97\n",
      "🏃 View run llama32/science/few_shot_style_persona_to-en_de_2 at: http://127.0.0.1:5000/#/experiments/248431796146488211/runs/fb25a95d8a4348408447d4d86dc33d13\n",
      "🧪 View experiment at: http://127.0.0.1:5000/#/experiments/248431796146488211\n",
      "Prompt finished in (seconds):  51.22\n",
      "Metric Calculation in (seconds):  71.27\n",
      "🏃 View run llama32/science/few_shot_style_persona_to-de_en_2 at: http://127.0.0.1:5000/#/experiments/248431796146488211/runs/eb569f171ba249e1a6f192a1ea7d6212\n",
      "🧪 View experiment at: http://127.0.0.1:5000/#/experiments/248431796146488211\n",
      "Prompt finished in (seconds):  106.9\n",
      "Metric Calculation in (seconds):  117.67\n",
      "🏃 View run llama32/science/few_shot_style_persona_to-de_de_2 at: http://127.0.0.1:5000/#/experiments/248431796146488211/runs/864358001bce49078098476ab5b7beef\n",
      "🧪 View experiment at: http://127.0.0.1:5000/#/experiments/248431796146488211\n"
     ]
    },
    {
     "name": "stderr",
     "output_type": "stream",
     "text": [
      "llama_init_from_model: n_ctx_per_seq (512) < n_ctx_train (131072) -- the full capacity of the model will not be utilized\n"
     ]
    },
    {
     "name": "stdout",
     "output_type": "stream",
     "text": [
      "Model lmstudio-community/Meta-Llama-3.1-8B-Instruct-GGUF erfolgreich geladen mit n_ctx=512\n",
      "estimated_max_tokens: 547.5; n_ctx: 602\n"
     ]
    },
    {
     "name": "stderr",
     "output_type": "stream",
     "text": [
      "llama_init_from_model: n_ctx_per_seq (608) < n_ctx_train (131072) -- the full capacity of the model will not be utilized\n"
     ]
    },
    {
     "name": "stdout",
     "output_type": "stream",
     "text": [
      "Model lmstudio-community/Meta-Llama-3.1-8B-Instruct-GGUF erfolgreich geladen mit n_ctx=602\n",
      "Prompt finished in (seconds):  88.9\n",
      "Metric Calculation in (seconds):  54.82\n",
      "🏃 View run llama31/easy/few_shot_style_persona_to-en_en_2 at: http://127.0.0.1:5000/#/experiments/496790586212187793/runs/ce7255f1878a44e6b91ebc26d01c1714\n",
      "🧪 View experiment at: http://127.0.0.1:5000/#/experiments/496790586212187793\n",
      "Prompt finished in (seconds):  83.99\n",
      "Metric Calculation in (seconds):  50.91\n",
      "🏃 View run llama31/easy/few_shot_style_persona_to-en_de_2 at: http://127.0.0.1:5000/#/experiments/496790586212187793/runs/a9162e29b87b4a14b9563ff6054aa99b\n",
      "🧪 View experiment at: http://127.0.0.1:5000/#/experiments/496790586212187793\n",
      "Prompt finished in (seconds):  94.35\n",
      "Metric Calculation in (seconds):  56.69\n",
      "🏃 View run llama31/easy/few_shot_style_persona_to-de_en_2 at: http://127.0.0.1:5000/#/experiments/496790586212187793/runs/c79a4ce3c2d743569276f5729cc4216f\n",
      "🧪 View experiment at: http://127.0.0.1:5000/#/experiments/496790586212187793\n",
      "Prompt finished in (seconds):  90.52\n",
      "Metric Calculation in (seconds):  50.12\n",
      "🏃 View run llama31/easy/few_shot_style_persona_to-de_de_2 at: http://127.0.0.1:5000/#/experiments/496790586212187793/runs/284c676fe04845ecb4c477db48883fb0\n",
      "🧪 View experiment at: http://127.0.0.1:5000/#/experiments/496790586212187793\n"
     ]
    },
    {
     "name": "stderr",
     "output_type": "stream",
     "text": [
      "llama_init_from_model: n_ctx_per_seq (512) < n_ctx_train (131072) -- the full capacity of the model will not be utilized\n"
     ]
    },
    {
     "name": "stdout",
     "output_type": "stream",
     "text": [
      "Model lmstudio-community/Meta-Llama-3.1-8B-Instruct-GGUF erfolgreich geladen mit n_ctx=512\n",
      "estimated_max_tokens: 406.5; n_ctx: 447\n"
     ]
    },
    {
     "name": "stderr",
     "output_type": "stream",
     "text": [
      "llama_init_from_model: n_ctx_per_seq (448) < n_ctx_train (131072) -- the full capacity of the model will not be utilized\n"
     ]
    },
    {
     "name": "stdout",
     "output_type": "stream",
     "text": [
      "Model lmstudio-community/Meta-Llama-3.1-8B-Instruct-GGUF erfolgreich geladen mit n_ctx=447\n",
      "Prompt finished in (seconds):  63.2\n",
      "Metric Calculation in (seconds):  37.25\n",
      "🏃 View run llama31/news_gen/few_shot_style_persona_to-en_en_2 at: http://127.0.0.1:5000/#/experiments/378317835055917962/runs/31d10fe58e7f4bfb92c07925d0ee5f87\n",
      "🧪 View experiment at: http://127.0.0.1:5000/#/experiments/378317835055917962\n",
      "Prompt finished in (seconds):  59.42\n",
      "Metric Calculation in (seconds):  31.78\n",
      "🏃 View run llama31/news_gen/few_shot_style_persona_to-en_de_2 at: http://127.0.0.1:5000/#/experiments/378317835055917962/runs/d0d788c5567f4b9495333c64bcd5d508\n",
      "🧪 View experiment at: http://127.0.0.1:5000/#/experiments/378317835055917962\n",
      "Prompt finished in (seconds):  67.66\n",
      "Metric Calculation in (seconds):  37.17\n",
      "🏃 View run llama31/news_gen/few_shot_style_persona_to-de_en_2 at: http://127.0.0.1:5000/#/experiments/378317835055917962/runs/cc501f2df94c41e59d20d6ebb8835917\n",
      "🧪 View experiment at: http://127.0.0.1:5000/#/experiments/378317835055917962\n",
      "Prompt finished in (seconds):  63.58\n",
      "Metric Calculation in (seconds):  41.99\n",
      "🏃 View run llama31/news_gen/few_shot_style_persona_to-de_de_2 at: http://127.0.0.1:5000/#/experiments/378317835055917962/runs/5f9d784c145a46058ee572fd93e59414\n",
      "🧪 View experiment at: http://127.0.0.1:5000/#/experiments/378317835055917962\n"
     ]
    },
    {
     "name": "stderr",
     "output_type": "stream",
     "text": [
      "llama_init_from_model: n_ctx_per_seq (512) < n_ctx_train (131072) -- the full capacity of the model will not be utilized\n"
     ]
    },
    {
     "name": "stdout",
     "output_type": "stream",
     "text": [
      "Model lmstudio-community/Meta-Llama-3.1-8B-Instruct-GGUF erfolgreich geladen mit n_ctx=512\n",
      "estimated_max_tokens: 558.0; n_ctx: 613\n"
     ]
    },
    {
     "name": "stderr",
     "output_type": "stream",
     "text": [
      "llama_init_from_model: n_ctx_per_seq (640) < n_ctx_train (131072) -- the full capacity of the model will not be utilized\n"
     ]
    },
    {
     "name": "stdout",
     "output_type": "stream",
     "text": [
      "Model lmstudio-community/Meta-Llama-3.1-8B-Instruct-GGUF erfolgreich geladen mit n_ctx=613\n",
      "Prompt finished in (seconds):  94.12\n",
      "Metric Calculation in (seconds):  62.39\n",
      "🏃 View run llama31/news_spec/few_shot_style_persona_to-en_en_2 at: http://127.0.0.1:5000/#/experiments/278262578605400461/runs/a4c87b193cd74ce6bb45c39d0f085ada\n",
      "🧪 View experiment at: http://127.0.0.1:5000/#/experiments/278262578605400461\n",
      "Prompt finished in (seconds):  90.49\n",
      "Metric Calculation in (seconds):  43.82\n",
      "🏃 View run llama31/news_spec/few_shot_style_persona_to-en_de_2 at: http://127.0.0.1:5000/#/experiments/278262578605400461/runs/182b5aedc80e437ca2254dd074c4e9eb\n",
      "🧪 View experiment at: http://127.0.0.1:5000/#/experiments/278262578605400461\n",
      "Prompt finished in (seconds):  100.96\n",
      "Metric Calculation in (seconds):  59.41\n",
      "🏃 View run llama31/news_spec/few_shot_style_persona_to-de_en_2 at: http://127.0.0.1:5000/#/experiments/278262578605400461/runs/385a9d6b2b15495e95c4a2fde1f771ec\n",
      "🧪 View experiment at: http://127.0.0.1:5000/#/experiments/278262578605400461\n",
      "Prompt finished in (seconds):  97.42\n",
      "Metric Calculation in (seconds):  52.73\n",
      "🏃 View run llama31/news_spec/few_shot_style_persona_to-de_de_2 at: http://127.0.0.1:5000/#/experiments/278262578605400461/runs/404af42f7613405e8d171a0e78db6ee6\n",
      "🧪 View experiment at: http://127.0.0.1:5000/#/experiments/278262578605400461\n"
     ]
    },
    {
     "name": "stderr",
     "output_type": "stream",
     "text": [
      "llama_init_from_model: n_ctx_per_seq (512) < n_ctx_train (131072) -- the full capacity of the model will not be utilized\n"
     ]
    },
    {
     "name": "stdout",
     "output_type": "stream",
     "text": [
      "Model lmstudio-community/Meta-Llama-3.1-8B-Instruct-GGUF erfolgreich geladen mit n_ctx=512\n",
      "estimated_max_tokens: 570.0; n_ctx: 627\n"
     ]
    },
    {
     "name": "stderr",
     "output_type": "stream",
     "text": [
      "llama_init_from_model: n_ctx_per_seq (640) < n_ctx_train (131072) -- the full capacity of the model will not be utilized\n"
     ]
    },
    {
     "name": "stdout",
     "output_type": "stream",
     "text": [
      "Model lmstudio-community/Meta-Llama-3.1-8B-Instruct-GGUF erfolgreich geladen mit n_ctx=627\n",
      "Prompt finished in (seconds):  93.15\n",
      "Metric Calculation in (seconds):  55.81\n",
      "🏃 View run llama31/pop_science/few_shot_style_persona_to-en_en_2 at: http://127.0.0.1:5000/#/experiments/358136329887025901/runs/2b2869d4ae954fa0a088bf56ce4c7009\n",
      "🧪 View experiment at: http://127.0.0.1:5000/#/experiments/358136329887025901\n",
      "Prompt finished in (seconds):  89.41\n",
      "Metric Calculation in (seconds):  52.71\n",
      "🏃 View run llama31/pop_science/few_shot_style_persona_to-en_de_2 at: http://127.0.0.1:5000/#/experiments/358136329887025901/runs/8128d38ed37442028d2dafc9e12ca28b\n",
      "🧪 View experiment at: http://127.0.0.1:5000/#/experiments/358136329887025901\n",
      "Prompt finished in (seconds):  100.93\n",
      "Metric Calculation in (seconds):  55.55\n",
      "🏃 View run llama31/pop_science/few_shot_style_persona_to-de_en_2 at: http://127.0.0.1:5000/#/experiments/358136329887025901/runs/63678a46d4fd46dbab409a974711dc11\n",
      "🧪 View experiment at: http://127.0.0.1:5000/#/experiments/358136329887025901\n",
      "Prompt finished in (seconds):  97.35\n",
      "Metric Calculation in (seconds):  52.77\n",
      "🏃 View run llama31/pop_science/few_shot_style_persona_to-de_de_2 at: http://127.0.0.1:5000/#/experiments/358136329887025901/runs/541f12d4918243c380f998f756ddd993\n",
      "🧪 View experiment at: http://127.0.0.1:5000/#/experiments/358136329887025901\n"
     ]
    },
    {
     "name": "stderr",
     "output_type": "stream",
     "text": [
      "llama_init_from_model: n_ctx_per_seq (512) < n_ctx_train (131072) -- the full capacity of the model will not be utilized\n"
     ]
    },
    {
     "name": "stdout",
     "output_type": "stream",
     "text": [
      "Model lmstudio-community/Meta-Llama-3.1-8B-Instruct-GGUF erfolgreich geladen mit n_ctx=512\n",
      "estimated_max_tokens: 973.5; n_ctx: 1070\n"
     ]
    },
    {
     "name": "stderr",
     "output_type": "stream",
     "text": [
      "llama_init_from_model: n_ctx_per_seq (1088) < n_ctx_train (131072) -- the full capacity of the model will not be utilized\n"
     ]
    },
    {
     "name": "stdout",
     "output_type": "stream",
     "text": [
      "Model lmstudio-community/Meta-Llama-3.1-8B-Instruct-GGUF erfolgreich geladen mit n_ctx=1070\n",
      "Prompt finished in (seconds):  163.18\n",
      "Metric Calculation in (seconds):  128.44\n",
      "🏃 View run llama31/science/few_shot_style_persona_to-en_en_2 at: http://127.0.0.1:5000/#/experiments/958464439758456234/runs/d7012e29c7344549894104115421a4e8\n",
      "🧪 View experiment at: http://127.0.0.1:5000/#/experiments/958464439758456234\n",
      "Prompt finished in (seconds):  157.81\n",
      "Metric Calculation in (seconds):  123.42\n",
      "🏃 View run llama31/science/few_shot_style_persona_to-en_de_2 at: http://127.0.0.1:5000/#/experiments/958464439758456234/runs/9103ffbcd797460196be31a92b2a9274\n",
      "🧪 View experiment at: http://127.0.0.1:5000/#/experiments/958464439758456234\n",
      "Prompt finished in (seconds):  180.4\n",
      "Metric Calculation in (seconds):  126.31\n",
      "🏃 View run llama31/science/few_shot_style_persona_to-de_en_2 at: http://127.0.0.1:5000/#/experiments/958464439758456234/runs/c7ffd83de70b4f56ae7d20bc0ef25576\n",
      "🧪 View experiment at: http://127.0.0.1:5000/#/experiments/958464439758456234\n",
      "Prompt finished in (seconds):  175.88\n",
      "Metric Calculation in (seconds):  115.99\n",
      "🏃 View run llama31/science/few_shot_style_persona_to-de_de_2 at: http://127.0.0.1:5000/#/experiments/958464439758456234/runs/7d397cfba85648c8abd9644eb194c5de\n",
      "🧪 View experiment at: http://127.0.0.1:5000/#/experiments/958464439758456234\n",
      "Fertig mit der Pipeline. Speichere Ergebnisse...\n",
      "Pipeline abgeschlossen. Ergebnisse gespeichert.\n"
     ]
    }
   ],
   "execution_count": 28
  }
 ],
 "metadata": {
  "kernelspec": {
   "display_name": "Python 3",
   "language": "python",
   "name": "python3"
  },
  "language_info": {
   "codemirror_mode": {
    "name": "ipython",
    "version": 2
   },
   "file_extension": ".py",
   "mimetype": "text/x-python",
   "name": "python",
   "nbconvert_exporter": "python",
   "pygments_lexer": "ipython2",
   "version": "2.7.6"
  }
 },
 "nbformat": 4,
 "nbformat_minor": 5
}
